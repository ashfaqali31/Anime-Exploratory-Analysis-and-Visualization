{
 "cells": [
  {
   "cell_type": "markdown",
   "id": "632cade0-bb22-4c7c-9f7c-4945e3f30db9",
   "metadata": {},
   "source": [
    "# Collect And Import Libraries"
   ]
  },
  {
   "cell_type": "code",
   "execution_count": 2,
   "id": "22fa12cc-712e-4d9c-a585-9b9a5ccf201b",
   "metadata": {},
   "outputs": [],
   "source": [
    "import numpy as np\n",
    "import pandas as pd\n",
    "import matplotlib.pyplot as plt\n",
    "import seaborn as sns\n",
    "import plotly.express as px"
   ]
  },
  {
   "cell_type": "code",
   "execution_count": 3,
   "id": "673141fc-02c5-47e8-8fd4-49a69dc5f691",
   "metadata": {},
   "outputs": [],
   "source": [
    "anime_data = pd.read_csv('Top_Anime_data.csv')"
   ]
  },
  {
   "cell_type": "code",
   "execution_count": 4,
   "id": "5f91cef3-108e-4883-97ed-fc6ae7b5853b",
   "metadata": {},
   "outputs": [
    {
     "data": {
      "text/html": [
       "<div>\n",
       "<style scoped>\n",
       "    .dataframe tbody tr th:only-of-type {\n",
       "        vertical-align: middle;\n",
       "    }\n",
       "\n",
       "    .dataframe tbody tr th {\n",
       "        vertical-align: top;\n",
       "    }\n",
       "\n",
       "    .dataframe thead th {\n",
       "        text-align: right;\n",
       "    }\n",
       "</style>\n",
       "<table border=\"1\" class=\"dataframe\">\n",
       "  <thead>\n",
       "    <tr style=\"text-align: right;\">\n",
       "      <th></th>\n",
       "      <th>Score</th>\n",
       "      <th>Popularity</th>\n",
       "      <th>Rank</th>\n",
       "      <th>Members</th>\n",
       "      <th>Description</th>\n",
       "      <th>Synonyms</th>\n",
       "      <th>Japanese</th>\n",
       "      <th>English</th>\n",
       "      <th>Type</th>\n",
       "      <th>Episodes</th>\n",
       "      <th>...</th>\n",
       "      <th>Premiered</th>\n",
       "      <th>Broadcast</th>\n",
       "      <th>Producers</th>\n",
       "      <th>Licensors</th>\n",
       "      <th>Studios</th>\n",
       "      <th>Source</th>\n",
       "      <th>Genres</th>\n",
       "      <th>Demographic</th>\n",
       "      <th>Duration</th>\n",
       "      <th>Rating</th>\n",
       "    </tr>\n",
       "  </thead>\n",
       "  <tbody>\n",
       "    <tr>\n",
       "      <th>0</th>\n",
       "      <td>9.38</td>\n",
       "      <td>284</td>\n",
       "      <td>1</td>\n",
       "      <td>710</td>\n",
       "      <td>During their decade-long quest to defeat the D...</td>\n",
       "      <td>Frieren at the Funeral</td>\n",
       "      <td>葬送のフリーレン</td>\n",
       "      <td>Frieren: Beyond Journey's End</td>\n",
       "      <td>TV</td>\n",
       "      <td>28</td>\n",
       "      <td>...</td>\n",
       "      <td>Fall 2023</td>\n",
       "      <td>Fridays at 23:00 (JST)</td>\n",
       "      <td>Aniplex, Dentsu, Shogakukan-Shueisha Productio...</td>\n",
       "      <td>None found, add some</td>\n",
       "      <td>Madhouse</td>\n",
       "      <td>Manga</td>\n",
       "      <td>AdventureAdventure, DramaDrama, FantasyFantasy</td>\n",
       "      <td>ShounenShounen</td>\n",
       "      <td>24 min. per ep.</td>\n",
       "      <td>PG-13 - Teens 13 or older</td>\n",
       "    </tr>\n",
       "    <tr>\n",
       "      <th>1</th>\n",
       "      <td>9.09</td>\n",
       "      <td>3</td>\n",
       "      <td>2</td>\n",
       "      <td>3</td>\n",
       "      <td>After a horrific alchemy experiment goes wrong...</td>\n",
       "      <td>Hagane no Renkinjutsushi: Fullmetal Alchemist,...</td>\n",
       "      <td>鋼の錬金術師 FULLMETAL ALCHEMIST</td>\n",
       "      <td>Fullmetal Alchemist: Brotherhood</td>\n",
       "      <td>TV</td>\n",
       "      <td>64</td>\n",
       "      <td>...</td>\n",
       "      <td>Spring 2009</td>\n",
       "      <td>Sundays at 17:00 (JST)</td>\n",
       "      <td>Aniplex, Square Enix, Mainichi Broadcasting Sy...</td>\n",
       "      <td>Funimation, Aniplex of America</td>\n",
       "      <td>Bones</td>\n",
       "      <td>Manga</td>\n",
       "      <td>ActionAction, AdventureAdventure, DramaDrama, ...</td>\n",
       "      <td>ShounenShounen</td>\n",
       "      <td>24 min. per ep.</td>\n",
       "      <td>R - 17+ (violence &amp; profanity)</td>\n",
       "    </tr>\n",
       "    <tr>\n",
       "      <th>2</th>\n",
       "      <td>9.07</td>\n",
       "      <td>13</td>\n",
       "      <td>3</td>\n",
       "      <td>2</td>\n",
       "      <td>Eccentric scientist Rintarou Okabe has a never...</td>\n",
       "      <td>NaN</td>\n",
       "      <td>STEINS;GATE</td>\n",
       "      <td>Steins;Gate</td>\n",
       "      <td>TV</td>\n",
       "      <td>24</td>\n",
       "      <td>...</td>\n",
       "      <td>Spring 2011</td>\n",
       "      <td>Wednesdays at 02:05 (JST)</td>\n",
       "      <td>Frontier Works, Media Factory, Kadokawa Shoten...</td>\n",
       "      <td>Funimation</td>\n",
       "      <td>White Fox</td>\n",
       "      <td>Visual novel</td>\n",
       "      <td>DramaDrama, Sci-FiSci-Fi, SuspenseSuspense</td>\n",
       "      <td>NaN</td>\n",
       "      <td>24 min. per ep.</td>\n",
       "      <td>PG-13 - Teens 13 or older</td>\n",
       "    </tr>\n",
       "    <tr>\n",
       "      <th>3</th>\n",
       "      <td>9.06</td>\n",
       "      <td>342</td>\n",
       "      <td>4</td>\n",
       "      <td>630</td>\n",
       "      <td>Gintoki, Shinpachi, and Kagura return as the f...</td>\n",
       "      <td>Gintama' (2015)</td>\n",
       "      <td>銀魂°</td>\n",
       "      <td>Gintama Season 4</td>\n",
       "      <td>TV</td>\n",
       "      <td>51</td>\n",
       "      <td>...</td>\n",
       "      <td>Spring 2015</td>\n",
       "      <td>Wednesdays at 18:00 (JST)</td>\n",
       "      <td>TV Tokyo, Aniplex, Dentsu</td>\n",
       "      <td>Funimation, Crunchyroll</td>\n",
       "      <td>Bandai Namco Pictures</td>\n",
       "      <td>Manga</td>\n",
       "      <td>ActionAction, ComedyComedy, Sci-FiSci-Fi</td>\n",
       "      <td>ShounenShounen</td>\n",
       "      <td>24 min. per ep.</td>\n",
       "      <td>PG-13 - Teens 13 or older</td>\n",
       "    </tr>\n",
       "    <tr>\n",
       "      <th>4</th>\n",
       "      <td>9.05</td>\n",
       "      <td>21</td>\n",
       "      <td>5</td>\n",
       "      <td>2</td>\n",
       "      <td>Seeking to restore humanity's diminishing hope...</td>\n",
       "      <td>NaN</td>\n",
       "      <td>進撃の巨人 Season3 Part.2</td>\n",
       "      <td>Attack on Titan Season 3 Part 2</td>\n",
       "      <td>TV</td>\n",
       "      <td>10</td>\n",
       "      <td>...</td>\n",
       "      <td>Spring 2019</td>\n",
       "      <td>Mondays at 00:10 (JST)</td>\n",
       "      <td>Production I.G, Dentsu, Mainichi Broadcasting ...</td>\n",
       "      <td>Funimation</td>\n",
       "      <td>Wit Studio</td>\n",
       "      <td>Manga</td>\n",
       "      <td>ActionAction, DramaDrama, SuspenseSuspense</td>\n",
       "      <td>ShounenShounen</td>\n",
       "      <td>23 min. per ep.</td>\n",
       "      <td>R - 17+ (violence &amp; profanity)</td>\n",
       "    </tr>\n",
       "  </tbody>\n",
       "</table>\n",
       "<p>5 rows × 22 columns</p>\n",
       "</div>"
      ],
      "text/plain": [
       "   Score  Popularity  Rank  Members  \\\n",
       "0   9.38         284     1      710   \n",
       "1   9.09           3     2        3   \n",
       "2   9.07          13     3        2   \n",
       "3   9.06         342     4      630   \n",
       "4   9.05          21     5        2   \n",
       "\n",
       "                                         Description  \\\n",
       "0  During their decade-long quest to defeat the D...   \n",
       "1  After a horrific alchemy experiment goes wrong...   \n",
       "2  Eccentric scientist Rintarou Okabe has a never...   \n",
       "3  Gintoki, Shinpachi, and Kagura return as the f...   \n",
       "4  Seeking to restore humanity's diminishing hope...   \n",
       "\n",
       "                                            Synonyms  \\\n",
       "0                             Frieren at the Funeral   \n",
       "1  Hagane no Renkinjutsushi: Fullmetal Alchemist,...   \n",
       "2                                                NaN   \n",
       "3                                    Gintama' (2015)   \n",
       "4                                                NaN   \n",
       "\n",
       "                     Japanese                           English Type Episodes  \\\n",
       "0                    葬送のフリーレン     Frieren: Beyond Journey's End   TV       28   \n",
       "1  鋼の錬金術師 FULLMETAL ALCHEMIST  Fullmetal Alchemist: Brotherhood   TV       64   \n",
       "2                 STEINS;GATE                       Steins;Gate   TV       24   \n",
       "3                         銀魂°                  Gintama Season 4   TV       51   \n",
       "4        進撃の巨人 Season3 Part.2   Attack on Titan Season 3 Part 2   TV       10   \n",
       "\n",
       "   ...    Premiered                  Broadcast  \\\n",
       "0  ...    Fall 2023     Fridays at 23:00 (JST)   \n",
       "1  ...  Spring 2009     Sundays at 17:00 (JST)   \n",
       "2  ...  Spring 2011  Wednesdays at 02:05 (JST)   \n",
       "3  ...  Spring 2015  Wednesdays at 18:00 (JST)   \n",
       "4  ...  Spring 2019     Mondays at 00:10 (JST)   \n",
       "\n",
       "                                           Producers  \\\n",
       "0  Aniplex, Dentsu, Shogakukan-Shueisha Productio...   \n",
       "1  Aniplex, Square Enix, Mainichi Broadcasting Sy...   \n",
       "2  Frontier Works, Media Factory, Kadokawa Shoten...   \n",
       "3                          TV Tokyo, Aniplex, Dentsu   \n",
       "4  Production I.G, Dentsu, Mainichi Broadcasting ...   \n",
       "\n",
       "                        Licensors                Studios        Source  \\\n",
       "0            None found, add some               Madhouse         Manga   \n",
       "1  Funimation, Aniplex of America                  Bones         Manga   \n",
       "2                      Funimation              White Fox  Visual novel   \n",
       "3         Funimation, Crunchyroll  Bandai Namco Pictures         Manga   \n",
       "4                      Funimation             Wit Studio         Manga   \n",
       "\n",
       "                                              Genres     Demographic  \\\n",
       "0     AdventureAdventure, DramaDrama, FantasyFantasy  ShounenShounen   \n",
       "1  ActionAction, AdventureAdventure, DramaDrama, ...  ShounenShounen   \n",
       "2         DramaDrama, Sci-FiSci-Fi, SuspenseSuspense             NaN   \n",
       "3           ActionAction, ComedyComedy, Sci-FiSci-Fi  ShounenShounen   \n",
       "4         ActionAction, DramaDrama, SuspenseSuspense  ShounenShounen   \n",
       "\n",
       "          Duration                          Rating  \n",
       "0  24 min. per ep.       PG-13 - Teens 13 or older  \n",
       "1  24 min. per ep.  R - 17+ (violence & profanity)  \n",
       "2  24 min. per ep.       PG-13 - Teens 13 or older  \n",
       "3  24 min. per ep.       PG-13 - Teens 13 or older  \n",
       "4  23 min. per ep.  R - 17+ (violence & profanity)  \n",
       "\n",
       "[5 rows x 22 columns]"
      ]
     },
     "execution_count": 4,
     "metadata": {},
     "output_type": "execute_result"
    }
   ],
   "source": [
    "anime_data.head()"
   ]
  },
  {
   "cell_type": "code",
   "execution_count": 5,
   "id": "b35fa6fb-a05c-486c-b808-7830d2e90bd7",
   "metadata": {},
   "outputs": [
    {
     "data": {
      "text/plain": [
       "Index(['Score', 'Popularity', 'Rank', 'Members', 'Description', 'Synonyms',\n",
       "       'Japanese', 'English', 'Type', 'Episodes', 'Status', 'Aired',\n",
       "       'Premiered', 'Broadcast', 'Producers', 'Licensors', 'Studios', 'Source',\n",
       "       'Genres', 'Demographic', 'Duration', 'Rating'],\n",
       "      dtype='object')"
      ]
     },
     "execution_count": 5,
     "metadata": {},
     "output_type": "execute_result"
    }
   ],
   "source": [
    "anime_data.columns"
   ]
  },
  {
   "cell_type": "code",
   "execution_count": 6,
   "id": "1a5a56cf-5005-4543-9eb3-06a699da5f8c",
   "metadata": {},
   "outputs": [
    {
     "data": {
      "text/plain": [
       "(1000, 22)"
      ]
     },
     "execution_count": 6,
     "metadata": {},
     "output_type": "execute_result"
    }
   ],
   "source": [
    "anime_data.shape"
   ]
  },
  {
   "cell_type": "markdown",
   "id": "97d593ac-8b92-4882-bd55-b77cbd060b42",
   "metadata": {},
   "source": [
    "# Summary Statistic and Data Types"
   ]
  },
  {
   "cell_type": "code",
   "execution_count": 8,
   "id": "f0f19f7f-8af0-40a4-bca8-1d7e059eb346",
   "metadata": {},
   "outputs": [
    {
     "data": {
      "text/html": [
       "<style type=\"text/css\">\n",
       "#T_fd8f5_row0_col0, #T_fd8f5_row0_col2, #T_fd8f5_row0_col3, #T_fd8f5_row7_col1, #T_fd8f5_row7_col2, #T_fd8f5_row7_col3 {\n",
       "  background-color: #08306b;\n",
       "  color: #f1f1f1;\n",
       "}\n",
       "#T_fd8f5_row0_col1 {\n",
       "  background-color: #e7f0fa;\n",
       "  color: #000000;\n",
       "}\n",
       "#T_fd8f5_row1_col0, #T_fd8f5_row5_col0, #T_fd8f5_row6_col0, #T_fd8f5_row7_col0 {\n",
       "  background-color: #f5fafe;\n",
       "  color: #000000;\n",
       "}\n",
       "#T_fd8f5_row1_col1 {\n",
       "  background-color: #d9e8f5;\n",
       "  color: #000000;\n",
       "}\n",
       "#T_fd8f5_row1_col2, #T_fd8f5_row5_col2 {\n",
       "  background-color: #6aaed6;\n",
       "  color: #f1f1f1;\n",
       "}\n",
       "#T_fd8f5_row1_col3 {\n",
       "  background-color: #cbdef1;\n",
       "  color: #000000;\n",
       "}\n",
       "#T_fd8f5_row2_col0, #T_fd8f5_row3_col1, #T_fd8f5_row3_col2, #T_fd8f5_row3_col3 {\n",
       "  background-color: #f7fbff;\n",
       "  color: #000000;\n",
       "}\n",
       "#T_fd8f5_row2_col1 {\n",
       "  background-color: #d8e7f5;\n",
       "  color: #000000;\n",
       "}\n",
       "#T_fd8f5_row2_col2 {\n",
       "  background-color: #bad6eb;\n",
       "  color: #000000;\n",
       "}\n",
       "#T_fd8f5_row2_col3 {\n",
       "  background-color: #c7dcef;\n",
       "  color: #000000;\n",
       "}\n",
       "#T_fd8f5_row3_col0, #T_fd8f5_row4_col0 {\n",
       "  background-color: #f6faff;\n",
       "  color: #000000;\n",
       "}\n",
       "#T_fd8f5_row4_col1 {\n",
       "  background-color: #f1f7fd;\n",
       "  color: #000000;\n",
       "}\n",
       "#T_fd8f5_row4_col2 {\n",
       "  background-color: #c6dbef;\n",
       "  color: #000000;\n",
       "}\n",
       "#T_fd8f5_row4_col3 {\n",
       "  background-color: #f2f7fd;\n",
       "  color: #000000;\n",
       "}\n",
       "#T_fd8f5_row5_col1 {\n",
       "  background-color: #e4eff9;\n",
       "  color: #000000;\n",
       "}\n",
       "#T_fd8f5_row5_col3 {\n",
       "  background-color: #ddeaf7;\n",
       "  color: #000000;\n",
       "}\n",
       "#T_fd8f5_row6_col1 {\n",
       "  background-color: #cddff1;\n",
       "  color: #000000;\n",
       "}\n",
       "#T_fd8f5_row6_col2 {\n",
       "  background-color: #2070b4;\n",
       "  color: #f1f1f1;\n",
       "}\n",
       "#T_fd8f5_row6_col3 {\n",
       "  background-color: #add0e6;\n",
       "  color: #000000;\n",
       "}\n",
       "</style>\n",
       "<table id=\"T_fd8f5\">\n",
       "  <thead>\n",
       "    <tr>\n",
       "      <th class=\"blank level0\" >&nbsp;</th>\n",
       "      <th id=\"T_fd8f5_level0_col0\" class=\"col_heading level0 col0\" >Score</th>\n",
       "      <th id=\"T_fd8f5_level0_col1\" class=\"col_heading level0 col1\" >Popularity</th>\n",
       "      <th id=\"T_fd8f5_level0_col2\" class=\"col_heading level0 col2\" >Rank</th>\n",
       "      <th id=\"T_fd8f5_level0_col3\" class=\"col_heading level0 col3\" >Members</th>\n",
       "    </tr>\n",
       "  </thead>\n",
       "  <tbody>\n",
       "    <tr>\n",
       "      <th id=\"T_fd8f5_level0_row0\" class=\"row_heading level0 row0\" >count</th>\n",
       "      <td id=\"T_fd8f5_row0_col0\" class=\"data row0 col0\" >1000.000000</td>\n",
       "      <td id=\"T_fd8f5_row0_col1\" class=\"data row0 col1\" >1000.000000</td>\n",
       "      <td id=\"T_fd8f5_row0_col2\" class=\"data row0 col2\" >1000.000000</td>\n",
       "      <td id=\"T_fd8f5_row0_col3\" class=\"data row0 col3\" >1000.000000</td>\n",
       "    </tr>\n",
       "    <tr>\n",
       "      <th id=\"T_fd8f5_level0_row1\" class=\"row_heading level0 row1\" >mean</th>\n",
       "      <td id=\"T_fd8f5_row1_col0\" class=\"data row1 col0\" >8.156580</td>\n",
       "      <td id=\"T_fd8f5_row1_col1\" class=\"data row1 col1\" >1805.637000</td>\n",
       "      <td id=\"T_fd8f5_row1_col2\" class=\"data row1 col2\" >500.500000</td>\n",
       "      <td id=\"T_fd8f5_row1_col3\" class=\"data row1 col3\" >223.648000</td>\n",
       "    </tr>\n",
       "    <tr>\n",
       "      <th id=\"T_fd8f5_level0_row2\" class=\"row_heading level0 row2\" >std</th>\n",
       "      <td id=\"T_fd8f5_row2_col0\" class=\"data row2 col0\" >0.284344</td>\n",
       "      <td id=\"T_fd8f5_row2_col1\" class=\"data row2 col1\" >1888.308553</td>\n",
       "      <td id=\"T_fd8f5_row2_col2\" class=\"data row2 col2\" >288.819436</td>\n",
       "      <td id=\"T_fd8f5_row2_col3\" class=\"data row2 col3\" >246.288299</td>\n",
       "    </tr>\n",
       "    <tr>\n",
       "      <th id=\"T_fd8f5_level0_row3\" class=\"row_heading level0 row3\" >min</th>\n",
       "      <td id=\"T_fd8f5_row3_col0\" class=\"data row3 col0\" >7.800000</td>\n",
       "      <td id=\"T_fd8f5_row3_col1\" class=\"data row3 col1\" >1.000000</td>\n",
       "      <td id=\"T_fd8f5_row3_col2\" class=\"data row3 col2\" >1.000000</td>\n",
       "      <td id=\"T_fd8f5_row3_col3\" class=\"data row3 col3\" >1.000000</td>\n",
       "    </tr>\n",
       "    <tr>\n",
       "      <th id=\"T_fd8f5_level0_row4\" class=\"row_heading level0 row4\" >25%</th>\n",
       "      <td id=\"T_fd8f5_row4_col0\" class=\"data row4 col0\" >7.920000</td>\n",
       "      <td id=\"T_fd8f5_row4_col1\" class=\"data row4 col1\" >413.750000</td>\n",
       "      <td id=\"T_fd8f5_row4_col2\" class=\"data row4 col2\" >250.750000</td>\n",
       "      <td id=\"T_fd8f5_row4_col3\" class=\"data row4 col3\" >31.750000</td>\n",
       "    </tr>\n",
       "    <tr>\n",
       "      <th id=\"T_fd8f5_level0_row5\" class=\"row_heading level0 row5\" >50%</th>\n",
       "      <td id=\"T_fd8f5_row5_col0\" class=\"data row5 col0\" >8.100000</td>\n",
       "      <td id=\"T_fd8f5_row5_col1\" class=\"data row5 col1\" >1139.500000</td>\n",
       "      <td id=\"T_fd8f5_row5_col2\" class=\"data row5 col2\" >500.500000</td>\n",
       "      <td id=\"T_fd8f5_row5_col3\" class=\"data row5 col3\" >132.000000</td>\n",
       "    </tr>\n",
       "    <tr>\n",
       "      <th id=\"T_fd8f5_level0_row6\" class=\"row_heading level0 row6\" >75%</th>\n",
       "      <td id=\"T_fd8f5_row6_col0\" class=\"data row6 col0\" >8.312500</td>\n",
       "      <td id=\"T_fd8f5_row6_col1\" class=\"data row6 col1\" >2633.750000</td>\n",
       "      <td id=\"T_fd8f5_row6_col2\" class=\"data row6 col2\" >750.250000</td>\n",
       "      <td id=\"T_fd8f5_row6_col3\" class=\"data row6 col3\" >330.000000</td>\n",
       "    </tr>\n",
       "    <tr>\n",
       "      <th id=\"T_fd8f5_level0_row7\" class=\"row_heading level0 row7\" >max</th>\n",
       "      <td id=\"T_fd8f5_row7_col0\" class=\"data row7 col0\" >9.380000</td>\n",
       "      <td id=\"T_fd8f5_row7_col1\" class=\"data row7 col1\" >12043.000000</td>\n",
       "      <td id=\"T_fd8f5_row7_col2\" class=\"data row7 col2\" >1000.000000</td>\n",
       "      <td id=\"T_fd8f5_row7_col3\" class=\"data row7 col3\" >998.000000</td>\n",
       "    </tr>\n",
       "  </tbody>\n",
       "</table>\n"
      ],
      "text/plain": [
       "<pandas.io.formats.style.Styler at 0x205400eb210>"
      ]
     },
     "execution_count": 8,
     "metadata": {},
     "output_type": "execute_result"
    }
   ],
   "source": [
    "anime_data.describe().style.background_gradient(cmap = 'Blues')"
   ]
  },
  {
   "cell_type": "code",
   "execution_count": 9,
   "id": "82274ae9-cb1b-49cc-8ed1-5a47bc1d9160",
   "metadata": {},
   "outputs": [
    {
     "name": "stdout",
     "output_type": "stream",
     "text": [
      "<class 'pandas.core.frame.DataFrame'>\n",
      "RangeIndex: 1000 entries, 0 to 999\n",
      "Data columns (total 22 columns):\n",
      " #   Column       Non-Null Count  Dtype  \n",
      "---  ------       --------------  -----  \n",
      " 0   Score        1000 non-null   float64\n",
      " 1   Popularity   1000 non-null   int64  \n",
      " 2   Rank         1000 non-null   int64  \n",
      " 3   Members      1000 non-null   int64  \n",
      " 4   Description  1000 non-null   object \n",
      " 5   Synonyms     709 non-null    object \n",
      " 6   Japanese     999 non-null    object \n",
      " 7   English      859 non-null    object \n",
      " 8   Type         1000 non-null   object \n",
      " 9   Episodes     1000 non-null   object \n",
      " 10  Status       1000 non-null   object \n",
      " 11  Aired        1000 non-null   object \n",
      " 12  Premiered    569 non-null    object \n",
      " 13  Broadcast    569 non-null    object \n",
      " 14  Producers    1000 non-null   object \n",
      " 15  Licensors    1000 non-null   object \n",
      " 16  Studios      1000 non-null   object \n",
      " 17  Source       1000 non-null   object \n",
      " 18  Genres       771 non-null    object \n",
      " 19  Demographic  521 non-null    object \n",
      " 20  Duration     1000 non-null   object \n",
      " 21  Rating       1000 non-null   object \n",
      "dtypes: float64(1), int64(3), object(18)\n",
      "memory usage: 172.0+ KB\n"
     ]
    }
   ],
   "source": [
    "anime_data.info()"
   ]
  },
  {
   "cell_type": "code",
   "execution_count": 10,
   "id": "082d5f4e-ff65-4ee1-ac11-8ba65a71e128",
   "metadata": {},
   "outputs": [
    {
     "data": {
      "text/plain": [
       "Score           121\n",
       "Popularity     1000\n",
       "Rank           1000\n",
       "Members         481\n",
       "Description     999\n",
       "Synonyms        701\n",
       "Japanese        953\n",
       "English         856\n",
       "Type              6\n",
       "Episodes         84\n",
       "Status            2\n",
       "Aired           961\n",
       "Premiered       129\n",
       "Broadcast       184\n",
       "Producers       641\n",
       "Licensors        90\n",
       "Studios         166\n",
       "Source           15\n",
       "Genres          237\n",
       "Demographic       5\n",
       "Duration        141\n",
       "Rating            5\n",
       "dtype: int64"
      ]
     },
     "execution_count": 10,
     "metadata": {},
     "output_type": "execute_result"
    }
   ],
   "source": [
    "anime_data.nunique()"
   ]
  },
  {
   "cell_type": "markdown",
   "id": "575ed3f0-74d8-4cb2-a230-7385d1c94a0d",
   "metadata": {},
   "source": [
    "# Dealing With Missing Values"
   ]
  },
  {
   "cell_type": "code",
   "execution_count": 12,
   "id": "cddf525e-4096-4200-b2d3-ff660e177a72",
   "metadata": {},
   "outputs": [
    {
     "data": {
      "text/plain": [
       "Score            0\n",
       "Popularity       0\n",
       "Rank             0\n",
       "Members          0\n",
       "Description      0\n",
       "Synonyms       291\n",
       "Japanese         1\n",
       "English        141\n",
       "Type             0\n",
       "Episodes         0\n",
       "Status           0\n",
       "Aired            0\n",
       "Premiered      431\n",
       "Broadcast      431\n",
       "Producers        0\n",
       "Licensors        0\n",
       "Studios          0\n",
       "Source           0\n",
       "Genres         229\n",
       "Demographic    479\n",
       "Duration         0\n",
       "Rating           0\n",
       "dtype: int64"
      ]
     },
     "execution_count": 12,
     "metadata": {},
     "output_type": "execute_result"
    }
   ],
   "source": [
    "anime_data.isnull().sum()"
   ]
  },
  {
   "cell_type": "code",
   "execution_count": 13,
   "id": "2426a9e6-f98c-4299-ad01-c01f10523af7",
   "metadata": {},
   "outputs": [],
   "source": [
    "#Create a copy of the df_anime\n",
    "anime_data2 = anime_data.copy()"
   ]
  },
  {
   "cell_type": "code",
   "execution_count": 14,
   "id": "a4b3934d-4146-4a11-83a0-d2fb2af54ae1",
   "metadata": {},
   "outputs": [],
   "source": [
    "#replacing the NAN Values with English and Synonyms\n",
    "anime_data2['Synonyms'].fillna(anime_data2['English'], inplace = True)\n",
    "anime_data2['English'].fillna(anime_data2['Synonyms'],inplace = True)"
   ]
  },
  {
   "cell_type": "code",
   "execution_count": 15,
   "id": "9d6b9982-8fe9-431b-acf7-7eff0dbbe330",
   "metadata": {},
   "outputs": [
    {
     "data": {
      "text/plain": [
       "Demographic\n",
       "ShounenShounen    321\n",
       "SeinenSeinen      126\n",
       "ShoujoShoujo       53\n",
       "JoseiJosei         16\n",
       "KidsKids            5\n",
       "Name: count, dtype: int64"
      ]
     },
     "execution_count": 15,
     "metadata": {},
     "output_type": "execute_result"
    }
   ],
   "source": [
    "#Get the unique value counts from Demographic Column\n",
    "anime_data2['Demographic'].value_counts()"
   ]
  },
  {
   "cell_type": "code",
   "execution_count": 16,
   "id": "fc826e9f-3565-43e5-9044-907d17aa9fe3",
   "metadata": {},
   "outputs": [
    {
     "data": {
      "text/plain": [
       "Genres\n",
       "ActionAction, AdventureAdventure, FantasyFantasy                                                            43\n",
       "ComedyComedy, RomanceRomance                                                                                28\n",
       "ActionAction, FantasyFantasy                                                                                23\n",
       "ActionAction, Sci-FiSci-Fi                                                                                  22\n",
       "DramaDrama, RomanceRomance                                                                                  21\n",
       "                                                                                                            ..\n",
       "AdventureAdventure, Award WinningAward Winning, ComedyComedy, DramaDrama, FantasyFantasy                     1\n",
       "AdventureAdventure, FantasyFantasy, Slice of LifeSlice of Life                                               1\n",
       "ActionAction, AdventureAdventure, Award WinningAward Winning, DramaDrama, FantasyFantasy, RomanceRomance     1\n",
       "ActionAction, Award WinningAward Winning, Sci-FiSci-Fi                                                       1\n",
       "ActionAction, AdventureAdventure, Award WinningAward Winning, DramaDrama, RomanceRomance, Sci-FiSci-Fi       1\n",
       "Name: count, Length: 237, dtype: int64"
      ]
     },
     "execution_count": 16,
     "metadata": {},
     "output_type": "execute_result"
    }
   ],
   "source": [
    "#Get the unique value counts from Genres Column\n",
    "anime_data2['Genres'].value_counts()"
   ]
  },
  {
   "cell_type": "code",
   "execution_count": 17,
   "id": "5875a4e9-db67-42fa-9030-60b027a7c0f6",
   "metadata": {},
   "outputs": [],
   "source": [
    "#replacing the Genres and Demographic with the most frequent value\n",
    "anime_data2['Demographic'].fillna('ActionAction, AdventureAdventure, FantasyFantasy', inplace = True)\n",
    "anime_data2['Genres'].fillna('ShounenShounen', inplace = True)"
   ]
  },
  {
   "cell_type": "code",
   "execution_count": 18,
   "id": "e4b53500-4f4a-4605-ac4e-811e7fd06669",
   "metadata": {},
   "outputs": [],
   "source": [
    "#Drop few columns which are not necessary and have too much empty values\n",
    "anime_data2.drop(['Broadcast','Premiered','Synonyms'],inplace = True,axis = 1)"
   ]
  },
  {
   "cell_type": "code",
   "execution_count": 19,
   "id": "42df2661-193d-40fc-8406-aa626dd6740f",
   "metadata": {},
   "outputs": [
    {
     "data": {
      "text/html": [
       "<div>\n",
       "<style scoped>\n",
       "    .dataframe tbody tr th:only-of-type {\n",
       "        vertical-align: middle;\n",
       "    }\n",
       "\n",
       "    .dataframe tbody tr th {\n",
       "        vertical-align: top;\n",
       "    }\n",
       "\n",
       "    .dataframe thead th {\n",
       "        text-align: right;\n",
       "    }\n",
       "</style>\n",
       "<table border=\"1\" class=\"dataframe\">\n",
       "  <thead>\n",
       "    <tr style=\"text-align: right;\">\n",
       "      <th></th>\n",
       "      <th>Score</th>\n",
       "      <th>Popularity</th>\n",
       "      <th>Rank</th>\n",
       "      <th>Members</th>\n",
       "      <th>Description</th>\n",
       "      <th>Japanese</th>\n",
       "      <th>English</th>\n",
       "      <th>Type</th>\n",
       "      <th>Episodes</th>\n",
       "      <th>Status</th>\n",
       "      <th>Aired</th>\n",
       "      <th>Producers</th>\n",
       "      <th>Licensors</th>\n",
       "      <th>Studios</th>\n",
       "      <th>Source</th>\n",
       "      <th>Genres</th>\n",
       "      <th>Demographic</th>\n",
       "      <th>Duration</th>\n",
       "      <th>Rating</th>\n",
       "    </tr>\n",
       "  </thead>\n",
       "  <tbody>\n",
       "    <tr>\n",
       "      <th>0</th>\n",
       "      <td>9.38</td>\n",
       "      <td>284</td>\n",
       "      <td>1</td>\n",
       "      <td>710</td>\n",
       "      <td>During their decade-long quest to defeat the D...</td>\n",
       "      <td>葬送のフリーレン</td>\n",
       "      <td>Frieren: Beyond Journey's End</td>\n",
       "      <td>TV</td>\n",
       "      <td>28</td>\n",
       "      <td>Finished Airing</td>\n",
       "      <td>Sep 29, 2023 to Mar 22, 2024</td>\n",
       "      <td>Aniplex, Dentsu, Shogakukan-Shueisha Productio...</td>\n",
       "      <td>None found, add some</td>\n",
       "      <td>Madhouse</td>\n",
       "      <td>Manga</td>\n",
       "      <td>AdventureAdventure, DramaDrama, FantasyFantasy</td>\n",
       "      <td>ShounenShounen</td>\n",
       "      <td>24 min. per ep.</td>\n",
       "      <td>PG-13 - Teens 13 or older</td>\n",
       "    </tr>\n",
       "    <tr>\n",
       "      <th>1</th>\n",
       "      <td>9.09</td>\n",
       "      <td>3</td>\n",
       "      <td>2</td>\n",
       "      <td>3</td>\n",
       "      <td>After a horrific alchemy experiment goes wrong...</td>\n",
       "      <td>鋼の錬金術師 FULLMETAL ALCHEMIST</td>\n",
       "      <td>Fullmetal Alchemist: Brotherhood</td>\n",
       "      <td>TV</td>\n",
       "      <td>64</td>\n",
       "      <td>Finished Airing</td>\n",
       "      <td>Apr 5, 2009 to Jul 4, 2010</td>\n",
       "      <td>Aniplex, Square Enix, Mainichi Broadcasting Sy...</td>\n",
       "      <td>Funimation, Aniplex of America</td>\n",
       "      <td>Bones</td>\n",
       "      <td>Manga</td>\n",
       "      <td>ActionAction, AdventureAdventure, DramaDrama, ...</td>\n",
       "      <td>ShounenShounen</td>\n",
       "      <td>24 min. per ep.</td>\n",
       "      <td>R - 17+ (violence &amp; profanity)</td>\n",
       "    </tr>\n",
       "    <tr>\n",
       "      <th>2</th>\n",
       "      <td>9.07</td>\n",
       "      <td>13</td>\n",
       "      <td>3</td>\n",
       "      <td>2</td>\n",
       "      <td>Eccentric scientist Rintarou Okabe has a never...</td>\n",
       "      <td>STEINS;GATE</td>\n",
       "      <td>Steins;Gate</td>\n",
       "      <td>TV</td>\n",
       "      <td>24</td>\n",
       "      <td>Finished Airing</td>\n",
       "      <td>Apr 6, 2011 to Sep 14, 2011</td>\n",
       "      <td>Frontier Works, Media Factory, Kadokawa Shoten...</td>\n",
       "      <td>Funimation</td>\n",
       "      <td>White Fox</td>\n",
       "      <td>Visual novel</td>\n",
       "      <td>DramaDrama, Sci-FiSci-Fi, SuspenseSuspense</td>\n",
       "      <td>ActionAction, AdventureAdventure, FantasyFantasy</td>\n",
       "      <td>24 min. per ep.</td>\n",
       "      <td>PG-13 - Teens 13 or older</td>\n",
       "    </tr>\n",
       "    <tr>\n",
       "      <th>3</th>\n",
       "      <td>9.06</td>\n",
       "      <td>342</td>\n",
       "      <td>4</td>\n",
       "      <td>630</td>\n",
       "      <td>Gintoki, Shinpachi, and Kagura return as the f...</td>\n",
       "      <td>銀魂°</td>\n",
       "      <td>Gintama Season 4</td>\n",
       "      <td>TV</td>\n",
       "      <td>51</td>\n",
       "      <td>Finished Airing</td>\n",
       "      <td>Apr 8, 2015 to Mar 30, 2016</td>\n",
       "      <td>TV Tokyo, Aniplex, Dentsu</td>\n",
       "      <td>Funimation, Crunchyroll</td>\n",
       "      <td>Bandai Namco Pictures</td>\n",
       "      <td>Manga</td>\n",
       "      <td>ActionAction, ComedyComedy, Sci-FiSci-Fi</td>\n",
       "      <td>ShounenShounen</td>\n",
       "      <td>24 min. per ep.</td>\n",
       "      <td>PG-13 - Teens 13 or older</td>\n",
       "    </tr>\n",
       "    <tr>\n",
       "      <th>4</th>\n",
       "      <td>9.05</td>\n",
       "      <td>21</td>\n",
       "      <td>5</td>\n",
       "      <td>2</td>\n",
       "      <td>Seeking to restore humanity's diminishing hope...</td>\n",
       "      <td>進撃の巨人 Season3 Part.2</td>\n",
       "      <td>Attack on Titan Season 3 Part 2</td>\n",
       "      <td>TV</td>\n",
       "      <td>10</td>\n",
       "      <td>Finished Airing</td>\n",
       "      <td>Apr 29, 2019 to Jul 1, 2019</td>\n",
       "      <td>Production I.G, Dentsu, Mainichi Broadcasting ...</td>\n",
       "      <td>Funimation</td>\n",
       "      <td>Wit Studio</td>\n",
       "      <td>Manga</td>\n",
       "      <td>ActionAction, DramaDrama, SuspenseSuspense</td>\n",
       "      <td>ShounenShounen</td>\n",
       "      <td>23 min. per ep.</td>\n",
       "      <td>R - 17+ (violence &amp; profanity)</td>\n",
       "    </tr>\n",
       "  </tbody>\n",
       "</table>\n",
       "</div>"
      ],
      "text/plain": [
       "   Score  Popularity  Rank  Members  \\\n",
       "0   9.38         284     1      710   \n",
       "1   9.09           3     2        3   \n",
       "2   9.07          13     3        2   \n",
       "3   9.06         342     4      630   \n",
       "4   9.05          21     5        2   \n",
       "\n",
       "                                         Description  \\\n",
       "0  During their decade-long quest to defeat the D...   \n",
       "1  After a horrific alchemy experiment goes wrong...   \n",
       "2  Eccentric scientist Rintarou Okabe has a never...   \n",
       "3  Gintoki, Shinpachi, and Kagura return as the f...   \n",
       "4  Seeking to restore humanity's diminishing hope...   \n",
       "\n",
       "                     Japanese                           English Type Episodes  \\\n",
       "0                    葬送のフリーレン     Frieren: Beyond Journey's End   TV       28   \n",
       "1  鋼の錬金術師 FULLMETAL ALCHEMIST  Fullmetal Alchemist: Brotherhood   TV       64   \n",
       "2                 STEINS;GATE                       Steins;Gate   TV       24   \n",
       "3                         銀魂°                  Gintama Season 4   TV       51   \n",
       "4        進撃の巨人 Season3 Part.2   Attack on Titan Season 3 Part 2   TV       10   \n",
       "\n",
       "            Status                         Aired  \\\n",
       "0  Finished Airing  Sep 29, 2023 to Mar 22, 2024   \n",
       "1  Finished Airing    Apr 5, 2009 to Jul 4, 2010   \n",
       "2  Finished Airing   Apr 6, 2011 to Sep 14, 2011   \n",
       "3  Finished Airing   Apr 8, 2015 to Mar 30, 2016   \n",
       "4  Finished Airing   Apr 29, 2019 to Jul 1, 2019   \n",
       "\n",
       "                                           Producers  \\\n",
       "0  Aniplex, Dentsu, Shogakukan-Shueisha Productio...   \n",
       "1  Aniplex, Square Enix, Mainichi Broadcasting Sy...   \n",
       "2  Frontier Works, Media Factory, Kadokawa Shoten...   \n",
       "3                          TV Tokyo, Aniplex, Dentsu   \n",
       "4  Production I.G, Dentsu, Mainichi Broadcasting ...   \n",
       "\n",
       "                        Licensors                Studios        Source  \\\n",
       "0            None found, add some               Madhouse         Manga   \n",
       "1  Funimation, Aniplex of America                  Bones         Manga   \n",
       "2                      Funimation              White Fox  Visual novel   \n",
       "3         Funimation, Crunchyroll  Bandai Namco Pictures         Manga   \n",
       "4                      Funimation             Wit Studio         Manga   \n",
       "\n",
       "                                              Genres  \\\n",
       "0     AdventureAdventure, DramaDrama, FantasyFantasy   \n",
       "1  ActionAction, AdventureAdventure, DramaDrama, ...   \n",
       "2         DramaDrama, Sci-FiSci-Fi, SuspenseSuspense   \n",
       "3           ActionAction, ComedyComedy, Sci-FiSci-Fi   \n",
       "4         ActionAction, DramaDrama, SuspenseSuspense   \n",
       "\n",
       "                                        Demographic         Duration  \\\n",
       "0                                    ShounenShounen  24 min. per ep.   \n",
       "1                                    ShounenShounen  24 min. per ep.   \n",
       "2  ActionAction, AdventureAdventure, FantasyFantasy  24 min. per ep.   \n",
       "3                                    ShounenShounen  24 min. per ep.   \n",
       "4                                    ShounenShounen  23 min. per ep.   \n",
       "\n",
       "                           Rating  \n",
       "0       PG-13 - Teens 13 or older  \n",
       "1  R - 17+ (violence & profanity)  \n",
       "2       PG-13 - Teens 13 or older  \n",
       "3       PG-13 - Teens 13 or older  \n",
       "4  R - 17+ (violence & profanity)  "
      ]
     },
     "execution_count": 19,
     "metadata": {},
     "output_type": "execute_result"
    }
   ],
   "source": [
    "#check the Dataframe\n",
    "anime_data2.head()"
   ]
  },
  {
   "cell_type": "code",
   "execution_count": 20,
   "id": "f7fdfe82-bee3-4234-a69d-e98e12a773a8",
   "metadata": {},
   "outputs": [
    {
     "data": {
      "text/plain": [
       "Score           0\n",
       "Popularity      0\n",
       "Rank            0\n",
       "Members         0\n",
       "Description     0\n",
       "Japanese        1\n",
       "English        47\n",
       "Type            0\n",
       "Episodes        0\n",
       "Status          0\n",
       "Aired           0\n",
       "Producers       0\n",
       "Licensors       0\n",
       "Studios         0\n",
       "Source          0\n",
       "Genres          0\n",
       "Demographic     0\n",
       "Duration        0\n",
       "Rating          0\n",
       "dtype: int64"
      ]
     },
     "execution_count": 20,
     "metadata": {},
     "output_type": "execute_result"
    }
   ],
   "source": [
    "#Final check for Null Values\n",
    "anime_data2.isnull().sum()"
   ]
  },
  {
   "cell_type": "code",
   "execution_count": 21,
   "id": "721ac9e0-b952-49ed-8504-4bcd36df0e82",
   "metadata": {},
   "outputs": [],
   "source": [
    "anime_data2 = anime_data2.dropna(subset=['English', 'Japanese'])"
   ]
  },
  {
   "cell_type": "code",
   "execution_count": 22,
   "id": "32389b0c-db06-4e27-9190-4d5050bc6b6c",
   "metadata": {},
   "outputs": [
    {
     "data": {
      "text/plain": [
       "Score          0\n",
       "Popularity     0\n",
       "Rank           0\n",
       "Members        0\n",
       "Description    0\n",
       "Japanese       0\n",
       "English        0\n",
       "Type           0\n",
       "Episodes       0\n",
       "Status         0\n",
       "Aired          0\n",
       "Producers      0\n",
       "Licensors      0\n",
       "Studios        0\n",
       "Source         0\n",
       "Genres         0\n",
       "Demographic    0\n",
       "Duration       0\n",
       "Rating         0\n",
       "dtype: int64"
      ]
     },
     "execution_count": 22,
     "metadata": {},
     "output_type": "execute_result"
    }
   ],
   "source": [
    "anime_data2.isnull().sum()"
   ]
  },
  {
   "cell_type": "markdown",
   "id": "97050459-8c9f-4ee3-b5c1-f80d818c0622",
   "metadata": {},
   "source": [
    "# Analyzing and Visualizing the data"
   ]
  },
  {
   "cell_type": "code",
   "execution_count": 25,
   "id": "2b70d815-3a9b-4744-85e8-b232087771f5",
   "metadata": {},
   "outputs": [
    {
     "data": {
      "image/png": "[encoded data removed]",
      "text/plain": [
       "<Figure size 1400x1200 with 6 Axes>"
      ]
     },
     "metadata": {},
     "output_type": "display_data"
    }
   ],
   "source": [
    "#Finding out the Distribution & outliers of Score, popularity and Members\n",
    "fig, axes = plt.subplots(3,2,figsize=(14,12))\n",
    "#Score\n",
    "sns.histplot(data = anime_data, x = 'Score',kde = True, ax = axes[0,0],color = 'skyblue')\n",
    "axes[0,0].set_title('Score Distibution')\n",
    "sns.boxplot(data = anime_data, x = 'Score', ax = axes[0,1],color = 'skyblue')\n",
    "axes[0,1].set_title('Score Box Plot')\n",
    "\n",
    "#Popularity\n",
    "sns.histplot(data = anime_data, x = 'Popularity',kde = True, ax = axes[1,0],color = 'Salmon')\n",
    "axes[1,0].set_title('Popularity Distibution')\n",
    "sns.boxplot(data = anime_data, x = 'Popularity', ax = axes[1,1],color = 'Salmon')\n",
    "axes[1,1].set_title('Popularity Box Plot')\n",
    "\n",
    "#Members\n",
    "sns.histplot(data = anime_data, x = 'Members',kde = True, ax = axes[2,0],color = 'lightgreen')\n",
    "axes[2,0].set_title('Members Distibution')\n",
    "sns.boxplot(data = anime_data, x = 'Popularity', ax = axes[2,1],color = 'lightgreen')\n",
    "axes[2,1].set_title('Members Box Plot')\n",
    "\n",
    "fig.suptitle('Distibution and Outliers of Score, Popularity & Members')\n",
    "plt.tight_layout()\n",
    "plt.show()"
   ]
  },
  {
   "cell_type": "code",
   "execution_count": 54,
   "id": "d05e6d0d-0085-4d92-8f87-4fef23c302e9",
   "metadata": {},
   "outputs": [
    {
     "data": {
      "image/png": "[encoded data removed]",
      "text/plain": [
       "<Figure size 1000x800 with 2 Axes>"
      ]
     },
     "metadata": {},
     "output_type": "display_data"
    }
   ],
   "source": [
    "#correlation Matrix\n",
    "Corr_data = anime_data2[['Score','Popularity','Rank','Members']].corr()\n",
    "plt.figure(figsize=(10,8))\n",
    "sns.heatmap(Corr_data, annot = True, cmap = 'magma',linewidths = 0.5,fmt=\".2f\")\n",
    "plt.title('Correlation Matrix of Numerical Variables')\n",
    "plt.show()"
   ]
  },
  {
   "cell_type": "code",
   "execution_count": 60,
   "id": "8b494dc3-f488-49e5-8195-491f012b0c96",
   "metadata": {},
   "outputs": [
    {
     "data": {
      "application/vnd.plotly.v1+json": {
       "config": {
        "plotlyServerURL": "https://plot.ly"
       },
       "data": [
        {
         "hovertemplate": "<b>%{hovertext}</b><br><br>Demographic=ShounenShounen<br>Popularity=%{x}<br>Score=%{y}<extra></extra>",
         "hovertext": [
          "Frieren: Beyond Journey's End",
          "Fullmetal Alchemist: Brotherhood",
          "Gintama Season 4",
          "Attack on Titan Season 3 Part 2",
          "Gintama: The Very Final",
          "Hunter x Hunter",
          "Gintama Season 2",
          "Bleach: Thousand-Year Blood War",
          "Gintama: Enchousen",
          "Gintama Season 5",
          "Gintama",
          "A Silent Voice",
          "Gintama: The Movie: The Final Chapter: Be Forever Yorozuya",
          "Attack on Titan: Final Season - The Final Chapters",
          "The Dangers in My Heart Season 2",
          "Gintama.: Silver Soul Arc - Second Half War",
          "Jujutsu Kaisen Season 2",
          "Gintama.: Silver Soul Arc",
          "Attack on Titan: Final Season",
          "Haikyu!! 3rd Season",
          "Fighting Spirit",
          "Attack on Titan: Final Season Part 2",
          "Demon Slayer: Kimetsu no Yaiba Entertainment District Arc",
          "Tomorrow's Joe 2",
          "One Piece",
          "Samurai X: Trust and Betrayal",
          "Bleach: Thousand-Year Blood War - The Separation",
          "Great Teacher Onizuka",
          "Fighting Spirit: New Challenger",
          "Your Lie in April",
          "Haikyu!! 2nd Season",
          "Death Note",
          "Attack on Titan Season 3",
          "Fighting Spirit: Rising",
          "Jujutsu Kaisen",
          "Demon Slayer: Kimetsu no Yaiba - The Movie: Mugen Train",
          "JoJo's Bizarre Adventure: Golden Wind",
          "JoJo's Bizarre Adventure: Stone Ocean Part 3",
          "Haikyu!! To the Top 2nd-cour",
          "Attack on Titan",
          "Slam Dunk",
          "Bakuman. Season 3",
          "Gintama: The Movie",
          "Gintama.: Slip Arc",
          "Attack on Titan Season 2",
          "Chainsaw Man",
          "JoJo's Bizarre Adventure: Diamond Is Unbreakable",
          "The Promised Neverland",
          "Aria the Origination",
          "Summer Time Rendering",
          "Assassination Classroom Second Season",
          "Teasing Master Takagi-san: The Movie",
          "Demon Slayer: Kimetsu no Yaiba",
          "Nichijou - My Ordinary Life",
          "Yu Yu Hakusho: Ghost Files",
          "Haikyu!! Movie: Battle of the Garbage Dump",
          "Jujutsu Kaisen 0",
          "Haikyu!!",
          "JoJo's Bizarre Adventure: Stardust Crusaders - Battle in Egypt",
          "Shinsengumi Douran Hen, Kabuki Chou Shitennou Hen, Kabuki-chou Devas Hen, Gintama: The Best of Gintama on Theater 2D",
          "Kono Oto Tomare!: Sounds of Life Season 2",
          "The Disastrous Life of Saiki K. 2",
          "Hunter x Hunter",
          "Teasing Master Takagi-san 3",
          "The Disastrous Life of Saiki K.",
          "Major 5th Season",
          "Gintama: Love Incense Arc",
          "Cross Game",
          "Detective Conan Movie 26: Black Iron Submarine",
          "That Time I Got Reincarnated as a Slime Season 2",
          "Demon Slayer: Kimetsu no Yaiba Mugen Train Arc",
          "Haikyu!! To the Top",
          "To Your Eternity",
          "Mobile Suit Gundam: The Origin",
          "Bakuman. Season 2",
          "Dr. Stone 3rd Season Part 2",
          "That Time I Got Reincarnated as a Slime Season 2 Part 2",
          "Tomorrow's Joe",
          "Hunter x Hunter OVA, Hunter x Hunter: Yorkshin City Kanketsu-hen",
          "Major 6th Season",
          "Case Closed Movie 06: The Phantom of Baker Street",
          "Ace of Diamond: Second Season",
          "Beck: Mongolian Chop Squad",
          "My Hero Academia Season 6",
          "Kuroko's Basketball 3",
          "Rurouni Kenshin",
          "Dr. Stone",
          "Gintama: Shinyaku Benizakura-hen OVA, Gintama: Benizakura Arc - A New Retelling Special, Gintama Movie: Crimson Sakura Chapter New Edition, Gintama: Shin-yaku Benizakura-hen",
          "Tsubasa RESERVoir CHRoNiCLE: Tokyo Revelations",
          "Moriarty the Patriot Part 2",
          "That Time I Got Reincarnated as a Slime Season 3",
          "Naruto Shippuden",
          "Blue Lock",
          "Silver Spoon 2nd Season",
          "The Dangers in My Heart",
          "Ace of Diamond Act II",
          "Fighting Spirit: Champion Road",
          "Hunter x Hunter: G I Final, Hunter x Hunter OVA 3",
          "Demon Slayer: Kimetsu no Yaiba Swordsmith Village Arc",
          "Black Butler: Book of the Atlantic",
          "Detective Conan: Episode One - The Great Detective Turned Small",
          "Dororo",
          "Kaiju No. 8",
          "Fighting Spirit: Mashiba vs. Kimura",
          "Major 3rd Season, Major 3, m3",
          "Detective Conan Movie 13: The Raven Chaser",
          "Haikyu!! The Movie: Battle of Concepts",
          "Spy x Family Code: White",
          "Trigun",
          "SKET Dance",
          "Kuroko's Basketball 2",
          "Magi: The Kingdom of Magic",
          "One Piece: Stampede",
          "Horimiya",
          "InuYasha: The Final Act",
          "The Case Study of Vanitas Part 2",
          "The Disastrous Life of Saiki K. Final Arc",
          "Major 4th Season, Major 4, m4",
          "Detective Conan Movie 20: The Darkest Nightmare",
          "One Piece: Episode of Merry - The Tale of One More Friend",
          "Horimiya: The Missing Pieces",
          "Hunter X Hunter OVA 2",
          "Mobile Suit Gundam: The Origin - Advent of the Red Comet",
          "Bakuman.",
          "Welcome to the Ballroom",
          "Dragon Ball Z",
          "Aria the Natural",
          "Dr. Stone: Ryusui",
          "Dragon Ball Super: Broly",
          "Moriarty the Patriot",
          "Case Closed",
          "Dr. Stone 2nd Season, Dr. Stone Second Season",
          "Haikyu!! The Movie: Talent and Sense",
          "Major OVA",
          "Noragami Aragoto",
          "Dr. Stone 3rd Season",
          "Black Clover",
          "Food Wars! Shokugeki no Soma",
          "That Time I Got Reincarnated as a Slime",
          "Reborn!",
          "Case Closed Movie 05: Countdown to Heaven",
          "Detective Conan Movie 14: The Lost Ship in the Sky",
          "Gintama: Jump Festa 2014 Special, Gintama OAD, Gintama OVA",
          "JoJo's Bizarre Adventure: Stone Ocean",
          "One Piece Film: Z",
          "One Piece: Episode of Nami - Tears of a Navigator and the Bonds of Friends",
          "Ace of Diamond",
          "Fullmetal Alchemist",
          "Hell's Paradise",
          "Black Butler: Public School Arc",
          "The Disastrous Life of Saiki K.: Reawakened",
          "Kuroko’s Basketball: It is the Best Present",
          "The Ancient Magus' Bride: Those Awaiting a Star",
          "Saint Seiya: The Lost Canvas 2",
          "Gintama: Jump Festa 2015 Special",
          "Fighting Spirit Special",
          "JoJo's Bizarre Adventure: Stardust Crusaders",
          "Tsubasa RESERVoir CHRoNiCLE: Spring Thunder Chronicle",
          "Shangri-La Frontier",
          "Silver Spoon",
          "Assassination Classroom",
          "My Hero Academia Season 2",
          "To Your Eternity Season 2",
          "Gintama: Jump Festa 2005 Special",
          "Hikaru no Go",
          "JoJo's Bizarre Adventure: Stone Ocean Part 2",
          "Food Wars! The Second Plate",
          "Astra Lost in Space",
          "Kuroko's Basketball the Movie: Last Game",
          "Kyou Kara Ore Ha!!, From Today I'll, From Today on I am, From Today, It's My Turn!!",
          "Detective Conan Movie 18: The Sniper from Another Dimension",
          "Detective Conan Movie 08: Magician of the Silver Sky",
          "One Piece Film: Strong World",
          "Gintama Harumatsuri 2010",
          "Yowamushi Pedal 2nd Season, Yowapeda 2nd Season",
          "Kuroko's Basketball",
          "Black Butler: Book of Circus",
          "Black Butler: Book of Murder",
          "The Ancient Magus' Bride",
          "Detective Conan Movie 25: The Bride of Halloween",
          "Haikyuu!! the Movie: The Winner and the Loser",
          "The Quintessential Quintuplets 2",
          "Case Closed Movie 03: The Last Wizard of the Century",
          "Detective Conan Movie 10: The Private Eyes' Requiem",
          "Saint Seiya: The Hades Chapter - Sanctuary",
          "KenIchi: The Mightiest Disciple",
          "Teasing Master Takagi-san 2",
          "Komi Can't Communicate Season 2",
          "Welcome to Demon School! Iruma-kun Season 2",
          "Case Closed Movie 04: Captured In Her Eyes",
          "TONIKAWA: Over The Moon For You - SNS",
          "Silver Fang",
          "Black Clover: Sword of the Wizard King",
          "Haikyu!! the Movie: The End and the Beginning",
          "Detective Conan Movie 15: Quarter of Silence",
          "Magi: The Labyrinth of Magic",
          "Aria the OVA: Arietta",
          "Baby Steps Second Season",
          "My Hero Academia Season 3",
          "D.Gray-man",
          "Naruto",
          "Romantic Killer",
          "The Quintessential Quintuplets~",
          "Fullmetal Alchemist: Brotherhood OVA Collection",
          "Baki Hanma 2nd Season",
          "Food Wars! The Third Plate",
          "The World God Only Knows: Goddesses",
          "Kakushigoto",
          "The File of Young Kindaichi",
          "Saint Seiya: The Lost Canvas",
          "School Rumble: 2nd Semester",
          "The Prince of Tennis: The National Tournament Finals",
          "Call of the Night",
          "Major: Yuujou no Ikkyuu, Gekijouban Major, Major: Yuujou no Winning Shot, Major: Yujo no Winning Shot, Major: Yuujou no Winning Shot, Major: The Ball of Friendship",
          "Sleepy Princess in the Demon Castle",
          "Samurai X: Reflection",
          "Dragon Ball",
          "Fist of the North Star",
          "Aria the Origination Episode 5.5: That Little Secret Place…",
          "Noragami",
          "My Hero Academia: Heroes Rising",
          "Food Wars! The Third Plate: Totsuki Train Arc",
          "Nura: Rise of the Yokai Clan - Demon Capital",
          "Bleach",
          "Galaxy Warring State Chronicle Rai",
          "Hikaru no Go: Journey to the North Star Cup",
          "Tokyo Revengers",
          "Yowamushi Pedal",
          "Kono Oto Tomare!: Sounds of Life",
          "You and Me 2",
          "Eyeshield21",
          "Detective Conan OVA 09: The Stranger in 10 Years...",
          "Trigun: Badlands Rumble",
          "Yakitate!! Japan",
          "Attack on Titan: Wings of Freedom",
          "SKET Dance OVA",
          "The Case Study of Vanitas",
          "Blast of Tempest",
          "Sayonara Zetsubo Sensei 2, Sayonara Zetsubo Sensei 2nd Season, Sayonara Zetsubou Sensei Dai Ni Ki, So Long Mr. Despair 2nd, ZSZS",
          "Aria the Avvenire",
          "Cromartie High School",
          "The Ancient Magus' Bride Season 2 Part 2",
          "School Rumble",
          "The Prince of Tennis: National Championship Chapter",
          "The Prince of Tennis: The National Tournament Semifinals",
          "Urusei Yatsura Movie 2: Beautiful Dreamer",
          "Ushio & Tora (2016)",
          "My Hero Academia Season 4",
          "JoJo's Bizarre Adventure (2012)",
          "Case Closed Movie 02: The Fourteenth Target",
          "One Piece Movie 13",
          "KenIchi: The Mightiest Disciple OVA",
          "Attack on Titan OAD",
          "Attack on Titan: The Roar of Awakening",
          "Terra e... (2007), Terra he..., Chikyuu he, Towards the Terra...",
          "TONIKAWA: Over The Moon For You",
          "Zan Sayonara Zetsubo Sensei, Sayonara Zetsubou Sensei 3, ZSZS",
          "The World God Only Knows II",
          "Komi Can't Communicate",
          "Mashle: Magic and Muscles - The Divine Visionary Candidate Exam Arc",
          "Case Closed Movie 01: The Time Bombed Skyscraper",
          "Lupin III vs. Detective Conan: The Movie",
          "Magic Kaito 2014",
          "Case Closed Movie 23: The Fist of Blue Sapphire",
          "One Piece: Episode of East Blue - Luffy and His Four Crewmates' Great Adventure",
          "The Prince of Tennis",
          "My Hero Academia",
          "InuYasha",
          "The Quintessential Quintuplets Movie",
          "Beelzebub",
          "Kochikame, This is the Police Station in Front of Kameari Park in Katsushika Ward, Kochira Katsushikaku Kameari Kouenmae Hashutsujo (1996)",
          "Noragami Aragoto OAD",
          "One Piece 3D2Y: Overcoming Ace's Death! Luffy's Pledge to His Friends",
          "Sayonara, Zetsubou-Sensei",
          "Seitokai Yakuindomo 2 OVA, Seitokai Yakuindomo* OAD, Seitokai Yakuindomo 2 OAD, SYD* OVA, SYD 2 OVA",
          "Soul Eater",
          "Trigun Stampede",
          "Dark Gathering",
          "Toilet-Bound Hanako-kun",
          "Magi: Adventure of Sinbad",
          "One Piece Film: Red",
          "Broken Blade 4",
          "Haikyu!! Land vs. Air",
          "Haikyuu!! Puppet Animation, Haikyuu!! Stop-motion Animation, Haikyuu!!: Ningyou Anime",
          "Haré+Guu",
          "Winter Cup Highlights Episode 3 – Winter Cup Highlights -Crossing the Door-",
          "Magical Circle",
          "Welcome to Demon School! Iruma-kun Season 3",
          "Gekijouban Seitokai Yakuindomo",
          "My Bride is a Mermaid OVA",
          "Dusk Maiden of Amnesia",
          "Broken Blade 5",
          "Fire Force Season 2",
          "Giant Robo the Animation: The Day the Earth Stood Still",
          "Goodbye Mr. Despair OAD",
          "Detective Conan Movie 07: Crossroad in the Ancient Capital",
          "Haré+Guu Deluxe",
          "Kuroko's Basketball: Tip Off",
          "Magi: Adventure of Sinbad OVA",
          "Detective Conan Movie 09: Strategy Above the Depths",
          "Detective Conan Movie 12: Full Score of Fear"
         ],
         "legendgroup": "ShounenShounen",
         "marker": {
          "color": "#636efa",
          "symbol": "circle"
         },
         "mode": "markers",
         "name": "ShounenShounen",
         "orientation": "v",
         "showlegend": true,
         "type": "scatter",
         "x": [
          284,
          3,
          342,
          21,
          1532,
          9,
          393,
          411,
          738,
          761,
          140,
          20,
          1006,
          329,
          1399,
          1213,
          184,
          1137,
          35,
          117,
          368,
          102,
          88,
          3051,
          19,
          877,
          907,
          217,
          847,
          23,
          86,
          2,
          18,
          932,
          14,
          71,
          152,
          1191,
          228,
          1,
          801,
          723,
          1431,
          1190,
          12,
          77,
          130,
          38,
          1729,
          424,
          85,
          2513,
          6,
          191,
          291,
          2057,
          170,
          37,
          134,
          3322,
          1343,
          327,
          370,
          1282,
          136,
          2576,
          2285,
          1772,
          5985,
          162,
          261,
          172,
          200,
          2505,
          663,
          914,
          256,
          2184,
          1746,
          2762,
          2422,
          1641,
          685,
          332,
          253,
          450,
          52,
          3337,
          2137,
          968,
          960,
          16,
          302,
          1568,
          838,
          2219,
          1635,
          1574,
          229,
          1211,
          4002,
          113,
          1195,
          1934,
          2610,
          2837,
          2280,
          1887,
          252,
          1076,
          206,
          211,
          1249,
          94,
          855,
          870,
          1101,
          2696,
          3437,
          2776,
          757,
          1487,
          4577,
          347,
          701,
          112,
          2397,
          840,
          564,
          531,
          678,
          149,
          2234,
          4024,
          82,
          496,
          58,
          61,
          83,
          392,
          2740,
          2908,
          3466,
          444,
          856,
          2595,
          994,
          81,
          305,
          2997,
          1084,
          1984,
          858,
          2464,
          3786,
          2941,
          114,
          2778,
          958,
          827,
          33,
          15,
          880,
          2925,
          1634,
          948,
          126,
          787,
          778,
          3788,
          3363,
          2915,
          953,
          3618,
          1622,
          116,
          562,
          981,
          175,
          5391,
          2157,
          282,
          2678,
          2930,
          2899,
          793,
          709,
          470,
          751,
          2769,
          1500,
          4236,
          1123,
          2046,
          3157,
          146,
          3626,
          2201,
          26,
          289,
          8,
          1147,
          2632,
          1468,
          2373,
          160,
          681,
          725,
          3993,
          1973,
          1444,
          3709,
          375,
          4804,
          1129,
          2304,
          148,
          1706,
          4686,
          27,
          381,
          278,
          1435,
          39,
          5302,
          4495,
          106,
          1037,
          780,
          2249,
          1301,
          4742,
          1593,
          2100,
          1685,
          4687,
          418,
          363,
          1690,
          4196,
          1630,
          2257,
          729,
          3235,
          3657,
          4810,
          1692,
          54,
          59,
          2727,
          1102,
          2898,
          483,
          2549,
          2784,
          266,
          1979,
          593,
          194,
          808,
          2540,
          3899,
          1761,
          4085,
          3445,
          1295,
          7,
          238,
          1005,
          365,
          4976,
          933,
          2171,
          682,
          2387,
          63,
          1312,
          1717,
          367,
          466,
          1406,
          2891,
          798,
          3942,
          3795,
          3409,
          3869,
          1266,
          2812,
          3011,
          565,
          2952,
          250,
          4254,
          2711,
          3049,
          5808,
          2017,
          1658,
          3114,
          3194
         ],
         "xaxis": "x",
         "y": [
          9.38,
          9.09,
          9.06,
          9.05,
          9.04,
          9.04,
          9.03,
          9.02,
          9.02,
          8.98,
          8.94,
          8.93,
          8.9,
          8.9,
          8.89,
          8.88,
          8.84,
          8.81,
          8.79,
          8.78,
          8.77,
          8.76,
          8.75,
          8.74,
          8.72,
          8.7,
          8.69,
          8.69,
          8.67,
          8.64,
          8.63,
          8.62,
          8.62,
          8.61,
          8.61,
          8.59,
          8.57,
          8.56,
          8.55,
          8.55,
          8.55,
          8.53,
          8.52,
          8.52,
          8.51,
          8.51,
          8.5,
          8.5,
          8.49,
          8.49,
          8.48,
          8.47,
          8.47,
          8.46,
          8.46,
          8.46,
          8.45,
          8.44,
          8.44,
          8.43,
          8.42,
          8.42,
          8.42,
          8.41,
          8.41,
          8.4,
          8.39,
          8.38,
          8.38,
          8.38,
          8.37,
          8.36,
          8.35,
          8.34,
          8.34,
          8.34,
          8.33,
          8.32,
          8.32,
          8.32,
          8.3,
          8.3,
          8.29,
          8.29,
          8.29,
          8.29,
          8.28,
          8.28,
          8.28,
          8.28,
          8.27,
          8.27,
          8.27,
          8.27,
          8.26,
          8.26,
          8.26,
          8.26,
          8.25,
          8.25,
          8.25,
          8.25,
          8.24,
          8.24,
          8.22,
          8.22,
          8.22,
          8.22,
          8.22,
          8.21,
          8.21,
          8.21,
          8.21,
          8.2,
          8.2,
          8.2,
          8.2,
          8.19,
          8.19,
          8.19,
          8.19,
          8.19,
          8.18,
          8.18,
          8.18,
          8.18,
          8.17,
          8.17,
          8.17,
          8.17,
          8.17,
          8.16,
          8.16,
          8.15,
          8.15,
          8.15,
          8.14,
          8.14,
          8.14,
          8.13,
          8.13,
          8.13,
          8.13,
          8.13,
          8.12,
          8.12,
          8.11,
          8.11,
          8.11,
          8.11,
          8.11,
          8.1,
          8.1,
          8.1,
          8.1,
          8.1,
          8.1,
          8.1,
          8.09,
          8.09,
          8.08,
          8.08,
          8.08,
          8.08,
          8.08,
          8.08,
          8.08,
          8.08,
          8.08,
          8.08,
          8.08,
          8.07,
          8.07,
          8.07,
          8.06,
          8.06,
          8.06,
          8.06,
          8.06,
          8.06,
          8.06,
          8.05,
          8.05,
          8.05,
          8.05,
          8.05,
          8.04,
          8.04,
          8.04,
          8.04,
          8.04,
          8.03,
          8.02,
          8.02,
          8.02,
          8.01,
          8.01,
          8.01,
          8.01,
          8.01,
          8,
          8,
          8,
          8,
          8,
          7.99,
          7.99,
          7.98,
          7.98,
          7.98,
          7.98,
          7.97,
          7.97,
          7.97,
          7.97,
          7.97,
          7.97,
          7.97,
          7.96,
          7.95,
          7.95,
          7.95,
          7.94,
          7.94,
          7.94,
          7.94,
          7.93,
          7.93,
          7.93,
          7.92,
          7.92,
          7.91,
          7.91,
          7.91,
          7.9,
          7.9,
          7.9,
          7.9,
          7.9,
          7.9,
          7.9,
          7.89,
          7.89,
          7.89,
          7.89,
          7.89,
          7.89,
          7.88,
          7.88,
          7.88,
          7.88,
          7.88,
          7.88,
          7.88,
          7.88,
          7.87,
          7.87,
          7.87,
          7.87,
          7.87,
          7.87,
          7.86,
          7.86,
          7.86,
          7.86,
          7.86,
          7.86,
          7.86,
          7.85,
          7.85,
          7.85,
          7.85,
          7.85,
          7.85,
          7.85,
          7.84,
          7.84,
          7.84,
          7.84,
          7.84,
          7.83,
          7.83,
          7.83,
          7.82,
          7.82,
          7.82,
          7.82,
          7.82,
          7.82,
          7.82,
          7.82,
          7.81,
          7.81,
          7.81,
          7.81,
          7.81,
          7.8,
          7.8,
          7.8,
          7.8,
          7.8
         ],
         "yaxis": "y"
        },
        {
         "hovertemplate": "<b>%{hovertext}</b><br><br>Demographic=ActionAction, AdventureAdventure, FantasyFantasy<br>Popularity=%{x}<br>Score=%{y}<extra></extra>",
         "hovertext": [
          "Steins;Gate",
          "Legend of the Galactic Heroes",
          "Clannad: After Story",
          "The Apothecary Diaries",
          "Code Geass: Lelouch of the Rebellion R2",
          "Owarimonogatari Second Season",
          "Violet Evergarden: The Movie",
          "Your Name.",
          "Bocchi the Rock!",
          "Mob Psycho 100 II",
          "Kizumonogatari Part 3: Cold-Blooded",
          "Spirited Away",
          "Monogatari Series: Second Season",
          "Cowboy Bebop",
          "Mob Psycho 100 III",
          "86 Eighty-Six Part 2",
          "Code Geass: Lelouch of the Rebellion",
          "Link Click",
          "Heaven Official's Blessing Season 2",
          "Violet Evergarden",
          "Mushoku Tensei: Jobless Reincarnation Part 2",
          "Odd Taxi",
          "Fate/stay night: Heaven's Feel - III. Spring Song",
          "Howl's Moving Castle",
          "Princess Mononoke",
          "Made in Abyss",
          "Sound! Euphonium 3",
          "Made in Abyss: The Golden City of the Scorching Sun",
          "Gurren Lagann",
          "Made in Abyss: Dawn of the Deep Soul",
          "The Disappearance of Haruhi Suzumiya",
          "Rascal Does Not Dream of a Dreaming Girl",
          "Evangelion: 3.0+1.0 Thrice Upon a Time",
          "Gurren Lagann The Movie: The Lights in the Sky are Stars",
          "Kizumonogatari Part 2: Hot-Blooded",
          "Wolf Children",
          "The Tatami Galaxy",
          "Fate/Zero Season 2",
          "I Want To Eat Your Pancreas",
          "Perfect Blue",
          "Neon Genesis Evangelion: The End of Evangelion",
          "Revue Starlight: The Movie",
          "Steins;Gate 0",
          "KonoSuba: God's Blessing on This Wonderful World! 3",
          "The Garden of Sinners Chapter 5: Paradox Spiral",
          "Grave of the Fireflies",
          "A Place Further Than The Universe",
          "Laid-Back Camp Season 2",
          "Ranking of Kings",
          "Samurai Champloo",
          "Link Click Season 2",
          "Mob Psycho 100",
          "Fate/stay night: Heaven's Feel - II. Lost Butterfly",
          "Puella Magi Madoka Magica the Movie: Rebellion",
          "The Founder of Diabolism Season 3",
          "Owarimonogatari",
          "Steins;Gate: The Movie - Load Region of Déjà Vu",
          "Laid-Back Camp Season 3",
          "Laid-Back Camp: The Movie",
          "KonoSuba: God's Blessing on This Wonderful World! - Legend of Crimson",
          "Re:ZERO -Starting Life in Another World- Season 2 Part 2",
          "Mononoke",
          "Saekano the Movie: Finale",
          "Attack on Titan: No Regrets",
          "Violet Evergarden: Eternity and the Auto Memory Doll",
          "Girls und Panzer das Finale Part 4",
          "Vivy -Fluorite Eye's Song-",
          "The Founder of Diabolism Season 1",
          "Maquia: When the Promised Flower Blooms",
          "Josee, the Tiger and the Fish",
          "Cowboy Bebop: The Movie",
          "The Garden of Sinners Chapter 7: A Study in Murder - Part 2",
          "Run with the Wind",
          "Barakamon",
          "The Eminence in Shadow Season 2",
          "Made in Abyss: Wandering Twilight",
          "Puella Magi Madoka Magica",
          "Puella Magi Madoka Magica the Movie Part 2: Eternal",
          "The Founder of Diabolism Season 2",
          "Mushoku Tensei: Jobless Reincarnation",
          "Ramayana: The Legend of Prince Rama",
          "Nausicaä of the Valley of the Wind",
          "Kizumonogatari Part 1: Iron-Blooded",
          "Baccano!",
          "Gintama: Jump Festa 2008 Special",
          "IDOLiSH7 Third BEAT! Part 2",
          "Neon Genesis Evangelion",
          "My Teen Romantic Comedy SNAFU Climax!",
          "K-ON! The Movie",
          "Mushoku Tensei: Jobless Reincarnation Season 2 Part 2",
          "Romeo and the Black Brothers",
          "Rascal Does Not Dream of a Knapsack Kid",
          "Heaven Official's Blessing",
          "Violet Evergarden: The Day You Understand \"I Love You\" Will Surely Come",
          "Heaven Official's Blessing Special",
          "Star Blazers: Space Battleship Yamato 2199",
          "Psycho-Pass",
          "Re:ZERO -Starting Life in Another World- Season 2",
          "Bakemonogatari",
          "Fate/stay night [Unlimited Blade Works] Season 2",
          "Sound! Euphonium 2",
          "Swallowed Star 3rd Season",
          "The Beast Player Erin",
          "Solo Leveling",
          "Sasaki and Miyano: Graduation",
          "Katanagatari",
          "Welcome to the N.H.K.",
          "Spice and Wolf II",
          "Legend of the Galactic Heroes: Die Neue These - Collision",
          "Suzume",
          "Scissor Seven (2021)",
          "86 Eighty-Six",
          "Anohana: The Flower We Saw That Day",
          "Evangelion: 2.0 You Can (Not) Advance",
          "Legend of the Galactic Heroes: Die Neue These - Intrigue",
          "Steins;Gate: Egoistic Poriomania",
          "The Eminence in Shadow",
          "Kino's Journey",
          "Redline",
          "Doukyusei -Classmates-",
          "Shirobako",
          "Weathering with You",
          "Tokyo Godfathers",
          "From the New World",
          "Violet Evergarden: Recollections",
          "Laid-Back Camp",
          "Mushoku Tensei: Jobless Reincarnation Season 2",
          "Fate/Zero",
          "Legend of the Galactic Heroes: Die Neue These - Stellar War Part 3",
          "Space Dandy 2nd Season",
          "Steins;Gate: Open the Missing Link - Divide By Zero",
          "Sword of the Stranger",
          "Castle in the Sky",
          "Miss Kobayashi's Dragon Maid S",
          "KonoSuba: God's Blessing on This Wonderful World! 2",
          "Millennium Actress",
          "My Neighbor Totoro",
          "Fog Hill of Five Elements",
          "The Boy and the Beast",
          "Is It Wrong to Try to Pick Up Girls in a Dungeon? IV Part 2",
          "Daily Lives of High School Boys",
          "IDOLISH7 Third BEAT!",
          "Saga of Tanya the Evil: The Movie",
          "Mobile Suit Gundam: Iron-Blooded Orphans 2nd Season",
          "Re:ZERO -Starting Life in Another World-",
          "Rascal Does Not Dream of Bunny Girl Senpai",
          "Puella Magi Madoka Magica the Movie Part 1: Beginnings",
          "Kiki's Delivery Service",
          "Spice and Wolf",
          "Spice and Wolf: Merchant Meets the Wise Wolf",
          "Sasaki and Miyano",
          "Doraemon: Nobita and the Steel Troops - The New Age",
          "Revolutionary Girl Utena",
          "Swallowed Star 4th Season",
          "Girls' Last Tour",
          "The Tatami Time Machine Blues",
          "The Tale of the Princess Kaguya",
          "Liz and the Blue Bird",
          "Pretty Cure All Stars Movie F",
          "Symphogear XV",
          "Fate/strange Fake: Whispers of Dawn",
          "Girls und Panzer das Finale – Part 3",
          "My Teen Romantic Comedy SNAFU TOO!",
          "ReLIFE: Final Arc",
          "Megalobox 2: Nomad",
          "Girls und Panzer der Film",
          "Holo Graffiti",
          "Night Is Short, Walk on Girl",
          "Little Busters! ~Refrain~",
          "No Game, No Life: Zero",
          "Fate/stay night [Unlimited Blade Works]",
          "Higurashi: When They Cry – Kai",
          "Tamayura Kanketsu-hen Movie 4",
          "K-ON! Season 2",
          "Lycoris Recoil",
          "Made in Abyss: Journey's Dawn",
          "Pompo: The Cinéphile",
          "Fate/stay night: Heaven's Feel - I. Presage Flower",
          "Legend of the Galactic Heroes: Die Neue These - Stellar War Part 2",
          "Gurren Lagann The Movie: Childhood's End",
          "A Certain Scientific Railgun T",
          "Kaiba",
          "Beyond the Boundary: I'll Be Here - Future",
          "Magical Girl Lyrical Nanoha: The Movie 2nd A's",
          "Princess Tutu",
          "Death Parade",
          "IDOLiSH7 Second BEAT!",
          "given - on the other hand",
          "Scissor Seven (2019)",
          "Nisemonogatari",
          "Ya Boy Kongming!",
          "Moribito - Guardian of the Spirit",
          "Gankutsuou: The Count of Monte Cristo",
          "Legend of the Galactic Heroes Gaiden",
          "Eiga Given",
          "Gridman×Dynazenon",
          "Interstellar 5555",
          "GaoGaiGar Final",
          "Jellyfish Can't Swim in the Night",
          "The Wind Rises",
          "Future Boy Conan",
          "The King's Avatar (2018)",
          "Douluo Dalu Second Season, Soul Land 2nd Season",
          "Hidamari Sketch: Sae & Hiro Graduation",
          "Fights Break Sphere 5th Season",
          "Stand By Me Doraemon",
          "Tsurune - The Linking Shot -",
          "Classroom of the Elite II",
          "Mobile Suit Gundam 00",
          "Mobile Suit Gundam Unicorn",
          "KonoSuba: God's Blessing on This Wonderful World!",
          "Love, Chunibyo & Other Delusions!: Take On Me",
          "Durarara!!",
          "Ascendance of a Bookworm Season 2",
          "The Girl Who Leapt Through Time",
          "Umamusume: Pretty Derby Season 2",
          "Tsukimonogatari",
          "The Eccentric Family 2",
          "Terror in Resonance",
          "Serial Experiments Lain",
          "Baccano! Specials",
          "Girls und Panzer das Finale – Part 2",
          "The Demon Hunter",
          "Legend of the Galactic Heroes: Overture to a New War",
          "Mobile Suit Gundam 00: Second Season",
          "Overlord IV",
          "The Pet Girl of Sakurasou",
          "Gekijouban Bang Dream! Episode of Roselia",
          "Fights Break Sphere: Three Year Agreement",
          "Ascendance of a Bookworm Season 3",
          "Hyouka",
          "Toradora!",
          "Mobile Suit Gundam: Iron-Blooded Orphans",
          "No Game, No Life",
          "Angel Beats!",
          "Legend of the Galactic Heroes Gaiden (1999)",
          "Darker than Black",
          "Date A Live V",
          "Durarara!! x2 Ketsu",
          "Legend of the Galactic Heroes: Die Neue These - Stellar War Part 1",
          "Eureka Seven",
          "When Marnie Was There",
          "Paprika",
          "Persona 3 the Movie: #4 Winter of Rebirth",
          "Throne of Seal 2nd Season",
          "Den-noh Coil",
          "Fate/stay night: Unlimited Blade Works - Prologue",
          "Tsukigakirei",
          "Scissor Seven: Shadow Fate",
          "Slayers Next",
          "My Teen Romantic Comedy SNAFU TOO! OVA",
          "Kill la Kill",
          "Azumanga Daioh: The Animation",
          "FLCL",
          "Full Metal Panic? Fumoffu",
          "Hugtto Precure, Hug! Pretty Cure",
          "SK8 the Infinity",
          "Summer Wars",
          "Yuki Yuna Is A Hero: Washio Sumi Chapter 3 - Promise",
          "The Twelve Kingdoms",
          "The Garden of Sinners Chapter 3: Remaining Sense of Pain",
          "Mobile Suit Gundam: The 08th MS Team",
          "KonoSuba: God's Blessing on This Wonderful World! 2 - God's Blessing on This Wonderful Art!",
          "The Legend of Hei",
          "Mobile Police Patlabor 2: The Movie",
          "Sound! Euphonium",
          "A Certain Scientific Railgun S",
          "Tokyo Magnitude 8.0",
          "La Maison en Petits Cubes",
          "My Teen Romantic Comedy SNAFU",
          "Classroom of the Elite III",
          "Zombie Land Saga Revenge",
          "The Garden of Sinners: Future Gospel",
          "Mobile Suit Gundam 0080: War in the Pocket",
          "Soul Land 2: The Peerless Tang Clan",
          "ef - a tale of melodies.",
          "Evangelion: 1.0 You Are (Not) Alone",
          "Time of Eve",
          "Clannad",
          "Ascendance of a Bookworm",
          "Swallowed Star 2nd Season",
          "Wolf's Rain OVA",
          "Ghost in the Shell: Stand Alone Complex 2nd GIG - Individual Eleven",
          "Magical Girl Lyrical Nanoha A's",
          "Bungo Stray Dogs Wan!",
          "Fights Break Sphere 4th Season",
          "Durarara!! x2 Shou",
          "Haibane Renmei",
          "Sword Art Online the Movie: Progressive - Aria of a Starless Night",
          "Treasure Island",
          "Genshin Impact: The Song Burning in the Embers",
          "Yuri!!! On ICE: Yuri Plisetsky GPF in Barcelona EX \"Welcome to The Madness\"",
          "The King's Avatar: For the Glory",
          "My New Boss Is Goofy",
          "Code Geass: Lelouch of the Rebellion III - Glorification",
          "Durarara!! x2 Ten",
          "Time of Eve",
          "Girls und Panzer das Finale – Part 1",
          "Heartcatch Pretty Cure!",
          "Idolish Seven, IDOLiSH7: YouTube Originals",
          "BanG Dream! Poppin'Dream!",
          "Saga of Tanya the Evil",
          "Mobile Suit Gundam Thunderbolt: December Sky",
          "Macross Frontier: The Wings of Farewell",
          "A Lull in the Sea",
          "ReLIFE",
          "Kanon",
          "Mobile Suit Gundam Thunderbolt",
          "Kobato.",
          "Porco Rosso",
          "Love Live! SuperStar!!",
          "Clash of the Bionoids, Gekijouban Choujikuu Yousai Macross: Ai, Oboete Imasu ka, Macross in Clash Of The Bionoids, Super Dimensional Fortress Macross The Movie: Do You Remember Love?, Choujikuu Yousai Macross: Ai Oboete Imasuka",
          "Ojamajo Doremi Naisho",
          "Patema Inverted",
          "Hidamari Sketch x Hanikamu, Hidamari Sketch Dai Yon Ki, Hidamari Sketch Fourth Series, Hidamari Sketch 4th Season",
          "The Rising of the Shield Hero",
          "Tekkonkinkreet",
          "Wotakoi: Love is Hard for Otaku OVA",
          "Kaleido Star",
          "Mobile Suit Gundam: The Witch from Mercury Season 2",
          "Miss Kobayashi's Dragon Maid",
          "Penguindrum",
          "Fate/Grand Order: Absolute Demonic Front - Babylonia",
          "Clannad: Another World, Tomoyo Chapter",
          "The Ideon: Be Invoked",
          "Fate/kaleid liner Prisma Illya: Vow in the Snow",
          "Ponyo",
          "Is the Order a Rabbit? Bloom",
          "Vampire Hunter D: Bloodlust",
          "Wotakoi: Love is Hard for Otaku",
          "A Will Eternal 2nd Season",
          "Love Live! The School Idol Movie",
          "Mr. Osomatsu",
          "Phantom: Requiem for the Phantom",
          "Mobile Suit Gundam SEED Freedom",
          "Mobile Suit Zeta Gundam",
          "Kokoro Connect OVA",
          "Welcome to Irabu's Office",
          "Les Miserables: Shoujo Cosette",
          "Nekomonogatari Black",
          "Ojamajo Doremi Shinsaku Eizou",
          "Overlord III",
          "Full Metal Panic! The Second Raid",
          "Touhou Fantasy Kaleidoscope: The Memories of Phantasm",
          "Hanamonogatari",
          "Hidamari Sketch x Hoshi Mittsu, Hidamari Sketch 3rd Season",
          "Sans Famille",
          "Code Geass: Lelouch of the Re;surrection",
          "Darker Than Black: Gemini of the Meteor OVAs",
          "Log Horizon",
          "Overlord",
          "Plastic Memories",
          "Promare",
          "Tamako Market Movie",
          "Yuru Yuri 3rd Season, Yuru Yuri Third Season, Yuru Yuri-san High!: YuruYuri S3",
          "King of Braves GaoGaiGar",
          "Project Common",
          "Bloom Into You",
          "Yuri!!! On ICE",
          "Date A Live: Encore, Date A Live II Episode 11, Date A Live 2 Episode 11",
          "Ergo Proxy",
          "Final Fantasy 7: Advent Children Complete",
          "Hanasaku Iroha: Blossoms for Tomorrow",
          "Macross",
          "The Secret World of Arrietty",
          "Macross Frontier",
          "Magical Girl Lyrical Nanoha: The Movie 1st",
          "The Irresponsible Captain Tylor",
          "The Tunnel to Summer, the Exit of Goodbyes",
          "Tamayura Kanketsu-hen Movie 3",
          "Undead Murder Farce",
          "Code Geass: Lelouch of the Rebellion I - Initiation",
          "Go! Princess Pretty Cure",
          "Death Billiards",
          "ef - a tale of memories.",
          "Free! Eternal Summer Special, Free! Iwatobi Swim Club 2 Special, Free! 2nd Season Special",
          "Higurashi: When They Cry",
          "Hell Girl: Two Mirrors",
          "Mobile Suit Gundam: The Witch from Mercury",
          "The Garden of Words",
          "The Demon Girl Next Door 2",
          "Megalobox",
          "The King's Avatar 2",
          "Space Dandy",
          "Swallowed Star",
          "Gunbuster",
          "Carnival Phantasm",
          "Play It Cool, Guys",
          "Combat Continent, Soul Land",
          "Legend of the Galactic Heroes: My Conquest is the Sea of Stars",
          "Mobile Suit Gundam: The Witch from Mercury - Prologue",
          "Spice and Wolf II: The Wolf and the Amber Melancholy",
          "Mr. Osomatsu the Movie",
          "The King's Avatar",
          "K-ON!",
          "Kaleido Star: Legend of Phoenix - The Layla Hamilton Story",
          "Case Closed Movie 22: Zero the Enforcer",
          "Sekaiichi Hatsukoi Episode 0, Sekai-ichi Hatsukoi: Onodera Ritsu no Baai, Sekaiichi Hatsukoi Episode 12.5, Sekaiichi Hatsukoi: Yoshino Chiaki no Baai, Sekai'ichi Hatsukoi",
          "Classroom of the Elite",
          "Scissor Seven",
          "Free! Starting Days",
          "Soaring Sky! Pretty Cure",
          "Carole & Tuesday",
          "Hanasaku Iroha the Movie: Home Sweet Home",
          "K-On!!: Plan!",
          "Useless Witch Doremi Kaboom!",
          "Planetarian: Storyteller of the Stars",
          "Eiga Sekaiichi Hatsukoi, Sekai-ichi Hatsukoi Movie",
          "Tiger & Bunny",
          "The Stranger by the Shore",
          "Yuru Yuri OVA, YuruYuri Nachuyachumi!, Yuru Yuri Summer Vacation!",
          "All Saints Street",
          "Anohana: The Flower We Saw That Day The Movie",
          "Doraemon",
          "Durarara!! Specials",
          "Galaxy Express 999",
          "Hidamari Sketch x 365",
          "K-ON! Live House!",
          "Mobile Suit Gundam: Hathaway",
          "KonoSuba: God's Blessing on This Wonderful World! - God's Blessing on This Wonderful Choker!",
          "Michiko & Hatchin",
          "Mushoku Tensei: Jobless Reincarnation - Eris the Goblin Slayer",
          "Sekai Ichi Hatsukoi - World's Greatest First Love 2",
          "Throne of Seal",
          "The Melancholy of Haruhi Suzumiya",
          "Tamayura Kanketsu-hen Movie 2",
          "The Eccentric Family",
          "All Saints Street 2",
          "A Will Eternal",
          "91 Days",
          "The Labyrinth of Grisaia: The Cocoon of Caprice 0",
          "Gungrave",
          "Sound! Euphonium the Movie: May the Melody Reach You!",
          "ID: INVADED",
          "Anne of Green Gables",
          "Daily Lives of High School Boys Specials",
          "The Dog of Flanders",
          "Monthly Girls' Nozaki-kun",
          "Hidamari Sketch x ☆☆☆ Tokubetsu-hen, Hidamari Sketch x Hoshi Mittsu",
          "The Garden of Sinners Chapter 4: The Hollow Shrine",
          "Detective Conan Movie 08: Time Travel of the Silver Sky Recap",
          "The Angel Next Door Spoils Me Rotten",
          "Owarimonogatari Second Season Recaps",
          "Attack on Titan: Lost Girls",
          "Somali and the Forest Spirit",
          "Tanaka-kun is Always Listless",
          "YuruYuri: Happy Go Lily ♪♪",
          "Yuki Yuna Is A Hero: Washio Sumi Chapter 2 - Spirit",
          "∀ Gundam",
          "All Saints Street 3",
          "Fog Hill of Five Elements",
          "My Love Story with Yamada-kun at Lv999",
          "Eiga Hugtto! Precure x Futari wa Precure",
          "Inu-Oh",
          "The Anthem of the Heart",
          "Little Witch Academia",
          "Whisper Me a Love Song",
          "Banner of the Stars II",
          "Miss Kobayashi's Dragon Maid S: Japanese Hospitality (The Attendant is a Dragon)",
          "Wakate Animator Ikusei Project, 2012 Young Animator Training Project, Anime Mirai 2012, LWA",
          "Lucky☆Star OVA",
          "Macross Frontier: The False Songstress"
         ],
         "legendgroup": "ActionAction, AdventureAdventure, FantasyFantasy",
         "marker": {
          "color": "#EF553B",
          "symbol": "circle"
         },
         "mode": "markers",
         "name": "ActionAction, AdventureAdventure, FantasyFantasy",
         "orientation": "v",
         "showlegend": true,
         "type": "scatter",
         "x": [
          13,
          746,
          118,
          609,
          46,
          574,
          357,
          11,
          386,
          72,
          487,
          44,
          306,
          43,
          301,
          447,
          22,
          646,
          3373,
          47,
          185,
          529,
          671,
          98,
          105,
          93,
          3059,
          509,
          64,
          486,
          354,
          283,
          626,
          1118,
          508,
          227,
          502,
          133,
          161,
          285,
          173,
          4913,
          198,
          733,
          1012,
          299,
          442,
          1079,
          326,
          109,
          1974,
          31,
          597,
          614,
          2380,
          472,
          366,
          2718,
          2406,
          243,
          192,
          732,
          1303,
          428,
          542,
          5311,
          413,
          1053,
          525,
          538,
          619,
          1164,
          800,
          309,
          674,
          1638,
          103,
          1178,
          2008,
          101,
          6075,
          620,
          421,
          190,
          2594,
          5587,
          45,
          271,
          719,
          965,
          3103,
          2430,
          1573,
          715,
          3158,
          1876,
          62,
          135,
          91,
          209,
          1056,
          11443,
          2274,
          348,
          3433,
          389,
          263,
          452,
          4739,
          679,
          2752,
          248,
          66,
          407,
          5530,
          513,
          333,
          754,
          618,
          901,
          507,
          156,
          826,
          245,
          4021,
          456,
          414,
          79,
          4327,
          1401,
          923,
          707,
          459,
          397,
          76,
          1275,
          141,
          5983,
          540,
          1149,
          219,
          4608,
          861,
          1578,
          25,
          53,
          1201,
          374,
          223,
          1653,
          1230,
          5293,
          1097,
          11250,
          683,
          3443,
          1042,
          1621,
          10295,
          3562,
          2462,
          4230,
          142,
          580,
          1197,
          1994,
          2963,
          1748,
          1412,
          199,
          138,
          467,
          6021,
          288,
          457,
          1726,
          3463,
          495,
          4371,
          1421,
          1044,
          1518,
          925,
          4487,
          1388,
          49,
          3985,
          2258,
          2472,
          269,
          831,
          1108,
          972,
          4473,
          1026,
          4238,
          2504,
          6222,
          2964,
          694,
          3086,
          2005,
          4848,
          5538,
          7533,
          2966,
          2974,
          338,
          1099,
          2084,
          40,
          893,
          90,
          1140,
          239,
          3061,
          551,
          2712,
          123,
          246,
          1331,
          3677,
          11337,
          3778,
          1524,
          425,
          108,
          6656,
          7279,
          1499,
          95,
          24,
          995,
          17,
          30,
          4831,
          166,
          2299,
          616,
          4083,
          519,
          805,
          403,
          2492,
          9404,
          1554,
          747,
          405,
          4697,
          2579,
          970,
          55,
          650,
          220,
          820,
          5149,
          391,
          426,
          5431,
          1516,
          1058,
          2306,
          632,
          4294,
          3627,
          491,
          596,
          817,
          2121,
          84,
          677,
          1125,
          1864,
          2806,
          9980,
          1424,
          387,
          1290,
          89,
          773,
          8051,
          2628,
          4075,
          2695,
          1846,
          7269,
          464,
          844,
          959,
          4798,
          11638,
          2303,
          3099,
          3093,
          2170,
          578,
          1766,
          3144,
          3885,
          5329,
          6573,
          182,
          4484,
          4213,
          361,
          150,
          890,
          2920,
          1407,
          967,
          2613,
          3184,
          6053,
          837,
          4499,
          68,
          1916,
          1160,
          2284,
          2260,
          111,
          802,
          860,
          782,
          6282,
          2120,
          377,
          2723,
          1214,
          158,
          7797,
          1716,
          1368,
          703,
          7104,
          2463,
          934,
          2158,
          4072,
          398,
          12043,
          189,
          927,
          7671,
          532,
          4183,
          4772,
          760,
          938,
          132,
          67,
          167,
          865,
          598,
          1764,
          4645,
          1967,
          686,
          193,
          1287,
          322,
          1693,
          714,
          1943,
          669,
          1557,
          3984,
          3109,
          1569,
          6303,
          1601,
          2052,
          4994,
          1008,
          945,
          2165,
          233,
          1447,
          1506,
          201,
          2639,
          436,
          1840,
          656,
          7090,
          1732,
          1217,
          2192,
          4128,
          3556,
          3248,
          1373,
          5393,
          636,
          144,
          5496,
          4005,
          2573,
          104,
          2025,
          2178,
          6455,
          728,
          2193,
          1749,
          5103,
          3143,
          2659,
          1067,
          1355,
          2514,
          4274,
          824,
          2750,
          1400,
          3593,
          3921,
          1450,
          3596,
          563,
          1184,
          1360,
          1482,
          7494,
          183,
          6211,
          1403,
          5799,
          5184,
          277,
          1047,
          1250,
          4008,
          635,
          3837,
          1643,
          4632,
          177,
          5392,
          1124,
          4684,
          776,
          4329,
          770,
          839,
          485,
          1279,
          5468,
          3153,
          6976,
          2846,
          575,
          8834,
          4190,
          712,
          325,
          2741,
          4497,
          2511,
          764,
          1682,
          4003
         ],
         "xaxis": "x",
         "y": [
          9.07,
          9.02,
          8.93,
          8.92,
          8.91,
          8.87,
          8.87,
          8.84,
          8.79,
          8.79,
          8.78,
          8.77,
          8.76,
          8.75,
          8.71,
          8.7,
          8.7,
          8.68,
          8.68,
          8.68,
          8.67,
          8.67,
          8.66,
          8.66,
          8.66,
          8.65,
          8.65,
          8.64,
          8.63,
          8.61,
          8.6,
          8.59,
          8.59,
          8.58,
          8.57,
          8.57,
          8.56,
          8.55,
          8.55,
          8.55,
          8.55,
          8.55,
          8.53,
          8.53,
          8.52,
          8.52,
          8.52,
          8.52,
          8.51,
          8.51,
          8.5,
          8.49,
          8.49,
          8.48,
          8.47,
          8.45,
          8.45,
          8.44,
          8.43,
          8.43,
          8.43,
          8.42,
          8.42,
          8.42,
          8.41,
          8.41,
          8.4,
          8.4,
          8.39,
          8.39,
          8.38,
          8.38,
          8.38,
          8.37,
          8.37,
          8.37,
          8.37,
          8.37,
          8.37,
          8.37,
          8.37,
          8.36,
          8.36,
          8.36,
          8.35,
          8.35,
          8.35,
          8.35,
          8.35,
          8.35,
          8.34,
          8.34,
          8.34,
          8.34,
          8.33,
          8.33,
          8.33,
          8.33,
          8.33,
          8.32,
          8.32,
          8.32,
          8.32,
          8.32,
          8.32,
          8.31,
          8.31,
          8.31,
          8.31,
          8.31,
          8.3,
          8.3,
          8.3,
          8.3,
          8.3,
          8.29,
          8.29,
          8.29,
          8.28,
          8.28,
          8.28,
          8.28,
          8.28,
          8.27,
          8.27,
          8.27,
          8.27,
          8.27,
          8.27,
          8.26,
          8.26,
          8.26,
          8.26,
          8.26,
          8.26,
          8.25,
          8.25,
          8.24,
          8.24,
          8.24,
          8.23,
          8.23,
          8.23,
          8.23,
          8.23,
          8.23,
          8.22,
          8.22,
          8.22,
          8.22,
          8.22,
          8.22,
          8.22,
          8.22,
          8.21,
          8.21,
          8.21,
          8.21,
          8.21,
          8.21,
          8.21,
          8.2,
          8.2,
          8.2,
          8.19,
          8.19,
          8.19,
          8.19,
          8.18,
          8.18,
          8.18,
          8.17,
          8.17,
          8.17,
          8.17,
          8.17,
          8.16,
          8.16,
          8.16,
          8.16,
          8.16,
          8.15,
          8.15,
          8.15,
          8.15,
          8.15,
          8.15,
          8.14,
          8.14,
          8.14,
          8.14,
          8.13,
          8.13,
          8.13,
          8.13,
          8.14,
          8.13,
          8.13,
          8.12,
          8.12,
          8.12,
          8.12,
          8.12,
          8.12,
          8.11,
          8.11,
          8.11,
          8.11,
          8.11,
          8.1,
          8.1,
          8.1,
          8.1,
          8.1,
          8.1,
          8.1,
          8.09,
          8.09,
          8.09,
          8.09,
          8.09,
          8.09,
          8.08,
          8.08,
          8.08,
          8.08,
          8.07,
          8.07,
          8.07,
          8.07,
          8.07,
          8.07,
          8.06,
          8.06,
          8.06,
          8.06,
          8.05,
          8.05,
          8.05,
          8.05,
          8.05,
          8.05,
          8.04,
          8.04,
          8.04,
          8.04,
          8.04,
          8.04,
          8.04,
          8.03,
          8.03,
          8.03,
          8.03,
          8.03,
          8.03,
          8.03,
          8.02,
          8.02,
          8.02,
          8.02,
          8.02,
          8.02,
          8.02,
          8.02,
          8.01,
          8.01,
          8.01,
          8.01,
          8.01,
          8,
          8,
          8,
          8,
          8,
          8,
          8,
          8,
          8,
          7.99,
          7.99,
          7.99,
          7.99,
          7.99,
          7.98,
          7.98,
          7.98,
          7.98,
          7.98,
          7.97,
          7.97,
          7.97,
          7.97,
          7.97,
          7.97,
          7.97,
          7.97,
          7.97,
          7.97,
          7.97,
          7.97,
          7.96,
          7.96,
          7.96,
          7.96,
          7.96,
          7.96,
          7.95,
          7.95,
          7.95,
          7.95,
          7.95,
          7.95,
          7.95,
          7.95,
          7.95,
          7.95,
          7.95,
          7.94,
          7.94,
          7.94,
          7.94,
          7.94,
          7.94,
          7.93,
          7.93,
          7.93,
          7.93,
          7.93,
          7.93,
          7.93,
          7.93,
          7.93,
          7.93,
          7.93,
          7.92,
          7.92,
          7.92,
          7.92,
          7.92,
          7.92,
          7.92,
          7.92,
          7.92,
          7.92,
          7.92,
          7.92,
          7.92,
          7.91,
          7.91,
          7.91,
          7.91,
          7.91,
          7.91,
          7.91,
          7.91,
          7.91,
          7.9,
          7.9,
          7.9,
          7.9,
          7.9,
          7.9,
          7.9,
          7.9,
          7.89,
          7.89,
          7.89,
          7.89,
          7.89,
          7.89,
          7.89,
          7.89,
          7.89,
          7.88,
          7.88,
          7.88,
          7.88,
          7.88,
          7.88,
          7.88,
          7.88,
          7.88,
          7.88,
          7.88,
          7.88,
          7.87,
          7.87,
          7.87,
          7.87,
          7.87,
          7.87,
          7.87,
          7.87,
          7.87,
          7.86,
          7.86,
          7.86,
          7.86,
          7.86,
          7.86,
          7.86,
          7.86,
          7.85,
          7.85,
          7.85,
          7.85,
          7.85,
          7.85,
          7.85,
          7.85,
          7.85,
          7.84,
          7.84,
          7.84,
          7.84,
          7.84,
          7.84,
          7.84,
          7.83,
          7.83,
          7.83,
          7.83,
          7.83,
          7.83,
          7.83,
          7.83,
          7.83,
          7.83,
          7.83,
          7.83,
          7.83,
          7.83,
          7.83,
          7.83,
          7.82,
          7.82,
          7.82,
          7.82,
          7.82,
          7.82,
          7.82,
          7.82,
          7.82,
          7.82,
          7.82,
          7.82,
          7.82,
          7.82,
          7.81,
          7.81,
          7.81,
          7.81,
          7.81,
          7.81,
          7.81,
          7.81,
          7.81,
          7.81,
          7.8,
          7.8,
          7.8,
          7.8
         ],
         "yaxis": "y"
        },
        {
         "hovertemplate": "<b>%{hovertext}</b><br><br>Demographic=SeinenSeinen<br>Popularity=%{x}<br>Score=%{y}<extra></extra>",
         "hovertext": [
          "Kaguya-sama: Love is War - Ultra Romantic",
          "March Comes In Like a Lion 2nd Season",
          "Monster",
          "Kingdom: Season 3",
          "Vinland Saga Season 2",
          "Kaguya-sama: Love is War - The First Kiss That Never Ends",
          "Kingdom: Season 5",
          "Kingdom: Season 4",
          "Mushi-shi: Next Passage Part 2",
          "Mushi-shi: Next Passage Part 1",
          "[Oshi No Ko]",
          "Mushi-Shi",
          "Bungo Stray Dogs 5",
          "Kaguya-sama: Love is War Season 2",
          "Ping Pong the Animation",
          "Berserk",
          "Mushishi Tokubetsu-hen: Suzu no Shizuku, Mushishi: The Next Chapter - Drops of Bells",
          "Mushi-shi: The Shadow that Devours the Sun",
          "Ghost in the Shell: Stand Alone Complex 2nd GIG",
          "Pluto",
          "One Punch Man",
          "Space Brothers",
          "Rainbow",
          "Bungo Stray Dogs 4",
          "Golden Kamuy Season 3",
          "Grand Blue Dreaming",
          "Mushi-shi Path of Thorns",
          "Ghost in the Shell: Stand Alone Complex",
          "Kaguya-sama: Love is War",
          "Land of the Lustrous",
          "March Comes In Like a Lion",
          "Non Non Biyori Nonstop",
          "Hellsing Ultimate",
          "Initial D First Stage",
          "Parasyte: The Maxim",
          "One Outs",
          "Kingdom: Season 2",
          "Erased",
          "Ghost in the Shell",
          "Kaiji: Ultimate Survivor",
          "Planetes",
          "Kaiji: Against All Rules",
          "Golden Kamuy Season 2",
          "In This Corner of the World",
          "Heavenly Delusion",
          "xxxHOLiC: Tsugi, xxxHOLiC TV 2, xxxHOLiC New Series, xxxHOLiC Second Season, xxxHOLiC 2nd Series",
          "Maison Ikkoku",
          "Bungo Stray Dogs 3",
          "Berserk: The Golden Age Arc III - The Advent",
          "Kotaro Lives Alone",
          "Aoashi",
          "Asobi Asobase - workshop of fun -",
          "My Dress-Up Darling",
          "xxxHOLiC Rou: Adayume",
          "Non Non Biyori Repeat",
          "Bungo Stray Dogs 2",
          "Initial D Second Stage",
          "Black Lagoon: The Second Barrage",
          "Initial D 4th Stage",
          "Akira",
          "Lupin III: The Castle of Cagliostro",
          "Lupin the Third Part 5",
          "Non Non Biyori Nonstop: Our Club Worked Hard",
          "Golden Kamuy Season 4",
          "Working!!! Episode 14",
          "Keep Your Hands Off Eizouken!",
          "Hinamatsuri",
          "Skip and Loafer",
          "Ghost in the Shell: Stand Alone Complex - Solid State Society",
          "Detroit Metal City",
          "Delicious in Dungeon",
          "Insomniacs After School",
          "Ghost in the Shell: Stand Alone Complex - The Laughing Man",
          "Hanada Shonen-Shi",
          "Golden Boy",
          "Hyougemono",
          "xxxHOLiC OVA",
          "Black Lagoon",
          "Black Lagoon: Roberta's Blood Trail",
          "Shadows House 2nd Season",
          "xxxHOLiC",
          "Ghost in the Shell 2.0",
          "Big Windup! 2",
          "Hi Score Girl: Extra Stage",
          "Hi Score Girl II",
          "Wagnaria!!3",
          "xxxHOLiC The Movie: A Midsummer Night's Dream",
          "Non Non Biyori",
          "Akagi",
          "Bungo Stray Dogs: Dead Apple",
          "Eiga Crayon Shin-chan: Arashi wo Yobu Mouretsu! Otona Teikoku Gyakushuu, Crayon Shin-chan: The Storm Called: The Adult Empire Strikes Back",
          "Kingdom",
          "Lupin the Third Part 4",
          "Berserk: The Golden Age Arc - Memorial Edition",
          "Drifters",
          "Hozuki's Coolheadedness 2",
          "Jormungand Season 2: Perfect Order",
          "Golden Kamuy",
          "Lupin the Third: Goemon's Blood Spray",
          "Big Windup!",
          "Berserk: The Golden Age Arc II - The Battle for Doldrey",
          "Initial D Legend 3: Dream",
          "Non Non Biyori Repeat: Hotaru Had Fun",
          "Hozuki's Coolheadedness 2: Part 2",
          "Dance Dance Danseur",
          "Cool-headed Hoozuki OVA, Hozuki no Reitetsu OVA",
          "Outlaw Star",
          "Lupin the Third: Jigen's Gravestone",
          "Astro Fighter Sunred 2",
          "Zom 100: Bucket List of the Dead",
          "Aoki Hagane no Arpeggio: Ars Nova Cadenza, Arpeggio of Blue Steel: Ars Nova Movie 2, Gekijouban Aoki Hagane no Arpeggio",
          "Emma: A Victorian Romance Season Two",
          "Lupin the 3rd: The First",
          "Wagnaria!!2",
          "Bungo Stray Dogs",
          "The 100 Girlfriends Who Really, Really, Really, Really, Really Love You",
          "Rupan Sansei: Part II, Shin Lupin III, Lupin III: Greatest Capers",
          "Initial D Legend 2 Racer",
          "Initial D Legend 1 Awakening"
         ],
         "legendgroup": "SeinenSeinen",
         "marker": {
          "color": "#00cc96",
          "symbol": "circle"
         },
         "mode": "markers",
         "name": "SeinenSeinen",
         "orientation": "v",
         "showlegend": true,
         "type": "scatter",
         "x": [
          178,
          567,
          131,
          2032,
          359,
          920,
          3851,
          2725,
          908,
          803,
          242,
          215,
          1338,
          97,
          585,
          314,
          1735,
          1629,
          1069,
          1507,
          4,
          1231,
          579,
          851,
          1390,
          244,
          2058,
          577,
          51,
          489,
          296,
          1770,
          174,
          607,
          42,
          1013,
          1747,
          28,
          336,
          661,
          957,
          1235,
          1172,
          1269,
          480,
          1582,
          2521,
          339,
          1074,
          1509,
          1156,
          469,
          143,
          2602,
          1196,
          205,
          1096,
          427,
          1273,
          210,
          1854,
          3331,
          4748,
          2139,
          2037,
          699,
          433,
          928,
          2071,
          1139,
          1090,
          1162,
          3500,
          5286,
          571,
          4154,
          2581,
          155,
          804,
          1830,
          745,
          2248,
          3302,
          2489,
          1644,
          977,
          2672,
          535,
          2023,
          863,
          6247,
          1098,
          2565,
          3511,
          383,
          3207,
          1237,
          590,
          3515,
          2069,
          1132,
          4176,
          3121,
          4114,
          2322,
          5122,
          1488,
          4100,
          6985,
          430,
          3986,
          4219,
          3898,
          915,
          92,
          1165,
          3759,
          3995,
          3598
         ],
         "xaxis": "x",
         "y": [
          9.01,
          8.92,
          8.88,
          8.82,
          8.81,
          8.78,
          8.75,
          8.74,
          8.73,
          8.69,
          8.67,
          8.66,
          8.65,
          8.63,
          8.62,
          8.59,
          8.59,
          8.53,
          8.52,
          8.51,
          8.5,
          8.49,
          8.47,
          8.45,
          8.45,
          8.43,
          8.43,
          8.42,
          8.41,
          8.39,
          8.38,
          8.37,
          8.35,
          8.35,
          8.33,
          8.33,
          8.31,
          8.3,
          8.27,
          8.27,
          8.26,
          8.25,
          8.24,
          8.23,
          8.22,
          8.21,
          8.21,
          8.21,
          8.2,
          8.19,
          8.19,
          8.19,
          8.19,
          8.19,
          8.18,
          8.18,
          8.18,
          8.17,
          8.17,
          8.16,
          8.15,
          8.15,
          8.15,
          8.14,
          8.14,
          8.13,
          8.13,
          8.13,
          8.11,
          8.1,
          8.09,
          8.08,
          8.07,
          8.07,
          8.04,
          8.04,
          8.04,
          8.03,
          8.02,
          8.01,
          7.98,
          7.97,
          7.97,
          7.97,
          7.96,
          7.95,
          7.94,
          7.94,
          7.93,
          7.92,
          7.92,
          7.91,
          7.91,
          7.9,
          7.89,
          7.89,
          7.89,
          7.88,
          7.88,
          7.88,
          7.87,
          7.87,
          7.86,
          7.86,
          7.84,
          7.84,
          7.84,
          7.83,
          7.83,
          7.83,
          7.83,
          7.82,
          7.82,
          7.82,
          7.81,
          7.81,
          7.81,
          7.81,
          7.8
         ],
         "yaxis": "y"
        },
        {
         "hovertemplate": "<b>%{hovertext}</b><br><br>Demographic=ShoujoShoujo<br>Popularity=%{x}<br>Score=%{y}<extra></extra>",
         "hovertext": [
          "Fruits Basket: The Final Season",
          "Natsume's Book of Friends Season 4",
          "Natsume's Book of Friends Season 6",
          "Natsume's Book of Friends Season 5",
          "Natsume's Book of Friends Season 3",
          "Nana",
          "Natsume's Book of Friends Season 2",
          "Fruits Basket 2nd Season",
          "Banana Fish",
          "Natsume's Book of Friends Movie: Ephemeral Bond",
          "Kyouko to Katsuya no Monogatari, The Story of Kyoko and Katsuya",
          "Natsume's Book of Friends Season 6 Specials",
          "The Rose of Versailles",
          "Natsume’s Book of Friends: On a Certain Snowy Day",
          "Natsume's Book of Friends Season 5 Specials",
          "Natsume's Book of Friends",
          "Into the Forest of Fireflies' Light",
          "A Sign of Affection",
          "Kamisama Kiss Season 2",
          "Whisper of the Heart",
          "Cardcaptor Sakura Movie 2: The Sealed Card",
          "Fruits Basket 1st Season",
          "Cardcaptor Sakura",
          "Natsume's Book of Friends: The Waking Rock and the Strange Visitor",
          "Ouran High School Host Club",
          "Kamisama Kiss",
          "Yona of the Dawn OVA",
          "Glass Mask",
          "Skip Beat!",
          "Kodocha",
          "Kamisama Kiss OVA",
          "Lovely Complex",
          "Yona of the Dawn",
          "Tales of Saiunkoku",
          "Kimi ni Todoke: From Me to You",
          "Maid Sama!",
          "Kimi ni Todoke: From Me to You Season 2",
          "Sacrificial Princess and the King of Beasts",
          "Snow White with the Red Hair 2",
          "Sailor Moon Sailor Stars",
          "Searching for the Full Moon",
          "Sailor Moon S",
          "The Yuzuki Family's Four Sons",
          "School Babysitters",
          "My Love Story!!",
          "Dear Brother",
          "The Story of Saiunkoku",
          "Yumeiro Patissiere, YumePati, Dream-Colored Pastry Chef, Yumeiro Pâtissière",
          "Iga no Kabamaru, Ninja Boy",
          "Baby and Me",
          "Maria Watches Over Us 3rd"
         ],
         "legendgroup": "ShoujoShoujo",
         "marker": {
          "color": "#ab63fa",
          "symbol": "circle"
         },
         "mode": "markers",
         "name": "ShoujoShoujo",
         "orientation": "v",
         "showlegend": true,
         "type": "scatter",
         "x": [
          473,
          993,
          1283,
          1284,
          964,
          307,
          982,
          434,
          203,
          2537,
          1988,
          3212,
          2103,
          2377,
          3251,
          408,
          221,
          1183,
          557,
          648,
          1870,
          214,
          515,
          3736,
          129,
          316,
          1663,
          3528,
          896,
          2611,
          1696,
          369,
          208,
          3461,
          164,
          107,
          463,
          2541,
          653,
          1904,
          1951,
          1555,
          3043,
          689,
          300,
          3197,
          2116,
          2339,
          6072,
          4552,
          4570
         ],
         "xaxis": "x",
         "y": [
          8.98,
          8.64,
          8.62,
          8.57,
          8.57,
          8.55,
          8.54,
          8.54,
          8.47,
          8.42,
          8.41,
          8.4,
          8.34,
          8.33,
          8.32,
          8.31,
          8.28,
          8.27,
          8.22,
          8.22,
          8.21,
          8.21,
          8.17,
          8.16,
          8.16,
          8.11,
          8.1,
          8.08,
          8.08,
          8.07,
          8.05,
          8.03,
          8.03,
          8.02,
          8.01,
          8,
          7.99,
          7.99,
          7.97,
          7.96,
          7.95,
          7.91,
          7.9,
          7.9,
          7.9,
          7.88,
          7.88,
          7.86,
          7.85,
          7.83,
          7.81
         ],
         "yaxis": "y"
        },
        {
         "hovertemplate": "<b>%{hovertext}</b><br><br>Demographic=JoseiJosei<br>Popularity=%{x}<br>Score=%{y}<extra></extra>",
         "hovertext": [
          "Descending Stories: Showa Genroku Rakugo Shinju",
          "Showa Genroku Rakugo Shinju",
          "Chihayafull 3",
          "Chihayafull 2",
          "Bunny Drop",
          "Kids on the Slope",
          "Nodame Cantabile",
          "Nodame Cantabile Third Season, Nodame Cantabile Season 3",
          "Honey and Clover II",
          "Chihayafuru",
          "Nodame Cantabile Paris Chapter, Nodame Cantabile Pari-hen",
          "Princess Jellyfish",
          "Honey and Clover",
          "Bunny Drop Specials",
          "Polar Bear Cafe",
          "Paradise Kiss"
         ],
         "legendgroup": "JoseiJosei",
         "marker": {
          "color": "#FFA15A",
          "symbol": "circle"
         },
         "mode": "markers",
         "name": "JoseiJosei",
         "orientation": "v",
         "showlegend": true,
         "type": "scatter",
         "x": [
          1274,
          835,
          1613,
          1028,
          449,
          600,
          759,
          1741,
          1989,
          488,
          1768,
          1015,
          903,
          2582,
          2148,
          1068
         ],
         "xaxis": "x",
         "y": [
          8.72,
          8.56,
          8.46,
          8.38,
          8.34,
          8.3,
          8.26,
          8.23,
          8.2,
          8.18,
          8.14,
          8.11,
          8,
          7.93,
          7.9,
          7.86
         ],
         "yaxis": "y"
        },
        {
         "hovertemplate": "<b>%{hovertext}</b><br><br>Demographic=KidsKids<br>Popularity=%{x}<br>Score=%{y}<extra></extra>",
         "hovertext": [
          "Mumins, Delightful Moomin Family, Fun Family Moomin, The Moomins, Tales From Moominvalley",
          "Stand By Me Doraemon 2",
          "Heart and Yummie",
          "Nobody's Boy Remi"
         ],
         "legendgroup": "KidsKids",
         "marker": {
          "color": "#19d3f3",
          "symbol": "circle"
         },
         "mode": "markers",
         "name": "KidsKids",
         "orientation": "v",
         "showlegend": true,
         "type": "scatter",
         "x": [
          4217,
          4480,
          4845,
          5276
         ],
         "xaxis": "x",
         "y": [
          8.24,
          8.19,
          8.03,
          7.89
         ],
         "yaxis": "y"
        }
       ],
       "layout": {
        "height": 600,
        "legend": {
         "title": {
          "text": "Demographic"
         },
         "tracegroupgap": 0
        },
        "template": {
         "data": {
          "bar": [
           {
            "error_x": {
             "color": "#f2f5fa"
            },
            "error_y": {
             "color": "#f2f5fa"
            },
            "marker": {
             "line": {
              "color": "rgb(17,17,17)",
              "width": 0.5
             },
             "pattern": {
              "fillmode": "overlay",
              "size": 10,
              "solidity": 0.2
             }
            },
            "type": "bar"
           }
          ],
          "barpolar": [
           {
            "marker": {
             "line": {
              "color": "rgb(17,17,17)",
              "width": 0.5
             },
             "pattern": {
              "fillmode": "overlay",
              "size": 10,
              "solidity": 0.2
             }
            },
            "type": "barpolar"
           }
          ],
          "carpet": [
           {
            "aaxis": {
             "endlinecolor": "#A2B1C6",
             "gridcolor": "#506784",
             "linecolor": "#506784",
             "minorgridcolor": "#506784",
             "startlinecolor": "#A2B1C6"
            },
            "baxis": {
             "endlinecolor": "#A2B1C6",
             "gridcolor": "#506784",
             "linecolor": "#506784",
             "minorgridcolor": "#506784",
             "startlinecolor": "#A2B1C6"
            },
            "type": "carpet"
           }
          ],
          "choropleth": [
           {
            "colorbar": {
             "outlinewidth": 0,
             "ticks": ""
            },
            "type": "choropleth"
           }
          ],
          "contour": [
           {
            "colorbar": {
             "outlinewidth": 0,
             "ticks": ""
            },
            "colorscale": [
             [
              0,
              "#0d0887"
             ],
             [
              0.1111111111111111,
              "#46039f"
             ],
             [
              0.2222222222222222,
              "#7201a8"
             ],
             [
              0.3333333333333333,
              "#9c179e"
             ],
             [
              0.4444444444444444,
              "#bd3786"
             ],
             [
              0.5555555555555556,
              "#d8576b"
             ],
             [
              0.6666666666666666,
              "#ed7953"
             ],
             [
              0.7777777777777778,
              "#fb9f3a"
             ],
             [
              0.8888888888888888,
              "#fdca26"
             ],
             [
              1,
              "#f0f921"
             ]
            ],
            "type": "contour"
           }
          ],
          "contourcarpet": [
           {
            "colorbar": {
             "outlinewidth": 0,
             "ticks": ""
            },
            "type": "contourcarpet"
           }
          ],
          "heatmap": [
           {
            "colorbar": {
             "outlinewidth": 0,
             "ticks": ""
            },
            "colorscale": [
             [
              0,
              "#0d0887"
             ],
             [
              0.1111111111111111,
              "#46039f"
             ],
             [
              0.2222222222222222,
              "#7201a8"
             ],
             [
              0.3333333333333333,
              "#9c179e"
             ],
             [
              0.4444444444444444,
              "#bd3786"
             ],
             [
              0.5555555555555556,
              "#d8576b"
             ],
             [
              0.6666666666666666,
              "#ed7953"
             ],
             [
              0.7777777777777778,
              "#fb9f3a"
             ],
             [
              0.8888888888888888,
              "#fdca26"
             ],
             [
              1,
              "#f0f921"
             ]
            ],
            "type": "heatmap"
           }
          ],
          "heatmapgl": [
           {
            "colorbar": {
             "outlinewidth": 0,
             "ticks": ""
            },
            "colorscale": [
             [
              0,
              "#0d0887"
             ],
             [
              0.1111111111111111,
              "#46039f"
             ],
             [
              0.2222222222222222,
              "#7201a8"
             ],
             [
              0.3333333333333333,
              "#9c179e"
             ],
             [
              0.4444444444444444,
              "#bd3786"
             ],
             [
              0.5555555555555556,
              "#d8576b"
             ],
             [
              0.6666666666666666,
              "#ed7953"
             ],
             [
              0.7777777777777778,
              "#fb9f3a"
             ],
             [
              0.8888888888888888,
              "#fdca26"
             ],
             [
              1,
              "#f0f921"
             ]
            ],
            "type": "heatmapgl"
           }
          ],
          "histogram": [
           {
            "marker": {
             "pattern": {
              "fillmode": "overlay",
              "size": 10,
              "solidity": 0.2
             }
            },
            "type": "histogram"
           }
          ],
          "histogram2d": [
           {
            "colorbar": {
             "outlinewidth": 0,
             "ticks": ""
            },
            "colorscale": [
             [
              0,
              "#0d0887"
             ],
             [
              0.1111111111111111,
              "#46039f"
             ],
             [
              0.2222222222222222,
              "#7201a8"
             ],
             [
              0.3333333333333333,
              "#9c179e"
             ],
             [
              0.4444444444444444,
              "#bd3786"
             ],
             [
              0.5555555555555556,
              "#d8576b"
             ],
             [
              0.6666666666666666,
              "#ed7953"
             ],
             [
              0.7777777777777778,
              "#fb9f3a"
             ],
             [
              0.8888888888888888,
              "#fdca26"
             ],
             [
              1,
              "#f0f921"
             ]
            ],
            "type": "histogram2d"
           }
          ],
          "histogram2dcontour": [
           {
            "colorbar": {
             "outlinewidth": 0,
             "ticks": ""
            },
            "colorscale": [
             [
              0,
              "#0d0887"
             ],
             [
              0.1111111111111111,
              "#46039f"
             ],
             [
              0.2222222222222222,
              "#7201a8"
             ],
             [
              0.3333333333333333,
              "#9c179e"
             ],
             [
              0.4444444444444444,
              "#bd3786"
             ],
             [
              0.5555555555555556,
              "#d8576b"
             ],
             [
              0.6666666666666666,
              "#ed7953"
             ],
             [
              0.7777777777777778,
              "#fb9f3a"
             ],
             [
              0.8888888888888888,
              "#fdca26"
             ],
             [
              1,
              "#f0f921"
             ]
            ],
            "type": "histogram2dcontour"
           }
          ],
          "mesh3d": [
           {
            "colorbar": {
             "outlinewidth": 0,
             "ticks": ""
            },
            "type": "mesh3d"
           }
          ],
          "parcoords": [
           {
            "line": {
             "colorbar": {
              "outlinewidth": 0,
              "ticks": ""
             }
            },
            "type": "parcoords"
           }
          ],
          "pie": [
           {
            "automargin": true,
            "type": "pie"
           }
          ],
          "scatter": [
           {
            "marker": {
             "line": {
              "color": "#283442"
             }
            },
            "type": "scatter"
           }
          ],
          "scatter3d": [
           {
            "line": {
             "colorbar": {
              "outlinewidth": 0,
              "ticks": ""
             }
            },
            "marker": {
             "colorbar": {
              "outlinewidth": 0,
              "ticks": ""
             }
            },
            "type": "scatter3d"
           }
          ],
          "scattercarpet": [
           {
            "marker": {
             "colorbar": {
              "outlinewidth": 0,
              "ticks": ""
             }
            },
            "type": "scattercarpet"
           }
          ],
          "scattergeo": [
           {
            "marker": {
             "colorbar": {
              "outlinewidth": 0,
              "ticks": ""
             }
            },
            "type": "scattergeo"
           }
          ],
          "scattergl": [
           {
            "marker": {
             "line": {
              "color": "#283442"
             }
            },
            "type": "scattergl"
           }
          ],
          "scattermapbox": [
           {
            "marker": {
             "colorbar": {
              "outlinewidth": 0,
              "ticks": ""
             }
            },
            "type": "scattermapbox"
           }
          ],
          "scatterpolar": [
           {
            "marker": {
             "colorbar": {
              "outlinewidth": 0,
              "ticks": ""
             }
            },
            "type": "scatterpolar"
           }
          ],
          "scatterpolargl": [
           {
            "marker": {
             "colorbar": {
              "outlinewidth": 0,
              "ticks": ""
             }
            },
            "type": "scatterpolargl"
           }
          ],
          "scatterternary": [
           {
            "marker": {
             "colorbar": {
              "outlinewidth": 0,
              "ticks": ""
             }
            },
            "type": "scatterternary"
           }
          ],
          "surface": [
           {
            "colorbar": {
             "outlinewidth": 0,
             "ticks": ""
            },
            "colorscale": [
             [
              0,
              "#0d0887"
             ],
             [
              0.1111111111111111,
              "#46039f"
             ],
             [
              0.2222222222222222,
              "#7201a8"
             ],
             [
              0.3333333333333333,
              "#9c179e"
             ],
             [
              0.4444444444444444,
              "#bd3786"
             ],
             [
              0.5555555555555556,
              "#d8576b"
             ],
             [
              0.6666666666666666,
              "#ed7953"
             ],
             [
              0.7777777777777778,
              "#fb9f3a"
             ],
             [
              0.8888888888888888,
              "#fdca26"
             ],
             [
              1,
              "#f0f921"
             ]
            ],
            "type": "surface"
           }
          ],
          "table": [
           {
            "cells": {
             "fill": {
              "color": "#506784"
             },
             "line": {
              "color": "rgb(17,17,17)"
             }
            },
            "header": {
             "fill": {
              "color": "#2a3f5f"
             },
             "line": {
              "color": "rgb(17,17,17)"
             }
            },
            "type": "table"
           }
          ]
         },
         "layout": {
          "annotationdefaults": {
           "arrowcolor": "#f2f5fa",
           "arrowhead": 0,
           "arrowwidth": 1
          },
          "autotypenumbers": "strict",
          "coloraxis": {
           "colorbar": {
            "outlinewidth": 0,
            "ticks": ""
           }
          },
          "colorscale": {
           "diverging": [
            [
             0,
             "#8e0152"
            ],
            [
             0.1,
             "#c51b7d"
            ],
            [
             0.2,
             "#de77ae"
            ],
            [
             0.3,
             "#f1b6da"
            ],
            [
             0.4,
             "#fde0ef"
            ],
            [
             0.5,
             "#f7f7f7"
            ],
            [
             0.6,
             "#e6f5d0"
            ],
            [
             0.7,
             "#b8e186"
            ],
            [
             0.8,
             "#7fbc41"
            ],
            [
             0.9,
             "#4d9221"
            ],
            [
             1,
             "#276419"
            ]
           ],
           "sequential": [
            [
             0,
             "#0d0887"
            ],
            [
             0.1111111111111111,
             "#46039f"
            ],
            [
             0.2222222222222222,
             "#7201a8"
            ],
            [
             0.3333333333333333,
             "#9c179e"
            ],
            [
             0.4444444444444444,
             "#bd3786"
            ],
            [
             0.5555555555555556,
             "#d8576b"
            ],
            [
             0.6666666666666666,
             "#ed7953"
            ],
            [
             0.7777777777777778,
             "#fb9f3a"
            ],
            [
             0.8888888888888888,
             "#fdca26"
            ],
            [
             1,
             "#f0f921"
            ]
           ],
           "sequentialminus": [
            [
             0,
             "#0d0887"
            ],
            [
             0.1111111111111111,
             "#46039f"
            ],
            [
             0.2222222222222222,
             "#7201a8"
            ],
            [
             0.3333333333333333,
             "#9c179e"
            ],
            [
             0.4444444444444444,
             "#bd3786"
            ],
            [
             0.5555555555555556,
             "#d8576b"
            ],
            [
             0.6666666666666666,
             "#ed7953"
            ],
            [
             0.7777777777777778,
             "#fb9f3a"
            ],
            [
             0.8888888888888888,
             "#fdca26"
            ],
            [
             1,
             "#f0f921"
            ]
           ]
          },
          "colorway": [
           "#636efa",
           "#EF553B",
           "#00cc96",
           "#ab63fa",
           "#FFA15A",
           "#19d3f3",
           "#FF6692",
           "#B6E880",
           "#FF97FF",
           "#FECB52"
          ],
          "font": {
           "color": "#f2f5fa"
          },
          "geo": {
           "bgcolor": "rgb(17,17,17)",
           "lakecolor": "rgb(17,17,17)",
           "landcolor": "rgb(17,17,17)",
           "showlakes": true,
           "showland": true,
           "subunitcolor": "#506784"
          },
          "hoverlabel": {
           "align": "left"
          },
          "hovermode": "closest",
          "mapbox": {
           "style": "dark"
          },
          "paper_bgcolor": "rgb(17,17,17)",
          "plot_bgcolor": "rgb(17,17,17)",
          "polar": {
           "angularaxis": {
            "gridcolor": "#506784",
            "linecolor": "#506784",
            "ticks": ""
           },
           "bgcolor": "rgb(17,17,17)",
           "radialaxis": {
            "gridcolor": "#506784",
            "linecolor": "#506784",
            "ticks": ""
           }
          },
          "scene": {
           "xaxis": {
            "backgroundcolor": "rgb(17,17,17)",
            "gridcolor": "#506784",
            "gridwidth": 2,
            "linecolor": "#506784",
            "showbackground": true,
            "ticks": "",
            "zerolinecolor": "#C8D4E3"
           },
           "yaxis": {
            "backgroundcolor": "rgb(17,17,17)",
            "gridcolor": "#506784",
            "gridwidth": 2,
            "linecolor": "#506784",
            "showbackground": true,
            "ticks": "",
            "zerolinecolor": "#C8D4E3"
           },
           "zaxis": {
            "backgroundcolor": "rgb(17,17,17)",
            "gridcolor": "#506784",
            "gridwidth": 2,
            "linecolor": "#506784",
            "showbackground": true,
            "ticks": "",
            "zerolinecolor": "#C8D4E3"
           }
          },
          "shapedefaults": {
           "line": {
            "color": "#f2f5fa"
           }
          },
          "sliderdefaults": {
           "bgcolor": "#C8D4E3",
           "bordercolor": "rgb(17,17,17)",
           "borderwidth": 1,
           "tickwidth": 0
          },
          "ternary": {
           "aaxis": {
            "gridcolor": "#506784",
            "linecolor": "#506784",
            "ticks": ""
           },
           "baxis": {
            "gridcolor": "#506784",
            "linecolor": "#506784",
            "ticks": ""
           },
           "bgcolor": "rgb(17,17,17)",
           "caxis": {
            "gridcolor": "#506784",
            "linecolor": "#506784",
            "ticks": ""
           }
          },
          "title": {
           "x": 0.05
          },
          "updatemenudefaults": {
           "bgcolor": "#506784",
           "borderwidth": 0
          },
          "xaxis": {
           "automargin": true,
           "gridcolor": "#283442",
           "linecolor": "#506784",
           "ticks": "",
           "title": {
            "standoff": 15
           },
           "zerolinecolor": "#283442",
           "zerolinewidth": 2
          },
          "yaxis": {
           "automargin": true,
           "gridcolor": "#283442",
           "linecolor": "#506784",
           "ticks": "",
           "title": {
            "standoff": 15
           },
           "zerolinecolor": "#283442",
           "zerolinewidth": 2
          }
         }
        },
        "title": {
         "text": "Popularity vs. Score Colored by Demographic"
        },
        "width": 900,
        "xaxis": {
         "anchor": "y",
         "autorange": true,
         "domain": [
          0,
          1
         ],
         "range": [
          -795.9648048967101,
          12839.96480489671
         ],
         "title": {
          "text": "Popularity"
         },
         "type": "linear"
        },
        "yaxis": {
         "anchor": "x",
         "autorange": true,
         "domain": [
          0,
          1
         ],
         "range": [
          7.694453441295546,
          9.485546558704455
         ],
         "title": {
          "text": "Score"
         },
         "type": "linear"
        }
       }
      },
      "image/png": "[encoded data removed]",
      "text/html": [
       "<div>                            <div id=\"9a9f3200-d070-4bce-b11a-306d0cdbcdf3\" class=\"plotly-graph-div\" style=\"height:600px; width:900px;\"></div>            <script type=\"text/javascript\">                require([\"plotly\"], function(Plotly) {                    window.PLOTLYENV=window.PLOTLYENV || {};                                    if (document.getElementById(\"9a9f3200-d070-4bce-b11a-306d0cdbcdf3\")) {                    Plotly.newPlot(                        \"9a9f3200-d070-4bce-b11a-306d0cdbcdf3\",                        [{\"hovertemplate\":\"\\u003cb\\u003e%{hovertext}\\u003c\\u002fb\\u003e\\u003cbr\\u003e\\u003cbr\\u003eDemographic=ShounenShounen\\u003cbr\\u003ePopularity=%{x}\\u003cbr\\u003eScore=%{y}\\u003cextra\\u003e\\u003c\\u002fextra\\u003e\",\"hovertext\":[\"Frieren: Beyond Journey's End\",\"Fullmetal Alchemist: Brotherhood\",\"Gintama Season 4\",\"Attack on Titan Season 3 Part 2\",\"Gintama: The Very Final\",\"Hunter x Hunter\",\"Gintama Season 2\",\"Bleach: Thousand-Year Blood War\",\"Gintama: Enchousen\",\"Gintama Season 5\",\"Gintama\",\"A Silent Voice\",\"Gintama: The Movie: The Final Chapter: Be Forever Yorozuya\",\"Attack on Titan: Final Season - The Final Chapters\",\"The Dangers in My Heart Season 2\",\"Gintama.: Silver Soul Arc - Second Half War\",\"Jujutsu Kaisen Season 2\",\"Gintama.: Silver Soul Arc\",\"Attack on Titan: Final Season\",\"Haikyu!! 3rd Season\",\"Fighting Spirit\",\"Attack on Titan: Final Season Part 2\",\"Demon Slayer: Kimetsu no Yaiba Entertainment District Arc\",\"Tomorrow's Joe 2\",\"One Piece\",\"Samurai X: Trust and Betrayal\",\"Bleach: Thousand-Year Blood War - The Separation\",\"Great Teacher Onizuka\",\"Fighting Spirit: New Challenger\",\"Your Lie in April\",\"Haikyu!! 2nd Season\",\"Death Note\",\"Attack on Titan Season 3\",\"Fighting Spirit: Rising\",\"Jujutsu Kaisen\",\"Demon Slayer: Kimetsu no Yaiba - The Movie: Mugen Train\",\"JoJo's Bizarre Adventure: Golden Wind\",\"JoJo's Bizarre Adventure: Stone Ocean Part 3\",\"Haikyu!! To the Top 2nd-cour\",\"Attack on Titan\",\"Slam Dunk\",\"Bakuman. Season 3\",\"Gintama: The Movie\",\"Gintama.: Slip Arc\",\"Attack on Titan Season 2\",\"Chainsaw Man\",\"JoJo's Bizarre Adventure: Diamond Is Unbreakable\",\"The Promised Neverland\",\"Aria the Origination\",\"Summer Time Rendering\",\"Assassination Classroom Second Season\",\"Teasing Master Takagi-san: The Movie\",\"Demon Slayer: Kimetsu no Yaiba\",\"Nichijou - My Ordinary Life\",\"Yu Yu Hakusho: Ghost Files\",\"Haikyu!! Movie: Battle of the Garbage Dump\",\"Jujutsu Kaisen 0\",\"Haikyu!!\",\"JoJo's Bizarre Adventure: Stardust Crusaders - Battle in Egypt\",\"Shinsengumi Douran Hen, Kabuki Chou Shitennou Hen, Kabuki-chou Devas Hen, Gintama: The Best of Gintama on Theater 2D\",\"Kono Oto Tomare!: Sounds of Life Season 2\",\"The Disastrous Life of Saiki K. 2\",\"Hunter x Hunter\",\"Teasing Master Takagi-san 3\",\"The Disastrous Life of Saiki K.\",\"Major 5th Season\",\"Gintama: Love Incense Arc\",\"Cross Game\",\"Detective Conan Movie 26: Black Iron Submarine\",\"That Time I Got Reincarnated as a Slime Season 2\",\"Demon Slayer: Kimetsu no Yaiba Mugen Train Arc\",\"Haikyu!! To the Top\",\"To Your Eternity\",\"Mobile Suit Gundam: The Origin\",\"Bakuman. Season 2\",\"Dr. Stone 3rd Season Part 2\",\"That Time I Got Reincarnated as a Slime Season 2 Part 2\",\"Tomorrow's Joe\",\"Hunter x Hunter OVA, Hunter x Hunter: Yorkshin City Kanketsu-hen\",\"Major 6th Season\",\"Case Closed Movie 06: The Phantom of Baker Street\",\"Ace of Diamond: Second Season\",\"Beck: Mongolian Chop Squad\",\"My Hero Academia Season 6\",\"Kuroko's Basketball 3\",\"Rurouni Kenshin\",\"Dr. Stone\",\"Gintama: Shinyaku Benizakura-hen OVA, Gintama: Benizakura Arc - A New Retelling Special, Gintama Movie: Crimson Sakura Chapter New Edition, Gintama: Shin-yaku Benizakura-hen\",\"Tsubasa RESERVoir CHRoNiCLE: Tokyo Revelations\",\"Moriarty the Patriot Part 2\",\"That Time I Got Reincarnated as a Slime Season 3\",\"Naruto Shippuden\",\"Blue Lock\",\"Silver Spoon 2nd Season\",\"The Dangers in My Heart\",\"Ace of Diamond Act II\",\"Fighting Spirit: Champion Road\",\"Hunter x Hunter: G I Final, Hunter x Hunter OVA 3\",\"Demon Slayer: Kimetsu no Yaiba Swordsmith Village Arc\",\"Black Butler: Book of the Atlantic\",\"Detective Conan: Episode One - The Great Detective Turned Small\",\"Dororo\",\"Kaiju No. 8\",\"Fighting Spirit: Mashiba vs. Kimura\",\"Major 3rd Season, Major 3, m3\",\"Detective Conan Movie 13: The Raven Chaser\",\"Haikyu!! The Movie: Battle of Concepts\",\"Spy x Family Code: White\",\"Trigun\",\"SKET Dance\",\"Kuroko's Basketball 2\",\"Magi: The Kingdom of Magic\",\"One Piece: Stampede\",\"Horimiya\",\"InuYasha: The Final Act\",\"The Case Study of Vanitas Part 2\",\"The Disastrous Life of Saiki K. Final Arc\",\"Major 4th Season, Major 4, m4\",\"Detective Conan Movie 20: The Darkest Nightmare\",\"One Piece: Episode of Merry - The Tale of One More Friend\",\"Horimiya: The Missing Pieces\",\"Hunter X Hunter OVA 2\",\"Mobile Suit Gundam: The Origin - Advent of the Red Comet\",\"Bakuman.\",\"Welcome to the Ballroom\",\"Dragon Ball Z\",\"Aria the Natural\",\"Dr. Stone: Ryusui\",\"Dragon Ball Super: Broly\",\"Moriarty the Patriot\",\"Case Closed\",\"Dr. Stone 2nd Season, Dr. Stone Second Season\",\"Haikyu!! The Movie: Talent and Sense\",\"Major OVA\",\"Noragami Aragoto\",\"Dr. Stone 3rd Season\",\"Black Clover\",\"Food Wars! Shokugeki no Soma\",\"That Time I Got Reincarnated as a Slime\",\"Reborn!\",\"Case Closed Movie 05: Countdown to Heaven\",\"Detective Conan Movie 14: The Lost Ship in the Sky\",\"Gintama: Jump Festa 2014 Special, Gintama OAD, Gintama OVA\",\"JoJo's Bizarre Adventure: Stone Ocean\",\"One Piece Film: Z\",\"One Piece: Episode of Nami - Tears of a Navigator and the Bonds of Friends\",\"Ace of Diamond\",\"Fullmetal Alchemist\",\"Hell's Paradise\",\"Black Butler: Public School Arc\",\"The Disastrous Life of Saiki K.: Reawakened\",\"Kuroko\\u2019s Basketball: It is the Best Present\",\"The Ancient Magus' Bride: Those Awaiting a Star\",\"Saint Seiya: The Lost Canvas 2\",\"Gintama: Jump Festa 2015 Special\",\"Fighting Spirit Special\",\"JoJo's Bizarre Adventure: Stardust Crusaders\",\"Tsubasa RESERVoir CHRoNiCLE: Spring Thunder Chronicle\",\"Shangri-La Frontier\",\"Silver Spoon\",\"Assassination Classroom\",\"My Hero Academia Season 2\",\"To Your Eternity Season 2\",\"Gintama: Jump Festa 2005 Special\",\"Hikaru no Go\",\"JoJo's Bizarre Adventure: Stone Ocean Part 2\",\"Food Wars! The Second Plate\",\"Astra Lost in Space\",\"Kuroko's Basketball the Movie: Last Game\",\"Kyou Kara Ore Ha!!, From Today I'll, From Today on I am, From Today, It's My Turn!!\",\"Detective Conan Movie 18: The Sniper from Another Dimension\",\"Detective Conan Movie 08: Magician of the Silver Sky\",\"One Piece Film: Strong World\",\"Gintama Harumatsuri 2010\",\"Yowamushi Pedal 2nd Season, Yowapeda 2nd Season\",\"Kuroko's Basketball\",\"Black Butler: Book of Circus\",\"Black Butler: Book of Murder\",\"The Ancient Magus' Bride\",\"Detective Conan Movie 25: The Bride of Halloween\",\"Haikyuu!! the Movie: The Winner and the Loser\",\"The Quintessential Quintuplets 2\",\"Case Closed Movie 03: The Last Wizard of the Century\",\"Detective Conan Movie 10: The Private Eyes' Requiem\",\"Saint Seiya: The Hades Chapter - Sanctuary\",\"KenIchi: The Mightiest Disciple\",\"Teasing Master Takagi-san 2\",\"Komi Can't Communicate Season 2\",\"Welcome to Demon School! Iruma-kun Season 2\",\"Case Closed Movie 04: Captured In Her Eyes\",\"TONIKAWA: Over The Moon For You - SNS\",\"Silver Fang\",\"Black Clover: Sword of the Wizard King\",\"Haikyu!! the Movie: The End and the Beginning\",\"Detective Conan Movie 15: Quarter of Silence\",\"Magi: The Labyrinth of Magic\",\"Aria the OVA: Arietta\",\"Baby Steps Second Season\",\"My Hero Academia Season 3\",\"D.Gray-man\",\"Naruto\",\"Romantic Killer\",\"The Quintessential Quintuplets~\",\"Fullmetal Alchemist: Brotherhood OVA Collection\",\"Baki Hanma 2nd Season\",\"Food Wars! The Third Plate\",\"The World God Only Knows: Goddesses\",\"Kakushigoto\",\"The File of Young Kindaichi\",\"Saint Seiya: The Lost Canvas\",\"School Rumble: 2nd Semester\",\"The Prince of Tennis: The National Tournament Finals\",\"Call of the Night\",\"Major: Yuujou no Ikkyuu, Gekijouban Major, Major: Yuujou no Winning Shot, Major: Yujo no Winning Shot, Major: Yuujou no Winning Shot, Major: The Ball of Friendship\",\"Sleepy Princess in the Demon Castle\",\"Samurai X: Reflection\",\"Dragon Ball\",\"Fist of the North Star\",\"Aria the Origination Episode 5.5: That Little Secret Place\\u2026\",\"Noragami\",\"My Hero Academia: Heroes Rising\",\"Food Wars! The Third Plate: Totsuki Train Arc\",\"Nura: Rise of the Yokai Clan - Demon Capital\",\"Bleach\",\"Galaxy Warring State Chronicle Rai\",\"Hikaru no Go: Journey to the North Star Cup\",\"Tokyo Revengers\",\"Yowamushi Pedal\",\"Kono Oto Tomare!: Sounds of Life\",\"You and Me 2\",\"Eyeshield21\",\"Detective Conan OVA 09: The Stranger in 10 Years...\",\"Trigun: Badlands Rumble\",\"Yakitate!! Japan\",\"Attack on Titan: Wings of Freedom\",\"SKET Dance OVA\",\"The Case Study of Vanitas\",\"Blast of Tempest\",\"Sayonara Zetsubo Sensei 2, Sayonara Zetsubo Sensei 2nd Season, Sayonara Zetsubou Sensei Dai Ni Ki, So Long Mr. Despair 2nd, ZSZS\",\"Aria the Avvenire\",\"Cromartie High School\",\"The Ancient Magus' Bride Season 2 Part 2\",\"School Rumble\",\"The Prince of Tennis: National Championship Chapter\",\"The Prince of Tennis: The National Tournament Semifinals\",\"Urusei Yatsura Movie 2: Beautiful Dreamer\",\"Ushio & Tora (2016)\",\"My Hero Academia Season 4\",\"JoJo's Bizarre Adventure (2012)\",\"Case Closed Movie 02: The Fourteenth Target\",\"One Piece Movie 13\",\"KenIchi: The Mightiest Disciple OVA\",\"Attack on Titan OAD\",\"Attack on Titan: The Roar of Awakening\",\"Terra e... (2007), Terra he..., Chikyuu he, Towards the Terra...\",\"TONIKAWA: Over The Moon For You\",\"Zan Sayonara Zetsubo Sensei, Sayonara Zetsubou Sensei 3, ZSZS\",\"The World God Only Knows II\",\"Komi Can't Communicate\",\"Mashle: Magic and Muscles - The Divine Visionary Candidate Exam Arc\",\"Case Closed Movie 01: The Time Bombed Skyscraper\",\"Lupin III vs. Detective Conan: The Movie\",\"Magic Kaito 2014\",\"Case Closed Movie 23: The Fist of Blue Sapphire\",\"One Piece: Episode of East Blue - Luffy and His Four Crewmates' Great Adventure\",\"The Prince of Tennis\",\"My Hero Academia\",\"InuYasha\",\"The Quintessential Quintuplets Movie\",\"Beelzebub\",\"Kochikame, This is the Police Station in Front of Kameari Park in Katsushika Ward, Kochira Katsushikaku Kameari Kouenmae Hashutsujo (1996)\",\"Noragami Aragoto OAD\",\"One Piece 3D2Y: Overcoming Ace's Death! Luffy's Pledge to His Friends\",\"Sayonara, Zetsubou-Sensei\",\"Seitokai Yakuindomo 2 OVA, Seitokai Yakuindomo* OAD, Seitokai Yakuindomo 2 OAD, SYD* OVA, SYD 2 OVA\",\"Soul Eater\",\"Trigun Stampede\",\"Dark Gathering\",\"Toilet-Bound Hanako-kun\",\"Magi: Adventure of Sinbad\",\"One Piece Film: Red\",\"Broken Blade 4\",\"Haikyu!! Land vs. Air\",\"Haikyuu!! Puppet Animation, Haikyuu!! Stop-motion Animation, Haikyuu!!: Ningyou Anime\",\"Har\\u00e9+Guu\",\"Winter Cup Highlights Episode 3 \\u2013 Winter Cup Highlights -Crossing the Door-\",\"Magical Circle\",\"Welcome to Demon School! Iruma-kun Season 3\",\"Gekijouban Seitokai Yakuindomo\",\"My Bride is a Mermaid OVA\",\"Dusk Maiden of Amnesia\",\"Broken Blade 5\",\"Fire Force Season 2\",\"Giant Robo the Animation: The Day the Earth Stood Still\",\"Goodbye Mr. Despair OAD\",\"Detective Conan Movie 07: Crossroad in the Ancient Capital\",\"Har\\u00e9+Guu Deluxe\",\"Kuroko's Basketball: Tip Off\",\"Magi: Adventure of Sinbad OVA\",\"Detective Conan Movie 09: Strategy Above the Depths\",\"Detective Conan Movie 12: Full Score of Fear\"],\"legendgroup\":\"ShounenShounen\",\"marker\":{\"color\":\"#636efa\",\"symbol\":\"circle\"},\"mode\":\"markers\",\"name\":\"ShounenShounen\",\"orientation\":\"v\",\"showlegend\":true,\"x\":[284,3,342,21,1532,9,393,411,738,761,140,20,1006,329,1399,1213,184,1137,35,117,368,102,88,3051,19,877,907,217,847,23,86,2,18,932,14,71,152,1191,228,1,801,723,1431,1190,12,77,130,38,1729,424,85,2513,6,191,291,2057,170,37,134,3322,1343,327,370,1282,136,2576,2285,1772,5985,162,261,172,200,2505,663,914,256,2184,1746,2762,2422,1641,685,332,253,450,52,3337,2137,968,960,16,302,1568,838,2219,1635,1574,229,1211,4002,113,1195,1934,2610,2837,2280,1887,252,1076,206,211,1249,94,855,870,1101,2696,3437,2776,757,1487,4577,347,701,112,2397,840,564,531,678,149,2234,4024,82,496,58,61,83,392,2740,2908,3466,444,856,2595,994,81,305,2997,1084,1984,858,2464,3786,2941,114,2778,958,827,33,15,880,2925,1634,948,126,787,778,3788,3363,2915,953,3618,1622,116,562,981,175,5391,2157,282,2678,2930,2899,793,709,470,751,2769,1500,4236,1123,2046,3157,146,3626,2201,26,289,8,1147,2632,1468,2373,160,681,725,3993,1973,1444,3709,375,4804,1129,2304,148,1706,4686,27,381,278,1435,39,5302,4495,106,1037,780,2249,1301,4742,1593,2100,1685,4687,418,363,1690,4196,1630,2257,729,3235,3657,4810,1692,54,59,2727,1102,2898,483,2549,2784,266,1979,593,194,808,2540,3899,1761,4085,3445,1295,7,238,1005,365,4976,933,2171,682,2387,63,1312,1717,367,466,1406,2891,798,3942,3795,3409,3869,1266,2812,3011,565,2952,250,4254,2711,3049,5808,2017,1658,3114,3194],\"xaxis\":\"x\",\"y\":[9.38,9.09,9.06,9.05,9.04,9.04,9.03,9.02,9.02,8.98,8.94,8.93,8.9,8.9,8.89,8.88,8.84,8.81,8.79,8.78,8.77,8.76,8.75,8.74,8.72,8.7,8.69,8.69,8.67,8.64,8.63,8.62,8.62,8.61,8.61,8.59,8.57,8.56,8.55,8.55,8.55,8.53,8.52,8.52,8.51,8.51,8.5,8.5,8.49,8.49,8.48,8.47,8.47,8.46,8.46,8.46,8.45,8.44,8.44,8.43,8.42,8.42,8.42,8.41,8.41,8.4,8.39,8.38,8.38,8.38,8.37,8.36,8.35,8.34,8.34,8.34,8.33,8.32,8.32,8.32,8.3,8.3,8.29,8.29,8.29,8.29,8.28,8.28,8.28,8.28,8.27,8.27,8.27,8.27,8.26,8.26,8.26,8.26,8.25,8.25,8.25,8.25,8.24,8.24,8.22,8.22,8.22,8.22,8.22,8.21,8.21,8.21,8.21,8.2,8.2,8.2,8.2,8.19,8.19,8.19,8.19,8.19,8.18,8.18,8.18,8.18,8.17,8.17,8.17,8.17,8.17,8.16,8.16,8.15,8.15,8.15,8.14,8.14,8.14,8.13,8.13,8.13,8.13,8.13,8.12,8.12,8.11,8.11,8.11,8.11,8.11,8.1,8.1,8.1,8.1,8.1,8.1,8.1,8.09,8.09,8.08,8.08,8.08,8.08,8.08,8.08,8.08,8.08,8.08,8.08,8.08,8.07,8.07,8.07,8.06,8.06,8.06,8.06,8.06,8.06,8.06,8.05,8.05,8.05,8.05,8.05,8.04,8.04,8.04,8.04,8.04,8.03,8.02,8.02,8.02,8.01,8.01,8.01,8.01,8.01,8.0,8.0,8.0,8.0,8.0,7.99,7.99,7.98,7.98,7.98,7.98,7.97,7.97,7.97,7.97,7.97,7.97,7.97,7.96,7.95,7.95,7.95,7.94,7.94,7.94,7.94,7.93,7.93,7.93,7.92,7.92,7.91,7.91,7.91,7.9,7.9,7.9,7.9,7.9,7.9,7.9,7.89,7.89,7.89,7.89,7.89,7.89,7.88,7.88,7.88,7.88,7.88,7.88,7.88,7.88,7.87,7.87,7.87,7.87,7.87,7.87,7.86,7.86,7.86,7.86,7.86,7.86,7.86,7.85,7.85,7.85,7.85,7.85,7.85,7.85,7.84,7.84,7.84,7.84,7.84,7.83,7.83,7.83,7.82,7.82,7.82,7.82,7.82,7.82,7.82,7.82,7.81,7.81,7.81,7.81,7.81,7.8,7.8,7.8,7.8,7.8],\"yaxis\":\"y\",\"type\":\"scatter\"},{\"hovertemplate\":\"\\u003cb\\u003e%{hovertext}\\u003c\\u002fb\\u003e\\u003cbr\\u003e\\u003cbr\\u003eDemographic=ActionAction, AdventureAdventure, FantasyFantasy\\u003cbr\\u003ePopularity=%{x}\\u003cbr\\u003eScore=%{y}\\u003cextra\\u003e\\u003c\\u002fextra\\u003e\",\"hovertext\":[\"Steins;Gate\",\"Legend of the Galactic Heroes\",\"Clannad: After Story\",\"The Apothecary Diaries\",\"Code Geass: Lelouch of the Rebellion R2\",\"Owarimonogatari Second Season\",\"Violet Evergarden: The Movie\",\"Your Name.\",\"Bocchi the Rock!\",\"Mob Psycho 100 II\",\"Kizumonogatari Part 3: Cold-Blooded\",\"Spirited Away\",\"Monogatari Series: Second Season\",\"Cowboy Bebop\",\"Mob Psycho 100 III\",\"86 Eighty-Six Part 2\",\"Code Geass: Lelouch of the Rebellion\",\"Link Click\",\"Heaven Official's Blessing Season 2\",\"Violet Evergarden\",\"Mushoku Tensei: Jobless Reincarnation Part 2\",\"Odd Taxi\",\"Fate\\u002fstay night: Heaven's Feel - III. Spring Song\",\"Howl's Moving Castle\",\"Princess Mononoke\",\"Made in Abyss\",\"Sound! Euphonium 3\",\"Made in Abyss: The Golden City of the Scorching Sun\",\"Gurren Lagann\",\"Made in Abyss: Dawn of the Deep Soul\",\"The Disappearance of Haruhi Suzumiya\",\"Rascal Does Not Dream of a Dreaming Girl\",\"Evangelion: 3.0+1.0 Thrice Upon a Time\",\"Gurren Lagann The Movie: The Lights in the Sky are Stars\",\"Kizumonogatari Part 2: Hot-Blooded\",\"Wolf Children\",\"The Tatami Galaxy\",\"Fate\\u002fZero Season 2\",\"I Want To Eat Your Pancreas\",\"Perfect Blue\",\"Neon Genesis Evangelion: The End of Evangelion\",\"Revue Starlight: The Movie\",\"Steins;Gate 0\",\"KonoSuba: God's Blessing on This Wonderful World! 3\",\"The Garden of Sinners Chapter 5: Paradox Spiral\",\"Grave of the Fireflies\",\"A Place Further Than The Universe\",\"Laid-Back Camp Season 2\",\"Ranking of Kings\",\"Samurai Champloo\",\"Link Click Season 2\",\"Mob Psycho 100\",\"Fate\\u002fstay night: Heaven's Feel - II. Lost Butterfly\",\"Puella Magi Madoka Magica the Movie: Rebellion\",\"The Founder of Diabolism Season 3\",\"Owarimonogatari\",\"Steins;Gate: The Movie - Load Region of D\\u00e9j\\u00e0 Vu\",\"Laid-Back Camp Season 3\",\"Laid-Back Camp: The Movie\",\"KonoSuba: God's Blessing on This Wonderful World! - Legend of Crimson\",\"Re:ZERO -Starting Life in Another World- Season 2 Part 2\",\"Mononoke\",\"Saekano the Movie: Finale\",\"Attack on Titan: No Regrets\",\"Violet Evergarden: Eternity and the Auto Memory Doll\",\"Girls und Panzer das Finale Part 4\",\"Vivy -Fluorite Eye's Song-\",\"The Founder of Diabolism Season 1\",\"Maquia: When the Promised Flower Blooms\",\"Josee, the Tiger and the Fish\",\"Cowboy Bebop: The Movie\",\"The Garden of Sinners Chapter 7: A Study in Murder - Part 2\",\"Run with the Wind\",\"Barakamon\",\"The Eminence in Shadow Season 2\",\"Made in Abyss: Wandering Twilight\",\"Puella Magi Madoka Magica\",\"Puella Magi Madoka Magica the Movie Part 2: Eternal\",\"The Founder of Diabolism Season 2\",\"Mushoku Tensei: Jobless Reincarnation\",\"Ramayana: The Legend of Prince Rama\",\"Nausica\\u00e4 of the Valley of the Wind\",\"Kizumonogatari Part 1: Iron-Blooded\",\"Baccano!\",\"Gintama: Jump Festa 2008 Special\",\"IDOLiSH7 Third BEAT! Part 2\",\"Neon Genesis Evangelion\",\"My Teen Romantic Comedy SNAFU Climax!\",\"K-ON! The Movie\",\"Mushoku Tensei: Jobless Reincarnation Season 2 Part 2\",\"Romeo and the Black Brothers\",\"Rascal Does Not Dream of a Knapsack Kid\",\"Heaven Official's Blessing\",\"Violet Evergarden: The Day You Understand \\\"I Love You\\\" Will Surely Come\",\"Heaven Official's Blessing Special\",\"Star Blazers: Space Battleship Yamato 2199\",\"Psycho-Pass\",\"Re:ZERO -Starting Life in Another World- Season 2\",\"Bakemonogatari\",\"Fate\\u002fstay night [Unlimited Blade Works] Season 2\",\"Sound! Euphonium 2\",\"Swallowed Star 3rd Season\",\"The Beast Player Erin\",\"Solo Leveling\",\"Sasaki and Miyano: Graduation\",\"Katanagatari\",\"Welcome to the N.H.K.\",\"Spice and Wolf II\",\"Legend of the Galactic Heroes: Die Neue These - Collision\",\"Suzume\",\"Scissor Seven (2021)\",\"86 Eighty-Six\",\"Anohana: The Flower We Saw That Day\",\"Evangelion: 2.0 You Can (Not) Advance\",\"Legend of the Galactic Heroes: Die Neue These - Intrigue\",\"Steins;Gate: Egoistic Poriomania\",\"The Eminence in Shadow\",\"Kino's Journey\",\"Redline\",\"Doukyusei -Classmates-\",\"Shirobako\",\"Weathering with You\",\"Tokyo Godfathers\",\"From the New World\",\"Violet Evergarden: Recollections\",\"Laid-Back Camp\",\"Mushoku Tensei: Jobless Reincarnation Season 2\",\"Fate\\u002fZero\",\"Legend of the Galactic Heroes: Die Neue These - Stellar War Part 3\",\"Space Dandy 2nd Season\",\"Steins;Gate: Open the Missing Link - Divide By Zero\",\"Sword of the Stranger\",\"Castle in the Sky\",\"Miss Kobayashi's Dragon Maid S\",\"KonoSuba: God's Blessing on This Wonderful World! 2\",\"Millennium Actress\",\"My Neighbor Totoro\",\"Fog Hill of Five Elements\",\"The Boy and the Beast\",\"Is It Wrong to Try to Pick Up Girls in a Dungeon? IV Part 2\",\"Daily Lives of High School Boys\",\"IDOLISH7 Third BEAT!\",\"Saga of Tanya the Evil: The Movie\",\"Mobile Suit Gundam: Iron-Blooded Orphans 2nd Season\",\"Re:ZERO -Starting Life in Another World-\",\"Rascal Does Not Dream of Bunny Girl Senpai\",\"Puella Magi Madoka Magica the Movie Part 1: Beginnings\",\"Kiki's Delivery Service\",\"Spice and Wolf\",\"Spice and Wolf: Merchant Meets the Wise Wolf\",\"Sasaki and Miyano\",\"Doraemon: Nobita and the Steel Troops - The New Age\",\"Revolutionary Girl Utena\",\"Swallowed Star 4th Season\",\"Girls' Last Tour\",\"The Tatami Time Machine Blues\",\"The Tale of the Princess Kaguya\",\"Liz and the Blue Bird\",\"Pretty Cure All Stars Movie F\",\"Symphogear XV\",\"Fate\\u002fstrange Fake: Whispers of Dawn\",\"Girls und Panzer das Finale \\u2013 Part 3\",\"My Teen Romantic Comedy SNAFU TOO!\",\"ReLIFE: Final Arc\",\"Megalobox 2: Nomad\",\"Girls und Panzer der Film\",\"Holo Graffiti\",\"Night Is Short, Walk on Girl\",\"Little Busters! ~Refrain~\",\"No Game, No Life: Zero\",\"Fate\\u002fstay night [Unlimited Blade Works]\",\"Higurashi: When They Cry \\u2013 Kai\",\"Tamayura Kanketsu-hen Movie 4\",\"K-ON! Season 2\",\"Lycoris Recoil\",\"Made in Abyss: Journey's Dawn\",\"Pompo: The Cin\\u00e9phile\",\"Fate\\u002fstay night: Heaven's Feel - I. Presage Flower\",\"Legend of the Galactic Heroes: Die Neue These - Stellar War Part 2\",\"Gurren Lagann The Movie: Childhood's End\",\"A Certain Scientific Railgun T\",\"Kaiba\",\"Beyond the Boundary: I'll Be Here - Future\",\"Magical Girl Lyrical Nanoha: The Movie 2nd A's\",\"Princess Tutu\",\"Death Parade\",\"IDOLiSH7 Second BEAT!\",\"given - on the other hand\",\"Scissor Seven (2019)\",\"Nisemonogatari\",\"Ya Boy Kongming!\",\"Moribito - Guardian of the Spirit\",\"Gankutsuou: The Count of Monte Cristo\",\"Legend of the Galactic Heroes Gaiden\",\"Eiga Given\",\"Gridman\\u00d7Dynazenon\",\"Interstellar 5555\",\"GaoGaiGar Final\",\"Jellyfish Can't Swim in the Night\",\"The Wind Rises\",\"Future Boy Conan\",\"The King's Avatar (2018)\",\"Douluo Dalu Second Season, Soul Land 2nd Season\",\"Hidamari Sketch: Sae & Hiro Graduation\",\"Fights Break Sphere 5th Season\",\"Stand By Me Doraemon\",\"Tsurune - The Linking Shot -\",\"Classroom of the Elite II\",\"Mobile Suit Gundam 00\",\"Mobile Suit Gundam Unicorn\",\"KonoSuba: God's Blessing on This Wonderful World!\",\"Love, Chunibyo & Other Delusions!: Take On Me\",\"Durarara!!\",\"Ascendance of a Bookworm Season 2\",\"The Girl Who Leapt Through Time\",\"Umamusume: Pretty Derby Season 2\",\"Tsukimonogatari\",\"The Eccentric Family 2\",\"Terror in Resonance\",\"Serial Experiments Lain\",\"Baccano! Specials\",\"Girls und Panzer das Finale \\u2013 Part 2\",\"The Demon Hunter\",\"Legend of the Galactic Heroes: Overture to a New War\",\"Mobile Suit Gundam 00: Second Season\",\"Overlord IV\",\"The Pet Girl of Sakurasou\",\"Gekijouban Bang Dream! Episode of Roselia\",\"Fights Break Sphere: Three Year Agreement\",\"Ascendance of a Bookworm Season 3\",\"Hyouka\",\"Toradora!\",\"Mobile Suit Gundam: Iron-Blooded Orphans\",\"No Game, No Life\",\"Angel Beats!\",\"Legend of the Galactic Heroes Gaiden (1999)\",\"Darker than Black\",\"Date A Live V\",\"Durarara!! x2 Ketsu\",\"Legend of the Galactic Heroes: Die Neue These - Stellar War Part 1\",\"Eureka Seven\",\"When Marnie Was There\",\"Paprika\",\"Persona 3 the Movie: #4 Winter of Rebirth\",\"Throne of Seal 2nd Season\",\"Den-noh Coil\",\"Fate\\u002fstay night: Unlimited Blade Works - Prologue\",\"Tsukigakirei\",\"Scissor Seven: Shadow Fate\",\"Slayers Next\",\"My Teen Romantic Comedy SNAFU TOO! OVA\",\"Kill la Kill\",\"Azumanga Daioh: The Animation\",\"FLCL\",\"Full Metal Panic? Fumoffu\",\"Hugtto Precure, Hug! Pretty Cure\",\"SK8 the Infinity\",\"Summer Wars\",\"Yuki Yuna Is A Hero: Washio Sumi Chapter 3 - Promise\",\"The Twelve Kingdoms\",\"The Garden of Sinners Chapter 3: Remaining Sense of Pain\",\"Mobile Suit Gundam: The 08th MS Team\",\"KonoSuba: God's Blessing on This Wonderful World! 2 - God's Blessing on This Wonderful Art!\",\"The Legend of Hei\",\"Mobile Police Patlabor 2: The Movie\",\"Sound! Euphonium\",\"A Certain Scientific Railgun S\",\"Tokyo Magnitude 8.0\",\"La Maison en Petits Cubes\",\"My Teen Romantic Comedy SNAFU\",\"Classroom of the Elite III\",\"Zombie Land Saga Revenge\",\"The Garden of Sinners: Future Gospel\",\"Mobile Suit Gundam 0080: War in the Pocket\",\"Soul Land 2: The Peerless Tang Clan\",\"ef - a tale of melodies.\",\"Evangelion: 1.0 You Are (Not) Alone\",\"Time of Eve\",\"Clannad\",\"Ascendance of a Bookworm\",\"Swallowed Star 2nd Season\",\"Wolf's Rain OVA\",\"Ghost in the Shell: Stand Alone Complex 2nd GIG - Individual Eleven\",\"Magical Girl Lyrical Nanoha A's\",\"Bungo Stray Dogs Wan!\",\"Fights Break Sphere 4th Season\",\"Durarara!! x2 Shou\",\"Haibane Renmei\",\"Sword Art Online the Movie: Progressive - Aria of a Starless Night\",\"Treasure Island\",\"Genshin Impact: The Song Burning in the Embers\",\"Yuri!!! On ICE: Yuri Plisetsky GPF in Barcelona EX \\\"Welcome to The Madness\\\"\",\"The King's Avatar: For the Glory\",\"My New Boss Is Goofy\",\"Code Geass: Lelouch of the Rebellion III - Glorification\",\"Durarara!! x2 Ten\",\"Time of Eve\",\"Girls und Panzer das Finale \\u2013 Part 1\",\"Heartcatch Pretty Cure!\",\"Idolish Seven, IDOLiSH7: YouTube Originals\",\"BanG Dream! Poppin'Dream!\",\"Saga of Tanya the Evil\",\"Mobile Suit Gundam Thunderbolt: December Sky\",\"Macross Frontier: The Wings of Farewell\",\"A Lull in the Sea\",\"ReLIFE\",\"Kanon\",\"Mobile Suit Gundam Thunderbolt\",\"Kobato.\",\"Porco Rosso\",\"Love Live! SuperStar!!\",\"Clash of the Bionoids, Gekijouban Choujikuu Yousai Macross: Ai, Oboete Imasu ka, Macross in Clash Of The Bionoids, Super Dimensional Fortress Macross The Movie: Do You Remember Love?, Choujikuu Yousai Macross: Ai Oboete Imasuka\",\"Ojamajo Doremi Naisho\",\"Patema Inverted\",\"Hidamari Sketch x Hanikamu, Hidamari Sketch Dai Yon Ki, Hidamari Sketch Fourth Series, Hidamari Sketch 4th Season\",\"The Rising of the Shield Hero\",\"Tekkonkinkreet\",\"Wotakoi: Love is Hard for Otaku OVA\",\"Kaleido Star\",\"Mobile Suit Gundam: The Witch from Mercury Season 2\",\"Miss Kobayashi's Dragon Maid\",\"Penguindrum\",\"Fate\\u002fGrand Order: Absolute Demonic Front - Babylonia\",\"Clannad: Another World, Tomoyo Chapter\",\"The Ideon: Be Invoked\",\"Fate\\u002fkaleid liner Prisma Illya: Vow in the Snow\",\"Ponyo\",\"Is the Order a Rabbit? Bloom\",\"Vampire Hunter D: Bloodlust\",\"Wotakoi: Love is Hard for Otaku\",\"A Will Eternal 2nd Season\",\"Love Live! The School Idol Movie\",\"Mr. Osomatsu\",\"Phantom: Requiem for the Phantom\",\"Mobile Suit Gundam SEED Freedom\",\"Mobile Suit Zeta Gundam\",\"Kokoro Connect OVA\",\"Welcome to Irabu's Office\",\"Les Miserables: Shoujo Cosette\",\"Nekomonogatari Black\",\"Ojamajo Doremi Shinsaku Eizou\",\"Overlord III\",\"Full Metal Panic! The Second Raid\",\"Touhou Fantasy Kaleidoscope: The Memories of Phantasm\",\"Hanamonogatari\",\"Hidamari Sketch x Hoshi Mittsu, Hidamari Sketch 3rd Season\",\"Sans Famille\",\"Code Geass: Lelouch of the Re;surrection\",\"Darker Than Black: Gemini of the Meteor OVAs\",\"Log Horizon\",\"Overlord\",\"Plastic Memories\",\"Promare\",\"Tamako Market Movie\",\"Yuru Yuri 3rd Season, Yuru Yuri Third Season, Yuru Yuri-san High!: YuruYuri S3\",\"King of Braves GaoGaiGar\",\"Project Common\",\"Bloom Into You\",\"Yuri!!! On ICE\",\"Date A Live: Encore, Date A Live II Episode 11, Date A Live 2 Episode 11\",\"Ergo Proxy\",\"Final Fantasy 7: Advent Children Complete\",\"Hanasaku Iroha: Blossoms for Tomorrow\",\"Macross\",\"The Secret World of Arrietty\",\"Macross Frontier\",\"Magical Girl Lyrical Nanoha: The Movie 1st\",\"The Irresponsible Captain Tylor\",\"The Tunnel to Summer, the Exit of Goodbyes\",\"Tamayura Kanketsu-hen Movie 3\",\"Undead Murder Farce\",\"Code Geass: Lelouch of the Rebellion I - Initiation\",\"Go! Princess Pretty Cure\",\"Death Billiards\",\"ef - a tale of memories.\",\"Free! Eternal Summer Special, Free! Iwatobi Swim Club 2 Special, Free! 2nd Season Special\",\"Higurashi: When They Cry\",\"Hell Girl: Two Mirrors\",\"Mobile Suit Gundam: The Witch from Mercury\",\"The Garden of Words\",\"The Demon Girl Next Door 2\",\"Megalobox\",\"The King's Avatar 2\",\"Space Dandy\",\"Swallowed Star\",\"Gunbuster\",\"Carnival Phantasm\",\"Play It Cool, Guys\",\"Combat Continent, Soul Land\",\"Legend of the Galactic Heroes: My Conquest is the Sea of Stars\",\"Mobile Suit Gundam: The Witch from Mercury - Prologue\",\"Spice and Wolf II: The Wolf and the Amber Melancholy\",\"Mr. Osomatsu the Movie\",\"The King's Avatar\",\"K-ON!\",\"Kaleido Star: Legend of Phoenix - The Layla Hamilton Story\",\"Case Closed Movie 22: Zero the Enforcer\",\"Sekaiichi Hatsukoi Episode 0, Sekai-ichi Hatsukoi: Onodera Ritsu no Baai, Sekaiichi Hatsukoi Episode 12.5, Sekaiichi Hatsukoi: Yoshino Chiaki no Baai, Sekai'ichi Hatsukoi\",\"Classroom of the Elite\",\"Scissor Seven\",\"Free! Starting Days\",\"Soaring Sky! Pretty Cure\",\"Carole & Tuesday\",\"Hanasaku Iroha the Movie: Home Sweet Home\",\"K-On!!: Plan!\",\"Useless Witch Doremi Kaboom!\",\"Planetarian: Storyteller of the Stars\",\"Eiga Sekaiichi Hatsukoi, Sekai-ichi Hatsukoi Movie\",\"Tiger & Bunny\",\"The Stranger by the Shore\",\"Yuru Yuri OVA, YuruYuri Nachuyachumi!, Yuru Yuri Summer Vacation!\",\"All Saints Street\",\"Anohana: The Flower We Saw That Day The Movie\",\"Doraemon\",\"Durarara!! Specials\",\"Galaxy Express 999\",\"Hidamari Sketch x 365\",\"K-ON! Live House!\",\"Mobile Suit Gundam: Hathaway\",\"KonoSuba: God's Blessing on This Wonderful World! - God's Blessing on This Wonderful Choker!\",\"Michiko & Hatchin\",\"Mushoku Tensei: Jobless Reincarnation - Eris the Goblin Slayer\",\"Sekai Ichi Hatsukoi - World's Greatest First Love 2\",\"Throne of Seal\",\"The Melancholy of Haruhi Suzumiya\",\"Tamayura Kanketsu-hen Movie 2\",\"The Eccentric Family\",\"All Saints Street 2\",\"A Will Eternal\",\"91 Days\",\"The Labyrinth of Grisaia: The Cocoon of Caprice 0\",\"Gungrave\",\"Sound! Euphonium the Movie: May the Melody Reach You!\",\"ID: INVADED\",\"Anne of Green Gables\",\"Daily Lives of High School Boys Specials\",\"The Dog of Flanders\",\"Monthly Girls' Nozaki-kun\",\"Hidamari Sketch x \\u2606\\u2606\\u2606 Tokubetsu-hen, Hidamari Sketch x Hoshi Mittsu\",\"The Garden of Sinners Chapter 4: The Hollow Shrine\",\"Detective Conan Movie 08: Time Travel of the Silver Sky Recap\",\"The Angel Next Door Spoils Me Rotten\",\"Owarimonogatari Second Season Recaps\",\"Attack on Titan: Lost Girls\",\"Somali and the Forest Spirit\",\"Tanaka-kun is Always Listless\",\"YuruYuri: Happy Go Lily \\u266a\\u266a\",\"Yuki Yuna Is A Hero: Washio Sumi Chapter 2 - Spirit\",\"\\u2200 Gundam\",\"All Saints Street 3\",\"Fog Hill of Five Elements\",\"My Love Story with Yamada-kun at Lv999\",\"Eiga Hugtto! Precure x Futari wa Precure\",\"Inu-Oh\",\"The Anthem of the Heart\",\"Little Witch Academia\",\"Whisper Me a Love Song\",\"Banner of the Stars II\",\"Miss Kobayashi's Dragon Maid S: Japanese Hospitality (The Attendant is a Dragon)\",\"Wakate Animator Ikusei Project, 2012 Young Animator Training Project, Anime Mirai 2012, LWA\",\"Lucky\\u2606Star OVA\",\"Macross Frontier: The False Songstress\"],\"legendgroup\":\"ActionAction, AdventureAdventure, FantasyFantasy\",\"marker\":{\"color\":\"#EF553B\",\"symbol\":\"circle\"},\"mode\":\"markers\",\"name\":\"ActionAction, AdventureAdventure, FantasyFantasy\",\"orientation\":\"v\",\"showlegend\":true,\"x\":[13,746,118,609,46,574,357,11,386,72,487,44,306,43,301,447,22,646,3373,47,185,529,671,98,105,93,3059,509,64,486,354,283,626,1118,508,227,502,133,161,285,173,4913,198,733,1012,299,442,1079,326,109,1974,31,597,614,2380,472,366,2718,2406,243,192,732,1303,428,542,5311,413,1053,525,538,619,1164,800,309,674,1638,103,1178,2008,101,6075,620,421,190,2594,5587,45,271,719,965,3103,2430,1573,715,3158,1876,62,135,91,209,1056,11443,2274,348,3433,389,263,452,4739,679,2752,248,66,407,5530,513,333,754,618,901,507,156,826,245,4021,456,414,79,4327,1401,923,707,459,397,76,1275,141,5983,540,1149,219,4608,861,1578,25,53,1201,374,223,1653,1230,5293,1097,11250,683,3443,1042,1621,10295,3562,2462,4230,142,580,1197,1994,2963,1748,1412,199,138,467,6021,288,457,1726,3463,495,4371,1421,1044,1518,925,4487,1388,49,3985,2258,2472,269,831,1108,972,4473,1026,4238,2504,6222,2964,694,3086,2005,4848,5538,7533,2966,2974,338,1099,2084,40,893,90,1140,239,3061,551,2712,123,246,1331,3677,11337,3778,1524,425,108,6656,7279,1499,95,24,995,17,30,4831,166,2299,616,4083,519,805,403,2492,9404,1554,747,405,4697,2579,970,55,650,220,820,5149,391,426,5431,1516,1058,2306,632,4294,3627,491,596,817,2121,84,677,1125,1864,2806,9980,1424,387,1290,89,773,8051,2628,4075,2695,1846,7269,464,844,959,4798,11638,2303,3099,3093,2170,578,1766,3144,3885,5329,6573,182,4484,4213,361,150,890,2920,1407,967,2613,3184,6053,837,4499,68,1916,1160,2284,2260,111,802,860,782,6282,2120,377,2723,1214,158,7797,1716,1368,703,7104,2463,934,2158,4072,398,12043,189,927,7671,532,4183,4772,760,938,132,67,167,865,598,1764,4645,1967,686,193,1287,322,1693,714,1943,669,1557,3984,3109,1569,6303,1601,2052,4994,1008,945,2165,233,1447,1506,201,2639,436,1840,656,7090,1732,1217,2192,4128,3556,3248,1373,5393,636,144,5496,4005,2573,104,2025,2178,6455,728,2193,1749,5103,3143,2659,1067,1355,2514,4274,824,2750,1400,3593,3921,1450,3596,563,1184,1360,1482,7494,183,6211,1403,5799,5184,277,1047,1250,4008,635,3837,1643,4632,177,5392,1124,4684,776,4329,770,839,485,1279,5468,3153,6976,2846,575,8834,4190,712,325,2741,4497,2511,764,1682,4003],\"xaxis\":\"x\",\"y\":[9.07,9.02,8.93,8.92,8.91,8.87,8.87,8.84,8.79,8.79,8.78,8.77,8.76,8.75,8.71,8.7,8.7,8.68,8.68,8.68,8.67,8.67,8.66,8.66,8.66,8.65,8.65,8.64,8.63,8.61,8.6,8.59,8.59,8.58,8.57,8.57,8.56,8.55,8.55,8.55,8.55,8.55,8.53,8.53,8.52,8.52,8.52,8.52,8.51,8.51,8.5,8.49,8.49,8.48,8.47,8.45,8.45,8.44,8.43,8.43,8.43,8.42,8.42,8.42,8.41,8.41,8.4,8.4,8.39,8.39,8.38,8.38,8.38,8.37,8.37,8.37,8.37,8.37,8.37,8.37,8.37,8.36,8.36,8.36,8.35,8.35,8.35,8.35,8.35,8.35,8.34,8.34,8.34,8.34,8.33,8.33,8.33,8.33,8.33,8.32,8.32,8.32,8.32,8.32,8.32,8.31,8.31,8.31,8.31,8.31,8.3,8.3,8.3,8.3,8.3,8.29,8.29,8.29,8.28,8.28,8.28,8.28,8.28,8.27,8.27,8.27,8.27,8.27,8.27,8.26,8.26,8.26,8.26,8.26,8.26,8.25,8.25,8.24,8.24,8.24,8.23,8.23,8.23,8.23,8.23,8.23,8.22,8.22,8.22,8.22,8.22,8.22,8.22,8.22,8.21,8.21,8.21,8.21,8.21,8.21,8.21,8.2,8.2,8.2,8.19,8.19,8.19,8.19,8.18,8.18,8.18,8.17,8.17,8.17,8.17,8.17,8.16,8.16,8.16,8.16,8.16,8.15,8.15,8.15,8.15,8.15,8.15,8.14,8.14,8.14,8.14,8.13,8.13,8.13,8.13,8.14,8.13,8.13,8.12,8.12,8.12,8.12,8.12,8.12,8.11,8.11,8.11,8.11,8.11,8.1,8.1,8.1,8.1,8.1,8.1,8.1,8.09,8.09,8.09,8.09,8.09,8.09,8.08,8.08,8.08,8.08,8.07,8.07,8.07,8.07,8.07,8.07,8.06,8.06,8.06,8.06,8.05,8.05,8.05,8.05,8.05,8.05,8.04,8.04,8.04,8.04,8.04,8.04,8.04,8.03,8.03,8.03,8.03,8.03,8.03,8.03,8.02,8.02,8.02,8.02,8.02,8.02,8.02,8.02,8.01,8.01,8.01,8.01,8.01,8.0,8.0,8.0,8.0,8.0,8.0,8.0,8.0,8.0,7.99,7.99,7.99,7.99,7.99,7.98,7.98,7.98,7.98,7.98,7.97,7.97,7.97,7.97,7.97,7.97,7.97,7.97,7.97,7.97,7.97,7.97,7.96,7.96,7.96,7.96,7.96,7.96,7.95,7.95,7.95,7.95,7.95,7.95,7.95,7.95,7.95,7.95,7.95,7.94,7.94,7.94,7.94,7.94,7.94,7.93,7.93,7.93,7.93,7.93,7.93,7.93,7.93,7.93,7.93,7.93,7.92,7.92,7.92,7.92,7.92,7.92,7.92,7.92,7.92,7.92,7.92,7.92,7.92,7.91,7.91,7.91,7.91,7.91,7.91,7.91,7.91,7.91,7.9,7.9,7.9,7.9,7.9,7.9,7.9,7.9,7.89,7.89,7.89,7.89,7.89,7.89,7.89,7.89,7.89,7.88,7.88,7.88,7.88,7.88,7.88,7.88,7.88,7.88,7.88,7.88,7.88,7.87,7.87,7.87,7.87,7.87,7.87,7.87,7.87,7.87,7.86,7.86,7.86,7.86,7.86,7.86,7.86,7.86,7.85,7.85,7.85,7.85,7.85,7.85,7.85,7.85,7.85,7.84,7.84,7.84,7.84,7.84,7.84,7.84,7.83,7.83,7.83,7.83,7.83,7.83,7.83,7.83,7.83,7.83,7.83,7.83,7.83,7.83,7.83,7.83,7.82,7.82,7.82,7.82,7.82,7.82,7.82,7.82,7.82,7.82,7.82,7.82,7.82,7.82,7.81,7.81,7.81,7.81,7.81,7.81,7.81,7.81,7.81,7.81,7.8,7.8,7.8,7.8],\"yaxis\":\"y\",\"type\":\"scatter\"},{\"hovertemplate\":\"\\u003cb\\u003e%{hovertext}\\u003c\\u002fb\\u003e\\u003cbr\\u003e\\u003cbr\\u003eDemographic=SeinenSeinen\\u003cbr\\u003ePopularity=%{x}\\u003cbr\\u003eScore=%{y}\\u003cextra\\u003e\\u003c\\u002fextra\\u003e\",\"hovertext\":[\"Kaguya-sama: Love is War - Ultra Romantic\",\"March Comes In Like a Lion 2nd Season\",\"Monster\",\"Kingdom: Season 3\",\"Vinland Saga Season 2\",\"Kaguya-sama: Love is War - The First Kiss That Never Ends\",\"Kingdom: Season 5\",\"Kingdom: Season 4\",\"Mushi-shi: Next Passage Part 2\",\"Mushi-shi: Next Passage Part 1\",\"[Oshi No Ko]\",\"Mushi-Shi\",\"Bungo Stray Dogs 5\",\"Kaguya-sama: Love is War Season 2\",\"Ping Pong the Animation\",\"Berserk\",\"Mushishi Tokubetsu-hen: Suzu no Shizuku, Mushishi: The Next Chapter - Drops of Bells\",\"Mushi-shi: The Shadow that Devours the Sun\",\"Ghost in the Shell: Stand Alone Complex 2nd GIG\",\"Pluto\",\"One Punch Man\",\"Space Brothers\",\"Rainbow\",\"Bungo Stray Dogs 4\",\"Golden Kamuy Season 3\",\"Grand Blue Dreaming\",\"Mushi-shi Path of Thorns\",\"Ghost in the Shell: Stand Alone Complex\",\"Kaguya-sama: Love is War\",\"Land of the Lustrous\",\"March Comes In Like a Lion\",\"Non Non Biyori Nonstop\",\"Hellsing Ultimate\",\"Initial D First Stage\",\"Parasyte: The Maxim\",\"One Outs\",\"Kingdom: Season 2\",\"Erased\",\"Ghost in the Shell\",\"Kaiji: Ultimate Survivor\",\"Planetes\",\"Kaiji: Against All Rules\",\"Golden Kamuy Season 2\",\"In This Corner of the World\",\"Heavenly Delusion\",\"xxxHOLiC: Tsugi, xxxHOLiC TV 2, xxxHOLiC New Series, xxxHOLiC Second Season, xxxHOLiC 2nd Series\",\"Maison Ikkoku\",\"Bungo Stray Dogs 3\",\"Berserk: The Golden Age Arc III - The Advent\",\"Kotaro Lives Alone\",\"Aoashi\",\"Asobi Asobase - workshop of fun -\",\"My Dress-Up Darling\",\"xxxHOLiC Rou: Adayume\",\"Non Non Biyori Repeat\",\"Bungo Stray Dogs 2\",\"Initial D Second Stage\",\"Black Lagoon: The Second Barrage\",\"Initial D 4th Stage\",\"Akira\",\"Lupin III: The Castle of Cagliostro\",\"Lupin the Third Part 5\",\"Non Non Biyori Nonstop: Our Club Worked Hard\",\"Golden Kamuy Season 4\",\"Working!!! Episode 14\",\"Keep Your Hands Off Eizouken!\",\"Hinamatsuri\",\"Skip and Loafer\",\"Ghost in the Shell: Stand Alone Complex - Solid State Society\",\"Detroit Metal City\",\"Delicious in Dungeon\",\"Insomniacs After School\",\"Ghost in the Shell: Stand Alone Complex - The Laughing Man\",\"Hanada Shonen-Shi\",\"Golden Boy\",\"Hyougemono\",\"xxxHOLiC OVA\",\"Black Lagoon\",\"Black Lagoon: Roberta's Blood Trail\",\"Shadows House 2nd Season\",\"xxxHOLiC\",\"Ghost in the Shell 2.0\",\"Big Windup! 2\",\"Hi Score Girl: Extra Stage\",\"Hi Score Girl II\",\"Wagnaria!!3\",\"xxxHOLiC The Movie: A Midsummer Night's Dream\",\"Non Non Biyori\",\"Akagi\",\"Bungo Stray Dogs: Dead Apple\",\"Eiga Crayon Shin-chan: Arashi wo Yobu Mouretsu! Otona Teikoku Gyakushuu, Crayon Shin-chan: The Storm Called: The Adult Empire Strikes Back\",\"Kingdom\",\"Lupin the Third Part 4\",\"Berserk: The Golden Age Arc - Memorial Edition\",\"Drifters\",\"Hozuki's Coolheadedness 2\",\"Jormungand Season 2: Perfect Order\",\"Golden Kamuy\",\"Lupin the Third: Goemon's Blood Spray\",\"Big Windup!\",\"Berserk: The Golden Age Arc II - The Battle for Doldrey\",\"Initial D Legend 3: Dream\",\"Non Non Biyori Repeat: Hotaru Had Fun\",\"Hozuki's Coolheadedness 2: Part 2\",\"Dance Dance Danseur\",\"Cool-headed Hoozuki OVA, Hozuki no Reitetsu OVA\",\"Outlaw Star\",\"Lupin the Third: Jigen's Gravestone\",\"Astro Fighter Sunred 2\",\"Zom 100: Bucket List of the Dead\",\"Aoki Hagane no Arpeggio: Ars Nova Cadenza, Arpeggio of Blue Steel: Ars Nova Movie 2, Gekijouban Aoki Hagane no Arpeggio\",\"Emma: A Victorian Romance Season Two\",\"Lupin the 3rd: The First\",\"Wagnaria!!2\",\"Bungo Stray Dogs\",\"The 100 Girlfriends Who Really, Really, Really, Really, Really Love You\",\"Rupan Sansei: Part II, Shin Lupin III, Lupin III: Greatest Capers\",\"Initial D Legend 2 Racer\",\"Initial D Legend 1 Awakening\"],\"legendgroup\":\"SeinenSeinen\",\"marker\":{\"color\":\"#00cc96\",\"symbol\":\"circle\"},\"mode\":\"markers\",\"name\":\"SeinenSeinen\",\"orientation\":\"v\",\"showlegend\":true,\"x\":[178,567,131,2032,359,920,3851,2725,908,803,242,215,1338,97,585,314,1735,1629,1069,1507,4,1231,579,851,1390,244,2058,577,51,489,296,1770,174,607,42,1013,1747,28,336,661,957,1235,1172,1269,480,1582,2521,339,1074,1509,1156,469,143,2602,1196,205,1096,427,1273,210,1854,3331,4748,2139,2037,699,433,928,2071,1139,1090,1162,3500,5286,571,4154,2581,155,804,1830,745,2248,3302,2489,1644,977,2672,535,2023,863,6247,1098,2565,3511,383,3207,1237,590,3515,2069,1132,4176,3121,4114,2322,5122,1488,4100,6985,430,3986,4219,3898,915,92,1165,3759,3995,3598],\"xaxis\":\"x\",\"y\":[9.01,8.92,8.88,8.82,8.81,8.78,8.75,8.74,8.73,8.69,8.67,8.66,8.65,8.63,8.62,8.59,8.59,8.53,8.52,8.51,8.5,8.49,8.47,8.45,8.45,8.43,8.43,8.42,8.41,8.39,8.38,8.37,8.35,8.35,8.33,8.33,8.31,8.3,8.27,8.27,8.26,8.25,8.24,8.23,8.22,8.21,8.21,8.21,8.2,8.19,8.19,8.19,8.19,8.19,8.18,8.18,8.18,8.17,8.17,8.16,8.15,8.15,8.15,8.14,8.14,8.13,8.13,8.13,8.11,8.1,8.09,8.08,8.07,8.07,8.04,8.04,8.04,8.03,8.02,8.01,7.98,7.97,7.97,7.97,7.96,7.95,7.94,7.94,7.93,7.92,7.92,7.91,7.91,7.9,7.89,7.89,7.89,7.88,7.88,7.88,7.87,7.87,7.86,7.86,7.84,7.84,7.84,7.83,7.83,7.83,7.83,7.82,7.82,7.82,7.81,7.81,7.81,7.81,7.8],\"yaxis\":\"y\",\"type\":\"scatter\"},{\"hovertemplate\":\"\\u003cb\\u003e%{hovertext}\\u003c\\u002fb\\u003e\\u003cbr\\u003e\\u003cbr\\u003eDemographic=ShoujoShoujo\\u003cbr\\u003ePopularity=%{x}\\u003cbr\\u003eScore=%{y}\\u003cextra\\u003e\\u003c\\u002fextra\\u003e\",\"hovertext\":[\"Fruits Basket: The Final Season\",\"Natsume's Book of Friends Season 4\",\"Natsume's Book of Friends Season 6\",\"Natsume's Book of Friends Season 5\",\"Natsume's Book of Friends Season 3\",\"Nana\",\"Natsume's Book of Friends Season 2\",\"Fruits Basket 2nd Season\",\"Banana Fish\",\"Natsume's Book of Friends Movie: Ephemeral Bond\",\"Kyouko to Katsuya no Monogatari, The Story of Kyoko and Katsuya\",\"Natsume's Book of Friends Season 6 Specials\",\"The Rose of Versailles\",\"Natsume\\u2019s Book of Friends: On a Certain Snowy Day\",\"Natsume's Book of Friends Season 5 Specials\",\"Natsume's Book of Friends\",\"Into the Forest of Fireflies' Light\",\"A Sign of Affection\",\"Kamisama Kiss Season 2\",\"Whisper of the Heart\",\"Cardcaptor Sakura Movie 2: The Sealed Card\",\"Fruits Basket 1st Season\",\"Cardcaptor Sakura\",\"Natsume's Book of Friends: The Waking Rock and the Strange Visitor\",\"Ouran High School Host Club\",\"Kamisama Kiss\",\"Yona of the Dawn OVA\",\"Glass Mask\",\"Skip Beat!\",\"Kodocha\",\"Kamisama Kiss OVA\",\"Lovely Complex\",\"Yona of the Dawn\",\"Tales of Saiunkoku\",\"Kimi ni Todoke: From Me to You\",\"Maid Sama!\",\"Kimi ni Todoke: From Me to You Season 2\",\"Sacrificial Princess and the King of Beasts\",\"Snow White with the Red Hair 2\",\"Sailor Moon Sailor Stars\",\"Searching for the Full Moon\",\"Sailor Moon S\",\"The Yuzuki Family's Four Sons\",\"School Babysitters\",\"My Love Story!!\",\"Dear Brother\",\"The Story of Saiunkoku\",\"Yumeiro Patissiere, YumePati, Dream-Colored Pastry Chef, Yumeiro P\\u00e2tissi\\u00e8re\",\"Iga no Kabamaru, Ninja Boy\",\"Baby and Me\",\"Maria Watches Over Us 3rd\"],\"legendgroup\":\"ShoujoShoujo\",\"marker\":{\"color\":\"#ab63fa\",\"symbol\":\"circle\"},\"mode\":\"markers\",\"name\":\"ShoujoShoujo\",\"orientation\":\"v\",\"showlegend\":true,\"x\":[473,993,1283,1284,964,307,982,434,203,2537,1988,3212,2103,2377,3251,408,221,1183,557,648,1870,214,515,3736,129,316,1663,3528,896,2611,1696,369,208,3461,164,107,463,2541,653,1904,1951,1555,3043,689,300,3197,2116,2339,6072,4552,4570],\"xaxis\":\"x\",\"y\":[8.98,8.64,8.62,8.57,8.57,8.55,8.54,8.54,8.47,8.42,8.41,8.4,8.34,8.33,8.32,8.31,8.28,8.27,8.22,8.22,8.21,8.21,8.17,8.16,8.16,8.11,8.1,8.08,8.08,8.07,8.05,8.03,8.03,8.02,8.01,8.0,7.99,7.99,7.97,7.96,7.95,7.91,7.9,7.9,7.9,7.88,7.88,7.86,7.85,7.83,7.81],\"yaxis\":\"y\",\"type\":\"scatter\"},{\"hovertemplate\":\"\\u003cb\\u003e%{hovertext}\\u003c\\u002fb\\u003e\\u003cbr\\u003e\\u003cbr\\u003eDemographic=JoseiJosei\\u003cbr\\u003ePopularity=%{x}\\u003cbr\\u003eScore=%{y}\\u003cextra\\u003e\\u003c\\u002fextra\\u003e\",\"hovertext\":[\"Descending Stories: Showa Genroku Rakugo Shinju\",\"Showa Genroku Rakugo Shinju\",\"Chihayafull 3\",\"Chihayafull 2\",\"Bunny Drop\",\"Kids on the Slope\",\"Nodame Cantabile\",\"Nodame Cantabile Third Season, Nodame Cantabile Season 3\",\"Honey and Clover II\",\"Chihayafuru\",\"Nodame Cantabile Paris Chapter, Nodame Cantabile Pari-hen\",\"Princess Jellyfish\",\"Honey and Clover\",\"Bunny Drop Specials\",\"Polar Bear Cafe\",\"Paradise Kiss\"],\"legendgroup\":\"JoseiJosei\",\"marker\":{\"color\":\"#FFA15A\",\"symbol\":\"circle\"},\"mode\":\"markers\",\"name\":\"JoseiJosei\",\"orientation\":\"v\",\"showlegend\":true,\"x\":[1274,835,1613,1028,449,600,759,1741,1989,488,1768,1015,903,2582,2148,1068],\"xaxis\":\"x\",\"y\":[8.72,8.56,8.46,8.38,8.34,8.3,8.26,8.23,8.2,8.18,8.14,8.11,8.0,7.93,7.9,7.86],\"yaxis\":\"y\",\"type\":\"scatter\"},{\"hovertemplate\":\"\\u003cb\\u003e%{hovertext}\\u003c\\u002fb\\u003e\\u003cbr\\u003e\\u003cbr\\u003eDemographic=KidsKids\\u003cbr\\u003ePopularity=%{x}\\u003cbr\\u003eScore=%{y}\\u003cextra\\u003e\\u003c\\u002fextra\\u003e\",\"hovertext\":[\"Mumins, Delightful Moomin Family, Fun Family Moomin, The Moomins, Tales From Moominvalley\",\"Stand By Me Doraemon 2\",\"Heart and Yummie\",\"Nobody's Boy Remi\"],\"legendgroup\":\"KidsKids\",\"marker\":{\"color\":\"#19d3f3\",\"symbol\":\"circle\"},\"mode\":\"markers\",\"name\":\"KidsKids\",\"orientation\":\"v\",\"showlegend\":true,\"x\":[4217,4480,4845,5276],\"xaxis\":\"x\",\"y\":[8.24,8.19,8.03,7.89],\"yaxis\":\"y\",\"type\":\"scatter\"}],                        {\"template\":{\"data\":{\"barpolar\":[{\"marker\":{\"line\":{\"color\":\"rgb(17,17,17)\",\"width\":0.5},\"pattern\":{\"fillmode\":\"overlay\",\"size\":10,\"solidity\":0.2}},\"type\":\"barpolar\"}],\"bar\":[{\"error_x\":{\"color\":\"#f2f5fa\"},\"error_y\":{\"color\":\"#f2f5fa\"},\"marker\":{\"line\":{\"color\":\"rgb(17,17,17)\",\"width\":0.5},\"pattern\":{\"fillmode\":\"overlay\",\"size\":10,\"solidity\":0.2}},\"type\":\"bar\"}],\"carpet\":[{\"aaxis\":{\"endlinecolor\":\"#A2B1C6\",\"gridcolor\":\"#506784\",\"linecolor\":\"#506784\",\"minorgridcolor\":\"#506784\",\"startlinecolor\":\"#A2B1C6\"},\"baxis\":{\"endlinecolor\":\"#A2B1C6\",\"gridcolor\":\"#506784\",\"linecolor\":\"#506784\",\"minorgridcolor\":\"#506784\",\"startlinecolor\":\"#A2B1C6\"},\"type\":\"carpet\"}],\"choropleth\":[{\"colorbar\":{\"outlinewidth\":0,\"ticks\":\"\"},\"type\":\"choropleth\"}],\"contourcarpet\":[{\"colorbar\":{\"outlinewidth\":0,\"ticks\":\"\"},\"type\":\"contourcarpet\"}],\"contour\":[{\"colorbar\":{\"outlinewidth\":0,\"ticks\":\"\"},\"colorscale\":[[0.0,\"#0d0887\"],[0.1111111111111111,\"#46039f\"],[0.2222222222222222,\"#7201a8\"],[0.3333333333333333,\"#9c179e\"],[0.4444444444444444,\"#bd3786\"],[0.5555555555555556,\"#d8576b\"],[0.6666666666666666,\"#ed7953\"],[0.7777777777777778,\"#fb9f3a\"],[0.8888888888888888,\"#fdca26\"],[1.0,\"#f0f921\"]],\"type\":\"contour\"}],\"heatmapgl\":[{\"colorbar\":{\"outlinewidth\":0,\"ticks\":\"\"},\"colorscale\":[[0.0,\"#0d0887\"],[0.1111111111111111,\"#46039f\"],[0.2222222222222222,\"#7201a8\"],[0.3333333333333333,\"#9c179e\"],[0.4444444444444444,\"#bd3786\"],[0.5555555555555556,\"#d8576b\"],[0.6666666666666666,\"#ed7953\"],[0.7777777777777778,\"#fb9f3a\"],[0.8888888888888888,\"#fdca26\"],[1.0,\"#f0f921\"]],\"type\":\"heatmapgl\"}],\"heatmap\":[{\"colorbar\":{\"outlinewidth\":0,\"ticks\":\"\"},\"colorscale\":[[0.0,\"#0d0887\"],[0.1111111111111111,\"#46039f\"],[0.2222222222222222,\"#7201a8\"],[0.3333333333333333,\"#9c179e\"],[0.4444444444444444,\"#bd3786\"],[0.5555555555555556,\"#d8576b\"],[0.6666666666666666,\"#ed7953\"],[0.7777777777777778,\"#fb9f3a\"],[0.8888888888888888,\"#fdca26\"],[1.0,\"#f0f921\"]],\"type\":\"heatmap\"}],\"histogram2dcontour\":[{\"colorbar\":{\"outlinewidth\":0,\"ticks\":\"\"},\"colorscale\":[[0.0,\"#0d0887\"],[0.1111111111111111,\"#46039f\"],[0.2222222222222222,\"#7201a8\"],[0.3333333333333333,\"#9c179e\"],[0.4444444444444444,\"#bd3786\"],[0.5555555555555556,\"#d8576b\"],[0.6666666666666666,\"#ed7953\"],[0.7777777777777778,\"#fb9f3a\"],[0.8888888888888888,\"#fdca26\"],[1.0,\"#f0f921\"]],\"type\":\"histogram2dcontour\"}],\"histogram2d\":[{\"colorbar\":{\"outlinewidth\":0,\"ticks\":\"\"},\"colorscale\":[[0.0,\"#0d0887\"],[0.1111111111111111,\"#46039f\"],[0.2222222222222222,\"#7201a8\"],[0.3333333333333333,\"#9c179e\"],[0.4444444444444444,\"#bd3786\"],[0.5555555555555556,\"#d8576b\"],[0.6666666666666666,\"#ed7953\"],[0.7777777777777778,\"#fb9f3a\"],[0.8888888888888888,\"#fdca26\"],[1.0,\"#f0f921\"]],\"type\":\"histogram2d\"}],\"histogram\":[{\"marker\":{\"pattern\":{\"fillmode\":\"overlay\",\"size\":10,\"solidity\":0.2}},\"type\":\"histogram\"}],\"mesh3d\":[{\"colorbar\":{\"outlinewidth\":0,\"ticks\":\"\"},\"type\":\"mesh3d\"}],\"parcoords\":[{\"line\":{\"colorbar\":{\"outlinewidth\":0,\"ticks\":\"\"}},\"type\":\"parcoords\"}],\"pie\":[{\"automargin\":true,\"type\":\"pie\"}],\"scatter3d\":[{\"line\":{\"colorbar\":{\"outlinewidth\":0,\"ticks\":\"\"}},\"marker\":{\"colorbar\":{\"outlinewidth\":0,\"ticks\":\"\"}},\"type\":\"scatter3d\"}],\"scattercarpet\":[{\"marker\":{\"colorbar\":{\"outlinewidth\":0,\"ticks\":\"\"}},\"type\":\"scattercarpet\"}],\"scattergeo\":[{\"marker\":{\"colorbar\":{\"outlinewidth\":0,\"ticks\":\"\"}},\"type\":\"scattergeo\"}],\"scattergl\":[{\"marker\":{\"line\":{\"color\":\"#283442\"}},\"type\":\"scattergl\"}],\"scattermapbox\":[{\"marker\":{\"colorbar\":{\"outlinewidth\":0,\"ticks\":\"\"}},\"type\":\"scattermapbox\"}],\"scatterpolargl\":[{\"marker\":{\"colorbar\":{\"outlinewidth\":0,\"ticks\":\"\"}},\"type\":\"scatterpolargl\"}],\"scatterpolar\":[{\"marker\":{\"colorbar\":{\"outlinewidth\":0,\"ticks\":\"\"}},\"type\":\"scatterpolar\"}],\"scatter\":[{\"marker\":{\"line\":{\"color\":\"#283442\"}},\"type\":\"scatter\"}],\"scatterternary\":[{\"marker\":{\"colorbar\":{\"outlinewidth\":0,\"ticks\":\"\"}},\"type\":\"scatterternary\"}],\"surface\":[{\"colorbar\":{\"outlinewidth\":0,\"ticks\":\"\"},\"colorscale\":[[0.0,\"#0d0887\"],[0.1111111111111111,\"#46039f\"],[0.2222222222222222,\"#7201a8\"],[0.3333333333333333,\"#9c179e\"],[0.4444444444444444,\"#bd3786\"],[0.5555555555555556,\"#d8576b\"],[0.6666666666666666,\"#ed7953\"],[0.7777777777777778,\"#fb9f3a\"],[0.8888888888888888,\"#fdca26\"],[1.0,\"#f0f921\"]],\"type\":\"surface\"}],\"table\":[{\"cells\":{\"fill\":{\"color\":\"#506784\"},\"line\":{\"color\":\"rgb(17,17,17)\"}},\"header\":{\"fill\":{\"color\":\"#2a3f5f\"},\"line\":{\"color\":\"rgb(17,17,17)\"}},\"type\":\"table\"}]},\"layout\":{\"annotationdefaults\":{\"arrowcolor\":\"#f2f5fa\",\"arrowhead\":0,\"arrowwidth\":1},\"autotypenumbers\":\"strict\",\"coloraxis\":{\"colorbar\":{\"outlinewidth\":0,\"ticks\":\"\"}},\"colorscale\":{\"diverging\":[[0,\"#8e0152\"],[0.1,\"#c51b7d\"],[0.2,\"#de77ae\"],[0.3,\"#f1b6da\"],[0.4,\"#fde0ef\"],[0.5,\"#f7f7f7\"],[0.6,\"#e6f5d0\"],[0.7,\"#b8e186\"],[0.8,\"#7fbc41\"],[0.9,\"#4d9221\"],[1,\"#276419\"]],\"sequential\":[[0.0,\"#0d0887\"],[0.1111111111111111,\"#46039f\"],[0.2222222222222222,\"#7201a8\"],[0.3333333333333333,\"#9c179e\"],[0.4444444444444444,\"#bd3786\"],[0.5555555555555556,\"#d8576b\"],[0.6666666666666666,\"#ed7953\"],[0.7777777777777778,\"#fb9f3a\"],[0.8888888888888888,\"#fdca26\"],[1.0,\"#f0f921\"]],\"sequentialminus\":[[0.0,\"#0d0887\"],[0.1111111111111111,\"#46039f\"],[0.2222222222222222,\"#7201a8\"],[0.3333333333333333,\"#9c179e\"],[0.4444444444444444,\"#bd3786\"],[0.5555555555555556,\"#d8576b\"],[0.6666666666666666,\"#ed7953\"],[0.7777777777777778,\"#fb9f3a\"],[0.8888888888888888,\"#fdca26\"],[1.0,\"#f0f921\"]]},\"colorway\":[\"#636efa\",\"#EF553B\",\"#00cc96\",\"#ab63fa\",\"#FFA15A\",\"#19d3f3\",\"#FF6692\",\"#B6E880\",\"#FF97FF\",\"#FECB52\"],\"font\":{\"color\":\"#f2f5fa\"},\"geo\":{\"bgcolor\":\"rgb(17,17,17)\",\"lakecolor\":\"rgb(17,17,17)\",\"landcolor\":\"rgb(17,17,17)\",\"showlakes\":true,\"showland\":true,\"subunitcolor\":\"#506784\"},\"hoverlabel\":{\"align\":\"left\"},\"hovermode\":\"closest\",\"mapbox\":{\"style\":\"dark\"},\"paper_bgcolor\":\"rgb(17,17,17)\",\"plot_bgcolor\":\"rgb(17,17,17)\",\"polar\":{\"angularaxis\":{\"gridcolor\":\"#506784\",\"linecolor\":\"#506784\",\"ticks\":\"\"},\"bgcolor\":\"rgb(17,17,17)\",\"radialaxis\":{\"gridcolor\":\"#506784\",\"linecolor\":\"#506784\",\"ticks\":\"\"}},\"scene\":{\"xaxis\":{\"backgroundcolor\":\"rgb(17,17,17)\",\"gridcolor\":\"#506784\",\"gridwidth\":2,\"linecolor\":\"#506784\",\"showbackground\":true,\"ticks\":\"\",\"zerolinecolor\":\"#C8D4E3\"},\"yaxis\":{\"backgroundcolor\":\"rgb(17,17,17)\",\"gridcolor\":\"#506784\",\"gridwidth\":2,\"linecolor\":\"#506784\",\"showbackground\":true,\"ticks\":\"\",\"zerolinecolor\":\"#C8D4E3\"},\"zaxis\":{\"backgroundcolor\":\"rgb(17,17,17)\",\"gridcolor\":\"#506784\",\"gridwidth\":2,\"linecolor\":\"#506784\",\"showbackground\":true,\"ticks\":\"\",\"zerolinecolor\":\"#C8D4E3\"}},\"shapedefaults\":{\"line\":{\"color\":\"#f2f5fa\"}},\"sliderdefaults\":{\"bgcolor\":\"#C8D4E3\",\"bordercolor\":\"rgb(17,17,17)\",\"borderwidth\":1,\"tickwidth\":0},\"ternary\":{\"aaxis\":{\"gridcolor\":\"#506784\",\"linecolor\":\"#506784\",\"ticks\":\"\"},\"baxis\":{\"gridcolor\":\"#506784\",\"linecolor\":\"#506784\",\"ticks\":\"\"},\"bgcolor\":\"rgb(17,17,17)\",\"caxis\":{\"gridcolor\":\"#506784\",\"linecolor\":\"#506784\",\"ticks\":\"\"}},\"title\":{\"x\":0.05},\"updatemenudefaults\":{\"bgcolor\":\"#506784\",\"borderwidth\":0},\"xaxis\":{\"automargin\":true,\"gridcolor\":\"#283442\",\"linecolor\":\"#506784\",\"ticks\":\"\",\"title\":{\"standoff\":15},\"zerolinecolor\":\"#283442\",\"zerolinewidth\":2},\"yaxis\":{\"automargin\":true,\"gridcolor\":\"#283442\",\"linecolor\":\"#506784\",\"ticks\":\"\",\"title\":{\"standoff\":15},\"zerolinecolor\":\"#283442\",\"zerolinewidth\":2}}},\"xaxis\":{\"anchor\":\"y\",\"domain\":[0.0,1.0],\"title\":{\"text\":\"Popularity\"}},\"yaxis\":{\"anchor\":\"x\",\"domain\":[0.0,1.0],\"title\":{\"text\":\"Score\"}},\"legend\":{\"title\":{\"text\":\"Demographic\"},\"tracegroupgap\":0},\"title\":{\"text\":\"Popularity vs. Score Colored by Demographic\"},\"width\":900,\"height\":600},                        {\"responsive\": true}                    ).then(function(){\n",
       "                            \n",
       "var gd = document.getElementById('9a9f3200-d070-4bce-b11a-306d0cdbcdf3');\n",
       "var x = new MutationObserver(function (mutations, observer) {{\n",
       "        var display = window.getComputedStyle(gd).display;\n",
       "        if (!display || display === 'none') {{\n",
       "            console.log([gd, 'removed!']);\n",
       "            Plotly.purge(gd);\n",
       "            observer.disconnect();\n",
       "        }}\n",
       "}});\n",
       "\n",
       "// Listen for the removal of the full notebook cells\n",
       "var notebookContainer = gd.closest('#notebook-container');\n",
       "if (notebookContainer) {{\n",
       "    x.observe(notebookContainer, {childList: true});\n",
       "}}\n",
       "\n",
       "// Listen for the clearing of the current output cell\n",
       "var outputEl = gd.closest('.output');\n",
       "if (outputEl) {{\n",
       "    x.observe(outputEl, {childList: true});\n",
       "}}\n",
       "\n",
       "                        })                };                });            </script>        </div>"
      ]
     },
     "metadata": {},
     "output_type": "display_data"
    }
   ],
   "source": [
    "# scatter plots showing Popularity vs. Score colored by Demographic.\n",
    "fig = px.scatter(anime_data2, x = 'Popularity',y = 'Score', color='Demographic', hover_name = 'English',title=\"Popularity vs. Score Colored by Demographic\",\n",
    "                labels={'Popularity': 'Popularity', 'Score': 'Score'},template = 'plotly_dark')\n",
    "fig.update_layout(width=900, height=600)\n",
    "fig.show()"
   ]
  },
  {
   "cell_type": "code",
   "execution_count": 62,
   "id": "6673cd1f-a9c5-4a8e-905b-7c0dd867eae5",
   "metadata": {},
   "outputs": [
    {
     "name": "stdout",
     "output_type": "stream",
     "text": [
      "Top 10 Most Prevalent Genres:\n",
      "Genres\n",
      "ActionAction                346\n",
      "DramaDrama                  278\n",
      "FantasyFantasy              254\n",
      "ComedyComedy                228\n",
      "AdventureAdventure          221\n",
      "ShounenShounen              214\n",
      "Sci-FiSci-Fi                175\n",
      "RomanceRomance              150\n",
      "SupernaturalSupernatural    145\n",
      "MysteryMystery              143\n",
      "Name: count, dtype: int64\n"
     ]
    }
   ],
   "source": [
    "#finding our Top 10 Genre\n",
    "top_genres = anime_data2['Genres'].str.split(',').explode().str.strip().value_counts().head(10)\n",
    "print(\"Top 10 Most Prevalent Genres:\")\n",
    "print(top_genres)"
   ]
  },
  {
   "cell_type": "code",
   "execution_count": 66,
   "id": "4f9f3d19-ec90-4714-8c87-abf867265ba5",
   "metadata": {},
   "outputs": [
    {
     "name": "stdout",
     "output_type": "stream",
     "text": [
      "Top 10 Studios Producing the Most Animes:\n",
      "Studios\n",
      "Madhouse             61\n",
      "Production I.G       60\n",
      "Sunrise              49\n",
      "TMS Entertainment    48\n",
      "Bones                40\n",
      "A-1 Pictures         36\n",
      "Kyoto Animation      36\n",
      "Toei Animation       34\n",
      "J.C.Staff            31\n",
      "Shaft                30\n",
      "Name: count, dtype: int64\n"
     ]
    }
   ],
   "source": [
    "#finding out Top 10 Studios\n",
    "top_studios = anime_data2['Studios'].str.split(',').explode().str.strip().value_counts().head(10)\n",
    "print(\"Top 10 Studios Producing the Most Animes:\")\n",
    "print(top_studios)"
   ]
  },
  {
   "cell_type": "code",
   "execution_count": 100,
   "id": "b194eecb-7ad3-4d8c-95fb-56104486f8a0",
   "metadata": {},
   "outputs": [
    {
     "data": {
      "image/png": "[encoded data removed]",
      "text/plain": [
       "<Figure size 2400x1200 with 1 Axes>"
      ]
     },
     "metadata": {},
     "output_type": "display_data"
    }
   ],
   "source": [
    "#anime Popularity\n",
    "anime_popularity = anime_data2[['English','Popularity']]\n",
    "anime_popularity_sort = anime_popularity.sort_values(by = 'Popularity',ascending = True).head(20)\n",
    "plt.figure(figsize=(16,8),dpi = 150)\n",
    "sns.barplot(data = anime_popularity_sort, x = 'English', y = 'Popularity')\n",
    "plt.title('Anime Popularity Top 20')\n",
    "plt.xlabel('Title in English')\n",
    "plt.xticks(rotation=90)\n",
    "plt.show()"
   ]
  },
  {
   "cell_type": "code",
   "execution_count": 132,
   "id": "18ffd7e0-86b1-4083-86fb-afb2e3852913",
   "metadata": {},
   "outputs": [
    {
     "data": {
      "image/png": "[encoded data removed]",
      "text/plain": [
       "<Figure size 1200x800 with 1 Axes>"
      ]
     },
     "metadata": {},
     "output_type": "display_data"
    }
   ],
   "source": [
    "#average rating of anime with respect to episodes\n",
    "average_rating = anime_data2.groupby('Episodes')['Score'].mean()\n",
    "plt.figure(figsize=(12,8))\n",
    "sns.lineplot(data = average_rating, x = average_rating.index, y = average_rating.values,marker = 'o')\n",
    "plt.xlabel('Number of Episodes')\n",
    "plt.ylabel('Average Rating')\n",
    "plt.xticks(ticks=average_rating.index[::10], rotation=90)\n",
    "plt.title('Average Rating by Number of Episodes')\n",
    "plt.grid()\n",
    "plt.show()"
   ]
  },
  {
   "cell_type": "code",
   "execution_count": 140,
   "id": "6e5a63f5-c98e-4cc6-bdaf-0389756f1b89",
   "metadata": {},
   "outputs": [
    {
     "data": {
      "application/vnd.plotly.v1+json": {
       "config": {
        "plotlyServerURL": "https://plot.ly"
       },
       "data": [
        {
         "domain": {
          "x": [
           0,
           1
          ],
          "y": [
           0,
           1
          ]
         },
         "hole": 0.3,
         "hovertemplate": "Type=%{label}<br>Count=%{value}<extra></extra>",
         "labels": [
          "TV",
          "Movie",
          "OVA",
          "ONA",
          "Special",
          "TV Special"
         ],
         "legendgroup": "",
         "name": "",
         "showlegend": true,
         "textinfo": "percent+label",
         "type": "pie",
         "values": [
          540,
          225,
          80,
          50,
          36,
          22
         ]
        }
       ],
       "layout": {
        "height": 600,
        "legend": {
         "tracegroupgap": 0
        },
        "template": {
         "data": {
          "bar": [
           {
            "error_x": {
             "color": "#2a3f5f"
            },
            "error_y": {
             "color": "#2a3f5f"
            },
            "marker": {
             "line": {
              "color": "#E5ECF6",
              "width": 0.5
             },
             "pattern": {
              "fillmode": "overlay",
              "size": 10,
              "solidity": 0.2
             }
            },
            "type": "bar"
           }
          ],
          "barpolar": [
           {
            "marker": {
             "line": {
              "color": "#E5ECF6",
              "width": 0.5
             },
             "pattern": {
              "fillmode": "overlay",
              "size": 10,
              "solidity": 0.2
             }
            },
            "type": "barpolar"
           }
          ],
          "carpet": [
           {
            "aaxis": {
             "endlinecolor": "#2a3f5f",
             "gridcolor": "white",
             "linecolor": "white",
             "minorgridcolor": "white",
             "startlinecolor": "#2a3f5f"
            },
            "baxis": {
             "endlinecolor": "#2a3f5f",
             "gridcolor": "white",
             "linecolor": "white",
             "minorgridcolor": "white",
             "startlinecolor": "#2a3f5f"
            },
            "type": "carpet"
           }
          ],
          "choropleth": [
           {
            "colorbar": {
             "outlinewidth": 0,
             "ticks": ""
            },
            "type": "choropleth"
           }
          ],
          "contour": [
           {
            "colorbar": {
             "outlinewidth": 0,
             "ticks": ""
            },
            "colorscale": [
             [
              0,
              "#0d0887"
             ],
             [
              0.1111111111111111,
              "#46039f"
             ],
             [
              0.2222222222222222,
              "#7201a8"
             ],
             [
              0.3333333333333333,
              "#9c179e"
             ],
             [
              0.4444444444444444,
              "#bd3786"
             ],
             [
              0.5555555555555556,
              "#d8576b"
             ],
             [
              0.6666666666666666,
              "#ed7953"
             ],
             [
              0.7777777777777778,
              "#fb9f3a"
             ],
             [
              0.8888888888888888,
              "#fdca26"
             ],
             [
              1,
              "#f0f921"
             ]
            ],
            "type": "contour"
           }
          ],
          "contourcarpet": [
           {
            "colorbar": {
             "outlinewidth": 0,
             "ticks": ""
            },
            "type": "contourcarpet"
           }
          ],
          "heatmap": [
           {
            "colorbar": {
             "outlinewidth": 0,
             "ticks": ""
            },
            "colorscale": [
             [
              0,
              "#0d0887"
             ],
             [
              0.1111111111111111,
              "#46039f"
             ],
             [
              0.2222222222222222,
              "#7201a8"
             ],
             [
              0.3333333333333333,
              "#9c179e"
             ],
             [
              0.4444444444444444,
              "#bd3786"
             ],
             [
              0.5555555555555556,
              "#d8576b"
             ],
             [
              0.6666666666666666,
              "#ed7953"
             ],
             [
              0.7777777777777778,
              "#fb9f3a"
             ],
             [
              0.8888888888888888,
              "#fdca26"
             ],
             [
              1,
              "#f0f921"
             ]
            ],
            "type": "heatmap"
           }
          ],
          "heatmapgl": [
           {
            "colorbar": {
             "outlinewidth": 0,
             "ticks": ""
            },
            "colorscale": [
             [
              0,
              "#0d0887"
             ],
             [
              0.1111111111111111,
              "#46039f"
             ],
             [
              0.2222222222222222,
              "#7201a8"
             ],
             [
              0.3333333333333333,
              "#9c179e"
             ],
             [
              0.4444444444444444,
              "#bd3786"
             ],
             [
              0.5555555555555556,
              "#d8576b"
             ],
             [
              0.6666666666666666,
              "#ed7953"
             ],
             [
              0.7777777777777778,
              "#fb9f3a"
             ],
             [
              0.8888888888888888,
              "#fdca26"
             ],
             [
              1,
              "#f0f921"
             ]
            ],
            "type": "heatmapgl"
           }
          ],
          "histogram": [
           {
            "marker": {
             "pattern": {
              "fillmode": "overlay",
              "size": 10,
              "solidity": 0.2
             }
            },
            "type": "histogram"
           }
          ],
          "histogram2d": [
           {
            "colorbar": {
             "outlinewidth": 0,
             "ticks": ""
            },
            "colorscale": [
             [
              0,
              "#0d0887"
             ],
             [
              0.1111111111111111,
              "#46039f"
             ],
             [
              0.2222222222222222,
              "#7201a8"
             ],
             [
              0.3333333333333333,
              "#9c179e"
             ],
             [
              0.4444444444444444,
              "#bd3786"
             ],
             [
              0.5555555555555556,
              "#d8576b"
             ],
             [
              0.6666666666666666,
              "#ed7953"
             ],
             [
              0.7777777777777778,
              "#fb9f3a"
             ],
             [
              0.8888888888888888,
              "#fdca26"
             ],
             [
              1,
              "#f0f921"
             ]
            ],
            "type": "histogram2d"
           }
          ],
          "histogram2dcontour": [
           {
            "colorbar": {
             "outlinewidth": 0,
             "ticks": ""
            },
            "colorscale": [
             [
              0,
              "#0d0887"
             ],
             [
              0.1111111111111111,
              "#46039f"
             ],
             [
              0.2222222222222222,
              "#7201a8"
             ],
             [
              0.3333333333333333,
              "#9c179e"
             ],
             [
              0.4444444444444444,
              "#bd3786"
             ],
             [
              0.5555555555555556,
              "#d8576b"
             ],
             [
              0.6666666666666666,
              "#ed7953"
             ],
             [
              0.7777777777777778,
              "#fb9f3a"
             ],
             [
              0.8888888888888888,
              "#fdca26"
             ],
             [
              1,
              "#f0f921"
             ]
            ],
            "type": "histogram2dcontour"
           }
          ],
          "mesh3d": [
           {
            "colorbar": {
             "outlinewidth": 0,
             "ticks": ""
            },
            "type": "mesh3d"
           }
          ],
          "parcoords": [
           {
            "line": {
             "colorbar": {
              "outlinewidth": 0,
              "ticks": ""
             }
            },
            "type": "parcoords"
           }
          ],
          "pie": [
           {
            "automargin": true,
            "type": "pie"
           }
          ],
          "scatter": [
           {
            "fillpattern": {
             "fillmode": "overlay",
             "size": 10,
             "solidity": 0.2
            },
            "type": "scatter"
           }
          ],
          "scatter3d": [
           {
            "line": {
             "colorbar": {
              "outlinewidth": 0,
              "ticks": ""
             }
            },
            "marker": {
             "colorbar": {
              "outlinewidth": 0,
              "ticks": ""
             }
            },
            "type": "scatter3d"
           }
          ],
          "scattercarpet": [
           {
            "marker": {
             "colorbar": {
              "outlinewidth": 0,
              "ticks": ""
             }
            },
            "type": "scattercarpet"
           }
          ],
          "scattergeo": [
           {
            "marker": {
             "colorbar": {
              "outlinewidth": 0,
              "ticks": ""
             }
            },
            "type": "scattergeo"
           }
          ],
          "scattergl": [
           {
            "marker": {
             "colorbar": {
              "outlinewidth": 0,
              "ticks": ""
             }
            },
            "type": "scattergl"
           }
          ],
          "scattermapbox": [
           {
            "marker": {
             "colorbar": {
              "outlinewidth": 0,
              "ticks": ""
             }
            },
            "type": "scattermapbox"
           }
          ],
          "scatterpolar": [
           {
            "marker": {
             "colorbar": {
              "outlinewidth": 0,
              "ticks": ""
             }
            },
            "type": "scatterpolar"
           }
          ],
          "scatterpolargl": [
           {
            "marker": {
             "colorbar": {
              "outlinewidth": 0,
              "ticks": ""
             }
            },
            "type": "scatterpolargl"
           }
          ],
          "scatterternary": [
           {
            "marker": {
             "colorbar": {
              "outlinewidth": 0,
              "ticks": ""
             }
            },
            "type": "scatterternary"
           }
          ],
          "surface": [
           {
            "colorbar": {
             "outlinewidth": 0,
             "ticks": ""
            },
            "colorscale": [
             [
              0,
              "#0d0887"
             ],
             [
              0.1111111111111111,
              "#46039f"
             ],
             [
              0.2222222222222222,
              "#7201a8"
             ],
             [
              0.3333333333333333,
              "#9c179e"
             ],
             [
              0.4444444444444444,
              "#bd3786"
             ],
             [
              0.5555555555555556,
              "#d8576b"
             ],
             [
              0.6666666666666666,
              "#ed7953"
             ],
             [
              0.7777777777777778,
              "#fb9f3a"
             ],
             [
              0.8888888888888888,
              "#fdca26"
             ],
             [
              1,
              "#f0f921"
             ]
            ],
            "type": "surface"
           }
          ],
          "table": [
           {
            "cells": {
             "fill": {
              "color": "#EBF0F8"
             },
             "line": {
              "color": "white"
             }
            },
            "header": {
             "fill": {
              "color": "#C8D4E3"
             },
             "line": {
              "color": "white"
             }
            },
            "type": "table"
           }
          ]
         },
         "layout": {
          "annotationdefaults": {
           "arrowcolor": "#2a3f5f",
           "arrowhead": 0,
           "arrowwidth": 1
          },
          "autotypenumbers": "strict",
          "coloraxis": {
           "colorbar": {
            "outlinewidth": 0,
            "ticks": ""
           }
          },
          "colorscale": {
           "diverging": [
            [
             0,
             "#8e0152"
            ],
            [
             0.1,
             "#c51b7d"
            ],
            [
             0.2,
             "#de77ae"
            ],
            [
             0.3,
             "#f1b6da"
            ],
            [
             0.4,
             "#fde0ef"
            ],
            [
             0.5,
             "#f7f7f7"
            ],
            [
             0.6,
             "#e6f5d0"
            ],
            [
             0.7,
             "#b8e186"
            ],
            [
             0.8,
             "#7fbc41"
            ],
            [
             0.9,
             "#4d9221"
            ],
            [
             1,
             "#276419"
            ]
           ],
           "sequential": [
            [
             0,
             "#0d0887"
            ],
            [
             0.1111111111111111,
             "#46039f"
            ],
            [
             0.2222222222222222,
             "#7201a8"
            ],
            [
             0.3333333333333333,
             "#9c179e"
            ],
            [
             0.4444444444444444,
             "#bd3786"
            ],
            [
             0.5555555555555556,
             "#d8576b"
            ],
            [
             0.6666666666666666,
             "#ed7953"
            ],
            [
             0.7777777777777778,
             "#fb9f3a"
            ],
            [
             0.8888888888888888,
             "#fdca26"
            ],
            [
             1,
             "#f0f921"
            ]
           ],
           "sequentialminus": [
            [
             0,
             "#0d0887"
            ],
            [
             0.1111111111111111,
             "#46039f"
            ],
            [
             0.2222222222222222,
             "#7201a8"
            ],
            [
             0.3333333333333333,
             "#9c179e"
            ],
            [
             0.4444444444444444,
             "#bd3786"
            ],
            [
             0.5555555555555556,
             "#d8576b"
            ],
            [
             0.6666666666666666,
             "#ed7953"
            ],
            [
             0.7777777777777778,
             "#fb9f3a"
            ],
            [
             0.8888888888888888,
             "#fdca26"
            ],
            [
             1,
             "#f0f921"
            ]
           ]
          },
          "colorway": [
           "#636efa",
           "#EF553B",
           "#00cc96",
           "#ab63fa",
           "#FFA15A",
           "#19d3f3",
           "#FF6692",
           "#B6E880",
           "#FF97FF",
           "#FECB52"
          ],
          "font": {
           "color": "#2a3f5f"
          },
          "geo": {
           "bgcolor": "white",
           "lakecolor": "white",
           "landcolor": "#E5ECF6",
           "showlakes": true,
           "showland": true,
           "subunitcolor": "white"
          },
          "hoverlabel": {
           "align": "left"
          },
          "hovermode": "closest",
          "mapbox": {
           "style": "light"
          },
          "paper_bgcolor": "white",
          "plot_bgcolor": "#E5ECF6",
          "polar": {
           "angularaxis": {
            "gridcolor": "white",
            "linecolor": "white",
            "ticks": ""
           },
           "bgcolor": "#E5ECF6",
           "radialaxis": {
            "gridcolor": "white",
            "linecolor": "white",
            "ticks": ""
           }
          },
          "scene": {
           "xaxis": {
            "backgroundcolor": "#E5ECF6",
            "gridcolor": "white",
            "gridwidth": 2,
            "linecolor": "white",
            "showbackground": true,
            "ticks": "",
            "zerolinecolor": "white"
           },
           "yaxis": {
            "backgroundcolor": "#E5ECF6",
            "gridcolor": "white",
            "gridwidth": 2,
            "linecolor": "white",
            "showbackground": true,
            "ticks": "",
            "zerolinecolor": "white"
           },
           "zaxis": {
            "backgroundcolor": "#E5ECF6",
            "gridcolor": "white",
            "gridwidth": 2,
            "linecolor": "white",
            "showbackground": true,
            "ticks": "",
            "zerolinecolor": "white"
           }
          },
          "shapedefaults": {
           "line": {
            "color": "#2a3f5f"
           }
          },
          "ternary": {
           "aaxis": {
            "gridcolor": "white",
            "linecolor": "white",
            "ticks": ""
           },
           "baxis": {
            "gridcolor": "white",
            "linecolor": "white",
            "ticks": ""
           },
           "bgcolor": "#E5ECF6",
           "caxis": {
            "gridcolor": "white",
            "linecolor": "white",
            "ticks": ""
           }
          },
          "title": {
           "x": 0.05
          },
          "xaxis": {
           "automargin": true,
           "gridcolor": "white",
           "linecolor": "white",
           "ticks": "",
           "title": {
            "standoff": 15
           },
           "zerolinecolor": "white",
           "zerolinewidth": 2
          },
          "yaxis": {
           "automargin": true,
           "gridcolor": "white",
           "linecolor": "white",
           "ticks": "",
           "title": {
            "standoff": 15
           },
           "zerolinecolor": "white",
           "zerolinewidth": 2
          }
         }
        },
        "title": {
         "text": "Distribution of Anime Types"
        },
        "width": 800
       }
      },
      "image/png": "[encoded data removed]",
      "text/html": [
       "<div>                            <div id=\"52d0e27a-8cf2-4303-b3d1-c7c574595663\" class=\"plotly-graph-div\" style=\"height:600px; width:800px;\"></div>            <script type=\"text/javascript\">                require([\"plotly\"], function(Plotly) {                    window.PLOTLYENV=window.PLOTLYENV || {};                                    if (document.getElementById(\"52d0e27a-8cf2-4303-b3d1-c7c574595663\")) {                    Plotly.newPlot(                        \"52d0e27a-8cf2-4303-b3d1-c7c574595663\",                        [{\"domain\":{\"x\":[0.0,1.0],\"y\":[0.0,1.0]},\"hovertemplate\":\"Type=%{label}\\u003cbr\\u003eCount=%{value}\\u003cextra\\u003e\\u003c\\u002fextra\\u003e\",\"labels\":[\"TV\",\"Movie\",\"OVA\",\"ONA\",\"Special\",\"TV Special\"],\"legendgroup\":\"\",\"name\":\"\",\"showlegend\":true,\"values\":[540,225,80,50,36,22],\"type\":\"pie\",\"hole\":0.3,\"textinfo\":\"percent+label\"}],                        {\"template\":{\"data\":{\"histogram2dcontour\":[{\"type\":\"histogram2dcontour\",\"colorbar\":{\"outlinewidth\":0,\"ticks\":\"\"},\"colorscale\":[[0.0,\"#0d0887\"],[0.1111111111111111,\"#46039f\"],[0.2222222222222222,\"#7201a8\"],[0.3333333333333333,\"#9c179e\"],[0.4444444444444444,\"#bd3786\"],[0.5555555555555556,\"#d8576b\"],[0.6666666666666666,\"#ed7953\"],[0.7777777777777778,\"#fb9f3a\"],[0.8888888888888888,\"#fdca26\"],[1.0,\"#f0f921\"]]}],\"choropleth\":[{\"type\":\"choropleth\",\"colorbar\":{\"outlinewidth\":0,\"ticks\":\"\"}}],\"histogram2d\":[{\"type\":\"histogram2d\",\"colorbar\":{\"outlinewidth\":0,\"ticks\":\"\"},\"colorscale\":[[0.0,\"#0d0887\"],[0.1111111111111111,\"#46039f\"],[0.2222222222222222,\"#7201a8\"],[0.3333333333333333,\"#9c179e\"],[0.4444444444444444,\"#bd3786\"],[0.5555555555555556,\"#d8576b\"],[0.6666666666666666,\"#ed7953\"],[0.7777777777777778,\"#fb9f3a\"],[0.8888888888888888,\"#fdca26\"],[1.0,\"#f0f921\"]]}],\"heatmap\":[{\"type\":\"heatmap\",\"colorbar\":{\"outlinewidth\":0,\"ticks\":\"\"},\"colorscale\":[[0.0,\"#0d0887\"],[0.1111111111111111,\"#46039f\"],[0.2222222222222222,\"#7201a8\"],[0.3333333333333333,\"#9c179e\"],[0.4444444444444444,\"#bd3786\"],[0.5555555555555556,\"#d8576b\"],[0.6666666666666666,\"#ed7953\"],[0.7777777777777778,\"#fb9f3a\"],[0.8888888888888888,\"#fdca26\"],[1.0,\"#f0f921\"]]}],\"heatmapgl\":[{\"type\":\"heatmapgl\",\"colorbar\":{\"outlinewidth\":0,\"ticks\":\"\"},\"colorscale\":[[0.0,\"#0d0887\"],[0.1111111111111111,\"#46039f\"],[0.2222222222222222,\"#7201a8\"],[0.3333333333333333,\"#9c179e\"],[0.4444444444444444,\"#bd3786\"],[0.5555555555555556,\"#d8576b\"],[0.6666666666666666,\"#ed7953\"],[0.7777777777777778,\"#fb9f3a\"],[0.8888888888888888,\"#fdca26\"],[1.0,\"#f0f921\"]]}],\"contourcarpet\":[{\"type\":\"contourcarpet\",\"colorbar\":{\"outlinewidth\":0,\"ticks\":\"\"}}],\"contour\":[{\"type\":\"contour\",\"colorbar\":{\"outlinewidth\":0,\"ticks\":\"\"},\"colorscale\":[[0.0,\"#0d0887\"],[0.1111111111111111,\"#46039f\"],[0.2222222222222222,\"#7201a8\"],[0.3333333333333333,\"#9c179e\"],[0.4444444444444444,\"#bd3786\"],[0.5555555555555556,\"#d8576b\"],[0.6666666666666666,\"#ed7953\"],[0.7777777777777778,\"#fb9f3a\"],[0.8888888888888888,\"#fdca26\"],[1.0,\"#f0f921\"]]}],\"surface\":[{\"type\":\"surface\",\"colorbar\":{\"outlinewidth\":0,\"ticks\":\"\"},\"colorscale\":[[0.0,\"#0d0887\"],[0.1111111111111111,\"#46039f\"],[0.2222222222222222,\"#7201a8\"],[0.3333333333333333,\"#9c179e\"],[0.4444444444444444,\"#bd3786\"],[0.5555555555555556,\"#d8576b\"],[0.6666666666666666,\"#ed7953\"],[0.7777777777777778,\"#fb9f3a\"],[0.8888888888888888,\"#fdca26\"],[1.0,\"#f0f921\"]]}],\"mesh3d\":[{\"type\":\"mesh3d\",\"colorbar\":{\"outlinewidth\":0,\"ticks\":\"\"}}],\"scatter\":[{\"fillpattern\":{\"fillmode\":\"overlay\",\"size\":10,\"solidity\":0.2},\"type\":\"scatter\"}],\"parcoords\":[{\"type\":\"parcoords\",\"line\":{\"colorbar\":{\"outlinewidth\":0,\"ticks\":\"\"}}}],\"scatterpolargl\":[{\"type\":\"scatterpolargl\",\"marker\":{\"colorbar\":{\"outlinewidth\":0,\"ticks\":\"\"}}}],\"bar\":[{\"error_x\":{\"color\":\"#2a3f5f\"},\"error_y\":{\"color\":\"#2a3f5f\"},\"marker\":{\"line\":{\"color\":\"#E5ECF6\",\"width\":0.5},\"pattern\":{\"fillmode\":\"overlay\",\"size\":10,\"solidity\":0.2}},\"type\":\"bar\"}],\"scattergeo\":[{\"type\":\"scattergeo\",\"marker\":{\"colorbar\":{\"outlinewidth\":0,\"ticks\":\"\"}}}],\"scatterpolar\":[{\"type\":\"scatterpolar\",\"marker\":{\"colorbar\":{\"outlinewidth\":0,\"ticks\":\"\"}}}],\"histogram\":[{\"marker\":{\"pattern\":{\"fillmode\":\"overlay\",\"size\":10,\"solidity\":0.2}},\"type\":\"histogram\"}],\"scattergl\":[{\"type\":\"scattergl\",\"marker\":{\"colorbar\":{\"outlinewidth\":0,\"ticks\":\"\"}}}],\"scatter3d\":[{\"type\":\"scatter3d\",\"line\":{\"colorbar\":{\"outlinewidth\":0,\"ticks\":\"\"}},\"marker\":{\"colorbar\":{\"outlinewidth\":0,\"ticks\":\"\"}}}],\"scattermapbox\":[{\"type\":\"scattermapbox\",\"marker\":{\"colorbar\":{\"outlinewidth\":0,\"ticks\":\"\"}}}],\"scatterternary\":[{\"type\":\"scatterternary\",\"marker\":{\"colorbar\":{\"outlinewidth\":0,\"ticks\":\"\"}}}],\"scattercarpet\":[{\"type\":\"scattercarpet\",\"marker\":{\"colorbar\":{\"outlinewidth\":0,\"ticks\":\"\"}}}],\"carpet\":[{\"aaxis\":{\"endlinecolor\":\"#2a3f5f\",\"gridcolor\":\"white\",\"linecolor\":\"white\",\"minorgridcolor\":\"white\",\"startlinecolor\":\"#2a3f5f\"},\"baxis\":{\"endlinecolor\":\"#2a3f5f\",\"gridcolor\":\"white\",\"linecolor\":\"white\",\"minorgridcolor\":\"white\",\"startlinecolor\":\"#2a3f5f\"},\"type\":\"carpet\"}],\"table\":[{\"cells\":{\"fill\":{\"color\":\"#EBF0F8\"},\"line\":{\"color\":\"white\"}},\"header\":{\"fill\":{\"color\":\"#C8D4E3\"},\"line\":{\"color\":\"white\"}},\"type\":\"table\"}],\"barpolar\":[{\"marker\":{\"line\":{\"color\":\"#E5ECF6\",\"width\":0.5},\"pattern\":{\"fillmode\":\"overlay\",\"size\":10,\"solidity\":0.2}},\"type\":\"barpolar\"}],\"pie\":[{\"automargin\":true,\"type\":\"pie\"}]},\"layout\":{\"autotypenumbers\":\"strict\",\"colorway\":[\"#636efa\",\"#EF553B\",\"#00cc96\",\"#ab63fa\",\"#FFA15A\",\"#19d3f3\",\"#FF6692\",\"#B6E880\",\"#FF97FF\",\"#FECB52\"],\"font\":{\"color\":\"#2a3f5f\"},\"hovermode\":\"closest\",\"hoverlabel\":{\"align\":\"left\"},\"paper_bgcolor\":\"white\",\"plot_bgcolor\":\"#E5ECF6\",\"polar\":{\"bgcolor\":\"#E5ECF6\",\"angularaxis\":{\"gridcolor\":\"white\",\"linecolor\":\"white\",\"ticks\":\"\"},\"radialaxis\":{\"gridcolor\":\"white\",\"linecolor\":\"white\",\"ticks\":\"\"}},\"ternary\":{\"bgcolor\":\"#E5ECF6\",\"aaxis\":{\"gridcolor\":\"white\",\"linecolor\":\"white\",\"ticks\":\"\"},\"baxis\":{\"gridcolor\":\"white\",\"linecolor\":\"white\",\"ticks\":\"\"},\"caxis\":{\"gridcolor\":\"white\",\"linecolor\":\"white\",\"ticks\":\"\"}},\"coloraxis\":{\"colorbar\":{\"outlinewidth\":0,\"ticks\":\"\"}},\"colorscale\":{\"sequential\":[[0.0,\"#0d0887\"],[0.1111111111111111,\"#46039f\"],[0.2222222222222222,\"#7201a8\"],[0.3333333333333333,\"#9c179e\"],[0.4444444444444444,\"#bd3786\"],[0.5555555555555556,\"#d8576b\"],[0.6666666666666666,\"#ed7953\"],[0.7777777777777778,\"#fb9f3a\"],[0.8888888888888888,\"#fdca26\"],[1.0,\"#f0f921\"]],\"sequentialminus\":[[0.0,\"#0d0887\"],[0.1111111111111111,\"#46039f\"],[0.2222222222222222,\"#7201a8\"],[0.3333333333333333,\"#9c179e\"],[0.4444444444444444,\"#bd3786\"],[0.5555555555555556,\"#d8576b\"],[0.6666666666666666,\"#ed7953\"],[0.7777777777777778,\"#fb9f3a\"],[0.8888888888888888,\"#fdca26\"],[1.0,\"#f0f921\"]],\"diverging\":[[0,\"#8e0152\"],[0.1,\"#c51b7d\"],[0.2,\"#de77ae\"],[0.3,\"#f1b6da\"],[0.4,\"#fde0ef\"],[0.5,\"#f7f7f7\"],[0.6,\"#e6f5d0\"],[0.7,\"#b8e186\"],[0.8,\"#7fbc41\"],[0.9,\"#4d9221\"],[1,\"#276419\"]]},\"xaxis\":{\"gridcolor\":\"white\",\"linecolor\":\"white\",\"ticks\":\"\",\"title\":{\"standoff\":15},\"zerolinecolor\":\"white\",\"automargin\":true,\"zerolinewidth\":2},\"yaxis\":{\"gridcolor\":\"white\",\"linecolor\":\"white\",\"ticks\":\"\",\"title\":{\"standoff\":15},\"zerolinecolor\":\"white\",\"automargin\":true,\"zerolinewidth\":2},\"scene\":{\"xaxis\":{\"backgroundcolor\":\"#E5ECF6\",\"gridcolor\":\"white\",\"linecolor\":\"white\",\"showbackground\":true,\"ticks\":\"\",\"zerolinecolor\":\"white\",\"gridwidth\":2},\"yaxis\":{\"backgroundcolor\":\"#E5ECF6\",\"gridcolor\":\"white\",\"linecolor\":\"white\",\"showbackground\":true,\"ticks\":\"\",\"zerolinecolor\":\"white\",\"gridwidth\":2},\"zaxis\":{\"backgroundcolor\":\"#E5ECF6\",\"gridcolor\":\"white\",\"linecolor\":\"white\",\"showbackground\":true,\"ticks\":\"\",\"zerolinecolor\":\"white\",\"gridwidth\":2}},\"shapedefaults\":{\"line\":{\"color\":\"#2a3f5f\"}},\"annotationdefaults\":{\"arrowcolor\":\"#2a3f5f\",\"arrowhead\":0,\"arrowwidth\":1},\"geo\":{\"bgcolor\":\"white\",\"landcolor\":\"#E5ECF6\",\"subunitcolor\":\"white\",\"showland\":true,\"showlakes\":true,\"lakecolor\":\"white\"},\"title\":{\"x\":0.05},\"mapbox\":{\"style\":\"light\"}}},\"legend\":{\"tracegroupgap\":0},\"title\":{\"text\":\"Distribution of Anime Types\"},\"width\":800,\"height\":600},                        {\"responsive\": true}                    ).then(function(){\n",
       "                            \n",
       "var gd = document.getElementById('52d0e27a-8cf2-4303-b3d1-c7c574595663');\n",
       "var x = new MutationObserver(function (mutations, observer) {{\n",
       "        var display = window.getComputedStyle(gd).display;\n",
       "        if (!display || display === 'none') {{\n",
       "            console.log([gd, 'removed!']);\n",
       "            Plotly.purge(gd);\n",
       "            observer.disconnect();\n",
       "        }}\n",
       "}});\n",
       "\n",
       "// Listen for the removal of the full notebook cells\n",
       "var notebookContainer = gd.closest('#notebook-container');\n",
       "if (notebookContainer) {{\n",
       "    x.observe(notebookContainer, {childList: true});\n",
       "}}\n",
       "\n",
       "// Listen for the clearing of the current output cell\n",
       "var outputEl = gd.closest('.output');\n",
       "if (outputEl) {{\n",
       "    x.observe(outputEl, {childList: true});\n",
       "}}\n",
       "\n",
       "                        })                };                });            </script>        </div>"
      ]
     },
     "metadata": {},
     "output_type": "display_data"
    }
   ],
   "source": [
    "type_counts_df = type_counts.reset_index()\n",
    "type_counts_df.columns = ['Type', 'Count']\n",
    "fig = px.pie(type_counts_df, names='Type', values='Count', title='Distribution of Anime Types')\n",
    "fig.update_traces(textinfo='percent+label', hole=0.3)\n",
    "fig.update_layout(width=800, height=600)\n",
    "fig.show()"
   ]
  },
  {
   "cell_type": "code",
   "execution_count": null,
   "id": "48da7921-416a-43fd-a0d3-54d75e3dd6b8",
   "metadata": {},
   "outputs": [],
   "source": []
  }
 ],
 "metadata": {
  "kernelspec": {
   "display_name": "Python 3 (ipykernel)",
   "language": "python",
   "name": "python3"
  },
  "language_info": {
   "codemirror_mode": {
    "name": "ipython",
    "version": 3
   },
   "file_extension": ".py",
   "mimetype": "text/x-python",
   "name": "python",
   "nbconvert_exporter": "python",
   "pygments_lexer": "ipython3",
   "version": "3.11.5"
  }
 },
 "nbformat": 4,
 "nbformat_minor": 5
}
